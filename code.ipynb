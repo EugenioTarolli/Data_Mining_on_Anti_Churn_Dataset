{
 "cells": [
  {
   "cell_type": "markdown",
   "metadata": {
    "id": "tpyEVJKIPdSd"
   },
   "source": [
    "# Data Science Lab\n",
    "Our project is to extract information and value from this dataset regarding some services offered by a well-known company dealing with telephony,internet, etc.\n",
    "\n",
    "We will try to predict which customer will or will not abandon a certain service and it is a problem that can be solved through binary classification with Machine Learning models."
   ]
  },
  {
   "cell_type": "markdown",
   "metadata": {
    "id": "yT7JrmT7ffsd"
   },
   "source": [
    "As first we merge the datasets through command prompts and load the dataset."
   ]
  },
  {
   "cell_type": "markdown",
   "metadata": {
    "id": "fA5MDYiNQUNH"
   },
   "source": [
    "To merge the datasets we used cdm for convenience using the following commands:\n",
    "\n",
    "// Unzip files\n",
    "\n",
    "```\n",
    "bunzip2 part-0*.bz2\n",
    "bunzip2 part-1*.bz2\n",
    "bunzip2 part-2*.bz2\n",
    "bunzip2 part-3*.bz2\n",
    "\n",
    "```\n",
    "\n",
    "\n",
    "// Remove first line of each csv file (header) except for first file\n",
    "```\n",
    "mv part-00000-a291a4b5-694f-474b-a53d-944b00bb34ee.csv ../ \n",
    "sed -i '' 1d part-0*.csv\n",
    "sed -i '' 1d part-1*.csv\n",
    "sed -i '' 1d part-2*.csv\n",
    "sed -i '' 1d part-3*.csv\n",
    "mv part-00000-a291a4b5-694f-474b-a53d-944b00bb34ee.csv anti-churn/\n",
    "```\n",
    "\n",
    "// merge files\n",
    "```\n",
    "cat part-0*.csv > 0.csv\n",
    "cat part-1*.csv > 1.csv\n",
    "cat part-2*.csv > 2.csv\n",
    "cat part-3*.csv > 3.csv\n",
    "```\n",
    "\n",
    "// Create an unique file\n",
    "```\n",
    "Cat 0.csv 1.csv 2.csv 3.csv > complete.csv\n",
    "```"
   ]
  },
  {
   "cell_type": "markdown",
   "metadata": {
    "id": "VIuanz11yoTK"
   },
   "source": [
    "## Preliminary Operations"
   ]
  },
  {
   "cell_type": "code",
   "execution_count": 1,
   "metadata": {},
   "outputs": [
    {
     "name": "stdout",
     "output_type": "stream",
     "text": [
      "Requirement already satisfied: xgboost in c:\\users\\simone\\anaconda3\\lib\\site-packages (1.6.2)\n",
      "Requirement already satisfied: scipy in c:\\users\\simone\\anaconda3\\lib\\site-packages (from xgboost) (1.6.2)\n",
      "Requirement already satisfied: numpy in c:\\users\\simone\\anaconda3\\lib\\site-packages (from xgboost) (1.22.4)\n",
      "Requirement already satisfied: frozendict in c:\\users\\simone\\anaconda3\\lib\\site-packages (2.3.2)\n",
      "Requirement already satisfied: bitsets in c:\\users\\simone\\anaconda3\\lib\\site-packages (0.8.3)\n",
      "Requirement already satisfied: imblearn in c:\\users\\simone\\anaconda3\\lib\\site-packages (0.0)\n",
      "Requirement already satisfied: imbalanced-learn in c:\\users\\simone\\anaconda3\\lib\\site-packages (from imblearn) (0.9.1)\n",
      "Requirement already satisfied: scipy>=1.3.2 in c:\\users\\simone\\anaconda3\\lib\\site-packages (from imbalanced-learn->imblearn) (1.6.2)\n",
      "Requirement already satisfied: numpy>=1.17.3 in c:\\users\\simone\\anaconda3\\lib\\site-packages (from imbalanced-learn->imblearn) (1.22.4)\n",
      "Requirement already satisfied: scikit-learn>=1.1.0 in c:\\users\\simone\\anaconda3\\lib\\site-packages (from imbalanced-learn->imblearn) (1.1.2)\n",
      "Requirement already satisfied: threadpoolctl>=2.0.0 in c:\\users\\simone\\anaconda3\\lib\\site-packages (from imbalanced-learn->imblearn) (2.1.0)\n",
      "Requirement already satisfied: joblib>=1.0.0 in c:\\users\\simone\\anaconda3\\lib\\site-packages (from imbalanced-learn->imblearn) (1.0.1)\n"
     ]
    }
   ],
   "source": [
    "!pip install xgboost\n",
    "!pip install frozendict\n",
    "!pip install -U -q fcapy==0.1.3\n",
    "!pip install bitsets\n",
    "!pip install imblearn"
   ]
  },
  {
   "cell_type": "code",
   "execution_count": 2,
   "metadata": {},
   "outputs": [
    {
     "name": "stdout",
     "output_type": "stream",
     "text": [
      "Requirement already satisfied: imblearn in c:\\users\\simone\\anaconda3\\lib\\site-packages (0.0)\n",
      "Requirement already satisfied: imbalanced-learn in c:\\users\\simone\\anaconda3\\lib\\site-packages (from imblearn) (0.9.1)\n",
      "Requirement already satisfied: scipy>=1.3.2 in c:\\users\\simone\\anaconda3\\lib\\site-packages (from imbalanced-learn->imblearn) (1.6.2)\n",
      "Requirement already satisfied: numpy>=1.17.3 in c:\\users\\simone\\anaconda3\\lib\\site-packages (from imbalanced-learn->imblearn) (1.22.4)\n",
      "Requirement already satisfied: threadpoolctl>=2.0.0 in c:\\users\\simone\\anaconda3\\lib\\site-packages (from imbalanced-learn->imblearn) (2.1.0)\n",
      "Requirement already satisfied: scikit-learn>=1.1.0 in c:\\users\\simone\\anaconda3\\lib\\site-packages (from imbalanced-learn->imblearn) (1.1.2)\n",
      "Requirement already satisfied: joblib>=1.0.0 in c:\\users\\simone\\anaconda3\\lib\\site-packages (from imbalanced-learn->imblearn) (1.0.1)\n"
     ]
    }
   ],
   "source": [
    "!pip install imblearn"
   ]
  },
  {
   "cell_type": "code",
   "execution_count": 3,
   "metadata": {
    "colab": {
     "base_uri": "https://localhost:8080/"
    },
    "id": "0XuMFiq9PSFw",
    "outputId": "3e5041eb-cd86-4d89-9981-f91b5b7b8783"
   },
   "outputs": [],
   "source": [
    "import pandas as pd\n",
    "from fcapy.context import FormalContext\n",
    "import numpy as np\n",
    "import pandas as pd\n",
    "import matplotlib.pyplot as plt\n",
    "from scipy.stats import norm\n",
    "import seaborn as sns\n",
    "from statsmodels.stats.outliers_influence import variance_inflation_factor\n",
    "from statsmodels.tools.tools import add_constant\n",
    "from sklearn.metrics import accuracy_score\n",
    "from sklearn.model_selection import train_test_split\n",
    "from sklearn.metrics import classification_report,confusion_matrix\n",
    "from sklearn import linear_model\n",
    "from sklearn.linear_model import LogisticRegression\n",
    "from sklearn.svm import SVC, LinearSVC\n",
    "from sklearn.ensemble import RandomForestClassifier, AdaBoostClassifier, BaggingClassifier\n",
    "from sklearn.neighbors import KNeighborsClassifier\n",
    "from sklearn.naive_bayes import GaussianNB\n",
    "from sklearn.linear_model import Perceptron\n",
    "from sklearn.linear_model import SGDClassifier\n",
    "from sklearn.tree import DecisionTreeClassifier\n",
    "from sklearn.neural_network import MLPClassifier\n",
    "%matplotlib inline\n",
    "from sklearn.preprocessing import LabelEncoder\n",
    "import xgboost as xgb\n",
    "from sklearn.model_selection import StratifiedKFold\n",
    "#from boruta import BorutaPy\n",
    "from sklearn.feature_selection import SelectKBest\n",
    "from sklearn.feature_selection import chi2\n",
    "from sklearn.ensemble import ExtraTreesClassifier\n",
    "import imblearn\n",
    "from imblearn.over_sampling import RandomOverSampler \n",
    "from collections import Counter\n",
    "from imblearn.under_sampling import RandomUnderSampler, NeighbourhoodCleaningRule \n",
    "from imblearn.over_sampling import SMOTE, ADASYN\n",
    "import matplotlib.pyplot as plt\n",
    "import seaborn as sns\n",
    "from sklearn.datasets import make_classification\n",
    "from sklearn.ensemble import RandomForestClassifier\n",
    "from sklearn.model_selection import train_test_split\n",
    "from sklearn.metrics import roc_curve"
   ]
  },
  {
   "cell_type": "code",
   "execution_count": 4,
   "metadata": {
    "colab": {
     "base_uri": "https://localhost:8080/",
     "height": 386
    },
    "id": "n85g_XJeQsXe",
    "outputId": "6597a553-e6e9-47dd-9314-55b4090c6cac"
   },
   "outputs": [
    {
     "data": {
      "text/html": [
       "<div>\n",
       "<style scoped>\n",
       "    .dataframe tbody tr th:only-of-type {\n",
       "        vertical-align: middle;\n",
       "    }\n",
       "\n",
       "    .dataframe tbody tr th {\n",
       "        vertical-align: top;\n",
       "    }\n",
       "\n",
       "    .dataframe thead th {\n",
       "        text-align: right;\n",
       "    }\n",
       "</style>\n",
       "<table border=\"1\" class=\"dataframe\">\n",
       "  <thead>\n",
       "    <tr style=\"text-align: right;\">\n",
       "      <th></th>\n",
       "      <th>external_id</th>\n",
       "      <th>how_many_ok_urls</th>\n",
       "      <th>how_many_ko_urls</th>\n",
       "      <th>os_android</th>\n",
       "      <th>os_bsd</th>\n",
       "      <th>os_ios</th>\n",
       "      <th>os_linux</th>\n",
       "      <th>os_osx</th>\n",
       "      <th>os_other</th>\n",
       "      <th>os_windows</th>\n",
       "      <th>...</th>\n",
       "      <th>FLG_MYSKYHD</th>\n",
       "      <th>FLG_HD</th>\n",
       "      <th>FLG_MYSKY</th>\n",
       "      <th>FLG_SKY_ON_DEMAND</th>\n",
       "      <th>STB_HD</th>\n",
       "      <th>STB_MYSKYHD</th>\n",
       "      <th>STB_MYSKY</th>\n",
       "      <th>STB_SD</th>\n",
       "      <th>Pdisc</th>\n",
       "      <th>DATA_RIF</th>\n",
       "    </tr>\n",
       "  </thead>\n",
       "  <tbody>\n",
       "    <tr>\n",
       "      <th>0</th>\n",
       "      <td>05c36523ead36d29924d69e0d34a587f1be95089eeb3deb2</td>\n",
       "      <td>110</td>\n",
       "      <td>9</td>\n",
       "      <td>0</td>\n",
       "      <td>0</td>\n",
       "      <td>0</td>\n",
       "      <td>0</td>\n",
       "      <td>0</td>\n",
       "      <td>1</td>\n",
       "      <td>0</td>\n",
       "      <td>...</td>\n",
       "      <td>1</td>\n",
       "      <td>0</td>\n",
       "      <td>0</td>\n",
       "      <td>1</td>\n",
       "      <td>0</td>\n",
       "      <td>1</td>\n",
       "      <td>0</td>\n",
       "      <td>0</td>\n",
       "      <td>0</td>\n",
       "      <td>2017-05-07</td>\n",
       "    </tr>\n",
       "    <tr>\n",
       "      <th>1</th>\n",
       "      <td>208684b1148590745983ae01b5ec3189be03e60a78caed2e</td>\n",
       "      <td>17</td>\n",
       "      <td>1</td>\n",
       "      <td>0</td>\n",
       "      <td>0</td>\n",
       "      <td>0</td>\n",
       "      <td>0</td>\n",
       "      <td>0</td>\n",
       "      <td>1</td>\n",
       "      <td>0</td>\n",
       "      <td>...</td>\n",
       "      <td>0</td>\n",
       "      <td>1</td>\n",
       "      <td>0</td>\n",
       "      <td>0</td>\n",
       "      <td>1</td>\n",
       "      <td>0</td>\n",
       "      <td>0</td>\n",
       "      <td>0</td>\n",
       "      <td>0</td>\n",
       "      <td>2017-06-18</td>\n",
       "    </tr>\n",
       "    <tr>\n",
       "      <th>2</th>\n",
       "      <td>2bf4058a60bb97c372259cba8a71005c9a07224ec2dc5893</td>\n",
       "      <td>3</td>\n",
       "      <td>0</td>\n",
       "      <td>0</td>\n",
       "      <td>0</td>\n",
       "      <td>0</td>\n",
       "      <td>0</td>\n",
       "      <td>0</td>\n",
       "      <td>1</td>\n",
       "      <td>0</td>\n",
       "      <td>...</td>\n",
       "      <td>0</td>\n",
       "      <td>1</td>\n",
       "      <td>0</td>\n",
       "      <td>0</td>\n",
       "      <td>1</td>\n",
       "      <td>0</td>\n",
       "      <td>0</td>\n",
       "      <td>0</td>\n",
       "      <td>0</td>\n",
       "      <td>2017-05-07</td>\n",
       "    </tr>\n",
       "    <tr>\n",
       "      <th>3</th>\n",
       "      <td>54de0fb755b15f1b931d7c72390276b4f8c4b0314ea36956</td>\n",
       "      <td>196</td>\n",
       "      <td>25</td>\n",
       "      <td>0</td>\n",
       "      <td>0</td>\n",
       "      <td>0</td>\n",
       "      <td>0</td>\n",
       "      <td>0</td>\n",
       "      <td>1</td>\n",
       "      <td>0</td>\n",
       "      <td>...</td>\n",
       "      <td>1</td>\n",
       "      <td>0</td>\n",
       "      <td>0</td>\n",
       "      <td>1</td>\n",
       "      <td>0</td>\n",
       "      <td>1</td>\n",
       "      <td>0</td>\n",
       "      <td>0</td>\n",
       "      <td>0</td>\n",
       "      <td>2017-08-06</td>\n",
       "    </tr>\n",
       "    <tr>\n",
       "      <th>4</th>\n",
       "      <td>5f52f7ee7f469a3b4a407d3ab1c85dff9ad3d36afc22dc69</td>\n",
       "      <td>3</td>\n",
       "      <td>0</td>\n",
       "      <td>0</td>\n",
       "      <td>0</td>\n",
       "      <td>0</td>\n",
       "      <td>0</td>\n",
       "      <td>0</td>\n",
       "      <td>1</td>\n",
       "      <td>0</td>\n",
       "      <td>...</td>\n",
       "      <td>1</td>\n",
       "      <td>0</td>\n",
       "      <td>0</td>\n",
       "      <td>1</td>\n",
       "      <td>0</td>\n",
       "      <td>1</td>\n",
       "      <td>0</td>\n",
       "      <td>0</td>\n",
       "      <td>0</td>\n",
       "      <td>2017-05-07</td>\n",
       "    </tr>\n",
       "  </tbody>\n",
       "</table>\n",
       "<p>5 rows × 102 columns</p>\n",
       "</div>"
      ],
      "text/plain": [
       "                                        external_id  how_many_ok_urls  \\\n",
       "0  05c36523ead36d29924d69e0d34a587f1be95089eeb3deb2               110   \n",
       "1  208684b1148590745983ae01b5ec3189be03e60a78caed2e                17   \n",
       "2  2bf4058a60bb97c372259cba8a71005c9a07224ec2dc5893                 3   \n",
       "3  54de0fb755b15f1b931d7c72390276b4f8c4b0314ea36956               196   \n",
       "4  5f52f7ee7f469a3b4a407d3ab1c85dff9ad3d36afc22dc69                 3   \n",
       "\n",
       "   how_many_ko_urls  os_android  os_bsd  os_ios  os_linux  os_osx  os_other  \\\n",
       "0                 9           0       0       0         0       0         1   \n",
       "1                 1           0       0       0         0       0         1   \n",
       "2                 0           0       0       0         0       0         1   \n",
       "3                25           0       0       0         0       0         1   \n",
       "4                 0           0       0       0         0       0         1   \n",
       "\n",
       "   os_windows  ...  FLG_MYSKYHD  FLG_HD  FLG_MYSKY  FLG_SKY_ON_DEMAND  STB_HD  \\\n",
       "0           0  ...            1       0          0                  1       0   \n",
       "1           0  ...            0       1          0                  0       1   \n",
       "2           0  ...            0       1          0                  0       1   \n",
       "3           0  ...            1       0          0                  1       0   \n",
       "4           0  ...            1       0          0                  1       0   \n",
       "\n",
       "   STB_MYSKYHD  STB_MYSKY  STB_SD  Pdisc    DATA_RIF  \n",
       "0            1          0       0      0  2017-05-07  \n",
       "1            0          0       0      0  2017-06-18  \n",
       "2            0          0       0      0  2017-05-07  \n",
       "3            1          0       0      0  2017-08-06  \n",
       "4            1          0       0      0  2017-05-07  \n",
       "\n",
       "[5 rows x 102 columns]"
      ]
     },
     "execution_count": 4,
     "metadata": {},
     "output_type": "execute_result"
    }
   ],
   "source": [
    "data = pd.read_csv(r'C:\\Users\\Simone\\Documents\\Desktop\\Università-Bicocca\\DS LAB-28\\df_project\\complete.csv', sep= \",\")\n",
    "data.head()"
   ]
  },
  {
   "cell_type": "markdown",
   "metadata": {
    "id": "7d0HWBG2RKdK"
   },
   "source": [
    "# Data exploration e Pre-processing\n",
    "We are going to do an exploratory analysis of the dataset, to better understand the data, to fit and pre-process them to best suit our classification.\n",
    "\n",
    "\n",
    "\n"
   ]
  },
  {
   "cell_type": "code",
   "execution_count": 5,
   "metadata": {
    "colab": {
     "base_uri": "https://localhost:8080/",
     "height": 661
    },
    "id": "8epAyK-6IxAy",
    "outputId": "4681d58f-04d5-4363-980f-906eb1c39f01"
   },
   "outputs": [
    {
     "data": {
      "text/html": [
       "<div>\n",
       "<style scoped>\n",
       "    .dataframe tbody tr th:only-of-type {\n",
       "        vertical-align: middle;\n",
       "    }\n",
       "\n",
       "    .dataframe tbody tr th {\n",
       "        vertical-align: top;\n",
       "    }\n",
       "\n",
       "    .dataframe thead th {\n",
       "        text-align: right;\n",
       "    }\n",
       "</style>\n",
       "<table border=\"1\" class=\"dataframe\">\n",
       "  <thead>\n",
       "    <tr style=\"text-align: right;\">\n",
       "      <th></th>\n",
       "      <th>external_id</th>\n",
       "      <th>how_many_ok_urls</th>\n",
       "      <th>how_many_ko_urls</th>\n",
       "      <th>os_android</th>\n",
       "      <th>os_bsd</th>\n",
       "      <th>os_ios</th>\n",
       "      <th>os_linux</th>\n",
       "      <th>os_osx</th>\n",
       "      <th>os_other</th>\n",
       "      <th>os_windows</th>\n",
       "      <th>...</th>\n",
       "      <th>FLG_MYSKYHD</th>\n",
       "      <th>FLG_HD</th>\n",
       "      <th>FLG_MYSKY</th>\n",
       "      <th>FLG_SKY_ON_DEMAND</th>\n",
       "      <th>STB_HD</th>\n",
       "      <th>STB_MYSKYHD</th>\n",
       "      <th>STB_MYSKY</th>\n",
       "      <th>STB_SD</th>\n",
       "      <th>Pdisc</th>\n",
       "      <th>DATA_RIF</th>\n",
       "    </tr>\n",
       "  </thead>\n",
       "  <tbody>\n",
       "    <tr>\n",
       "      <th>12</th>\n",
       "      <td>48c1265efef5c07435d6be3482c34ea916a3cc62e0704f2c</td>\n",
       "      <td>31</td>\n",
       "      <td>0</td>\n",
       "      <td>0</td>\n",
       "      <td>0</td>\n",
       "      <td>0</td>\n",
       "      <td>0</td>\n",
       "      <td>0</td>\n",
       "      <td>1</td>\n",
       "      <td>0</td>\n",
       "      <td>...</td>\n",
       "      <td>0</td>\n",
       "      <td>0</td>\n",
       "      <td>0</td>\n",
       "      <td>0</td>\n",
       "      <td>1</td>\n",
       "      <td>0</td>\n",
       "      <td>0</td>\n",
       "      <td>0</td>\n",
       "      <td>0</td>\n",
       "      <td>2017-08-06</td>\n",
       "    </tr>\n",
       "    <tr>\n",
       "      <th>13</th>\n",
       "      <td>48c1265efef5c07435d6be3482c34ea916a3cc62e0704f2c</td>\n",
       "      <td>31</td>\n",
       "      <td>0</td>\n",
       "      <td>0</td>\n",
       "      <td>0</td>\n",
       "      <td>0</td>\n",
       "      <td>0</td>\n",
       "      <td>0</td>\n",
       "      <td>1</td>\n",
       "      <td>0</td>\n",
       "      <td>...</td>\n",
       "      <td>1</td>\n",
       "      <td>0</td>\n",
       "      <td>0</td>\n",
       "      <td>1</td>\n",
       "      <td>0</td>\n",
       "      <td>1</td>\n",
       "      <td>0</td>\n",
       "      <td>0</td>\n",
       "      <td>0</td>\n",
       "      <td>2017-08-06</td>\n",
       "    </tr>\n",
       "    <tr>\n",
       "      <th>80</th>\n",
       "      <td>ca30c2a67990e6f04ee7a382424a9544a39c1b1f7d0ba77a</td>\n",
       "      <td>854</td>\n",
       "      <td>4</td>\n",
       "      <td>0</td>\n",
       "      <td>0</td>\n",
       "      <td>0</td>\n",
       "      <td>0</td>\n",
       "      <td>0</td>\n",
       "      <td>1</td>\n",
       "      <td>0</td>\n",
       "      <td>...</td>\n",
       "      <td>1</td>\n",
       "      <td>0</td>\n",
       "      <td>0</td>\n",
       "      <td>1</td>\n",
       "      <td>0</td>\n",
       "      <td>1</td>\n",
       "      <td>0</td>\n",
       "      <td>0</td>\n",
       "      <td>0</td>\n",
       "      <td>2017-05-07</td>\n",
       "    </tr>\n",
       "    <tr>\n",
       "      <th>81</th>\n",
       "      <td>ca30c2a67990e6f04ee7a382424a9544a39c1b1f7d0ba77a</td>\n",
       "      <td>854</td>\n",
       "      <td>4</td>\n",
       "      <td>0</td>\n",
       "      <td>0</td>\n",
       "      <td>0</td>\n",
       "      <td>0</td>\n",
       "      <td>0</td>\n",
       "      <td>1</td>\n",
       "      <td>0</td>\n",
       "      <td>...</td>\n",
       "      <td>0</td>\n",
       "      <td>1</td>\n",
       "      <td>0</td>\n",
       "      <td>0</td>\n",
       "      <td>1</td>\n",
       "      <td>0</td>\n",
       "      <td>0</td>\n",
       "      <td>0</td>\n",
       "      <td>0</td>\n",
       "      <td>2017-05-07</td>\n",
       "    </tr>\n",
       "    <tr>\n",
       "      <th>135</th>\n",
       "      <td>b7485750f528c882be15687c1d5333a1b7b415d7851c830c</td>\n",
       "      <td>149</td>\n",
       "      <td>0</td>\n",
       "      <td>0</td>\n",
       "      <td>0</td>\n",
       "      <td>0</td>\n",
       "      <td>0</td>\n",
       "      <td>0</td>\n",
       "      <td>1</td>\n",
       "      <td>0</td>\n",
       "      <td>...</td>\n",
       "      <td>0</td>\n",
       "      <td>0</td>\n",
       "      <td>0</td>\n",
       "      <td>0</td>\n",
       "      <td>0</td>\n",
       "      <td>1</td>\n",
       "      <td>0</td>\n",
       "      <td>0</td>\n",
       "      <td>1</td>\n",
       "      <td>2017-09-03</td>\n",
       "    </tr>\n",
       "    <tr>\n",
       "      <th>...</th>\n",
       "      <td>...</td>\n",
       "      <td>...</td>\n",
       "      <td>...</td>\n",
       "      <td>...</td>\n",
       "      <td>...</td>\n",
       "      <td>...</td>\n",
       "      <td>...</td>\n",
       "      <td>...</td>\n",
       "      <td>...</td>\n",
       "      <td>...</td>\n",
       "      <td>...</td>\n",
       "      <td>...</td>\n",
       "      <td>...</td>\n",
       "      <td>...</td>\n",
       "      <td>...</td>\n",
       "      <td>...</td>\n",
       "      <td>...</td>\n",
       "      <td>...</td>\n",
       "      <td>...</td>\n",
       "      <td>...</td>\n",
       "      <td>...</td>\n",
       "    </tr>\n",
       "    <tr>\n",
       "      <th>330411</th>\n",
       "      <td>20f47d9d86780f959fce8b16b849940e93e0832e9d565cbd</td>\n",
       "      <td>221</td>\n",
       "      <td>169</td>\n",
       "      <td>0</td>\n",
       "      <td>0</td>\n",
       "      <td>0</td>\n",
       "      <td>0</td>\n",
       "      <td>0</td>\n",
       "      <td>0</td>\n",
       "      <td>1</td>\n",
       "      <td>...</td>\n",
       "      <td>0</td>\n",
       "      <td>0</td>\n",
       "      <td>0</td>\n",
       "      <td>0</td>\n",
       "      <td>1</td>\n",
       "      <td>0</td>\n",
       "      <td>0</td>\n",
       "      <td>0</td>\n",
       "      <td>0</td>\n",
       "      <td>2017-05-07</td>\n",
       "    </tr>\n",
       "    <tr>\n",
       "      <th>330536</th>\n",
       "      <td>dcc17b4841567181a44373f773992534e2abdaf25c7722f1</td>\n",
       "      <td>19</td>\n",
       "      <td>0</td>\n",
       "      <td>0</td>\n",
       "      <td>0</td>\n",
       "      <td>0</td>\n",
       "      <td>0</td>\n",
       "      <td>0</td>\n",
       "      <td>1</td>\n",
       "      <td>0</td>\n",
       "      <td>...</td>\n",
       "      <td>0</td>\n",
       "      <td>1</td>\n",
       "      <td>0</td>\n",
       "      <td>0</td>\n",
       "      <td>0</td>\n",
       "      <td>0</td>\n",
       "      <td>0</td>\n",
       "      <td>0</td>\n",
       "      <td>0</td>\n",
       "      <td>2017-05-07</td>\n",
       "    </tr>\n",
       "    <tr>\n",
       "      <th>330537</th>\n",
       "      <td>dcc17b4841567181a44373f773992534e2abdaf25c7722f1</td>\n",
       "      <td>19</td>\n",
       "      <td>0</td>\n",
       "      <td>0</td>\n",
       "      <td>0</td>\n",
       "      <td>0</td>\n",
       "      <td>0</td>\n",
       "      <td>0</td>\n",
       "      <td>1</td>\n",
       "      <td>0</td>\n",
       "      <td>...</td>\n",
       "      <td>1</td>\n",
       "      <td>0</td>\n",
       "      <td>0</td>\n",
       "      <td>0</td>\n",
       "      <td>0</td>\n",
       "      <td>1</td>\n",
       "      <td>0</td>\n",
       "      <td>0</td>\n",
       "      <td>0</td>\n",
       "      <td>2017-05-07</td>\n",
       "    </tr>\n",
       "    <tr>\n",
       "      <th>330551</th>\n",
       "      <td>a4ef2bb3bb2eff3e4c83e7611f1bf1ee9c99ced47000c994</td>\n",
       "      <td>491</td>\n",
       "      <td>6</td>\n",
       "      <td>0</td>\n",
       "      <td>0</td>\n",
       "      <td>0</td>\n",
       "      <td>0</td>\n",
       "      <td>0</td>\n",
       "      <td>1</td>\n",
       "      <td>0</td>\n",
       "      <td>...</td>\n",
       "      <td>1</td>\n",
       "      <td>0</td>\n",
       "      <td>0</td>\n",
       "      <td>1</td>\n",
       "      <td>0</td>\n",
       "      <td>1</td>\n",
       "      <td>0</td>\n",
       "      <td>0</td>\n",
       "      <td>0</td>\n",
       "      <td>2017-05-07</td>\n",
       "    </tr>\n",
       "    <tr>\n",
       "      <th>330552</th>\n",
       "      <td>a4ef2bb3bb2eff3e4c83e7611f1bf1ee9c99ced47000c994</td>\n",
       "      <td>491</td>\n",
       "      <td>6</td>\n",
       "      <td>0</td>\n",
       "      <td>0</td>\n",
       "      <td>0</td>\n",
       "      <td>0</td>\n",
       "      <td>0</td>\n",
       "      <td>1</td>\n",
       "      <td>0</td>\n",
       "      <td>...</td>\n",
       "      <td>0</td>\n",
       "      <td>0</td>\n",
       "      <td>0</td>\n",
       "      <td>0</td>\n",
       "      <td>1</td>\n",
       "      <td>0</td>\n",
       "      <td>0</td>\n",
       "      <td>0</td>\n",
       "      <td>0</td>\n",
       "      <td>2017-05-07</td>\n",
       "    </tr>\n",
       "  </tbody>\n",
       "</table>\n",
       "<p>8261 rows × 102 columns</p>\n",
       "</div>"
      ],
      "text/plain": [
       "                                             external_id  how_many_ok_urls  \\\n",
       "12      48c1265efef5c07435d6be3482c34ea916a3cc62e0704f2c                31   \n",
       "13      48c1265efef5c07435d6be3482c34ea916a3cc62e0704f2c                31   \n",
       "80      ca30c2a67990e6f04ee7a382424a9544a39c1b1f7d0ba77a               854   \n",
       "81      ca30c2a67990e6f04ee7a382424a9544a39c1b1f7d0ba77a               854   \n",
       "135     b7485750f528c882be15687c1d5333a1b7b415d7851c830c               149   \n",
       "...                                                  ...               ...   \n",
       "330411  20f47d9d86780f959fce8b16b849940e93e0832e9d565cbd               221   \n",
       "330536  dcc17b4841567181a44373f773992534e2abdaf25c7722f1                19   \n",
       "330537  dcc17b4841567181a44373f773992534e2abdaf25c7722f1                19   \n",
       "330551  a4ef2bb3bb2eff3e4c83e7611f1bf1ee9c99ced47000c994               491   \n",
       "330552  a4ef2bb3bb2eff3e4c83e7611f1bf1ee9c99ced47000c994               491   \n",
       "\n",
       "        how_many_ko_urls  os_android  os_bsd  os_ios  os_linux  os_osx  \\\n",
       "12                     0           0       0       0         0       0   \n",
       "13                     0           0       0       0         0       0   \n",
       "80                     4           0       0       0         0       0   \n",
       "81                     4           0       0       0         0       0   \n",
       "135                    0           0       0       0         0       0   \n",
       "...                  ...         ...     ...     ...       ...     ...   \n",
       "330411               169           0       0       0         0       0   \n",
       "330536                 0           0       0       0         0       0   \n",
       "330537                 0           0       0       0         0       0   \n",
       "330551                 6           0       0       0         0       0   \n",
       "330552                 6           0       0       0         0       0   \n",
       "\n",
       "        os_other  os_windows  ...  FLG_MYSKYHD  FLG_HD  FLG_MYSKY  \\\n",
       "12             1           0  ...            0       0          0   \n",
       "13             1           0  ...            1       0          0   \n",
       "80             1           0  ...            1       0          0   \n",
       "81             1           0  ...            0       1          0   \n",
       "135            1           0  ...            0       0          0   \n",
       "...          ...         ...  ...          ...     ...        ...   \n",
       "330411         0           1  ...            0       0          0   \n",
       "330536         1           0  ...            0       1          0   \n",
       "330537         1           0  ...            1       0          0   \n",
       "330551         1           0  ...            1       0          0   \n",
       "330552         1           0  ...            0       0          0   \n",
       "\n",
       "        FLG_SKY_ON_DEMAND  STB_HD  STB_MYSKYHD  STB_MYSKY  STB_SD  Pdisc  \\\n",
       "12                      0       1            0          0       0      0   \n",
       "13                      1       0            1          0       0      0   \n",
       "80                      1       0            1          0       0      0   \n",
       "81                      0       1            0          0       0      0   \n",
       "135                     0       0            1          0       0      1   \n",
       "...                   ...     ...          ...        ...     ...    ...   \n",
       "330411                  0       1            0          0       0      0   \n",
       "330536                  0       0            0          0       0      0   \n",
       "330537                  0       0            1          0       0      0   \n",
       "330551                  1       0            1          0       0      0   \n",
       "330552                  0       1            0          0       0      0   \n",
       "\n",
       "          DATA_RIF  \n",
       "12      2017-08-06  \n",
       "13      2017-08-06  \n",
       "80      2017-05-07  \n",
       "81      2017-05-07  \n",
       "135     2017-09-03  \n",
       "...            ...  \n",
       "330411  2017-05-07  \n",
       "330536  2017-05-07  \n",
       "330537  2017-05-07  \n",
       "330551  2017-05-07  \n",
       "330552  2017-05-07  \n",
       "\n",
       "[8261 rows x 102 columns]"
      ]
     },
     "execution_count": 5,
     "metadata": {},
     "output_type": "execute_result"
    }
   ],
   "source": [
    "doppioni = data[data.duplicated(subset='external_id', keep=False)] #tutte le righe che si presentano almeno una volta\n",
    "doppioni"
   ]
  },
  {
   "cell_type": "code",
   "execution_count": 6,
   "metadata": {
    "colab": {
     "base_uri": "https://localhost:8080/",
     "height": 455
    },
    "id": "4kfdJQ_sJQP7",
    "outputId": "bcb9f32b-8ada-4232-f84d-b4f018b51a02"
   },
   "outputs": [
    {
     "data": {
      "text/html": [
       "<div>\n",
       "<style scoped>\n",
       "    .dataframe tbody tr th:only-of-type {\n",
       "        vertical-align: middle;\n",
       "    }\n",
       "\n",
       "    .dataframe tbody tr th {\n",
       "        vertical-align: top;\n",
       "    }\n",
       "\n",
       "    .dataframe thead tr th {\n",
       "        text-align: left;\n",
       "    }\n",
       "</style>\n",
       "<table border=\"1\" class=\"dataframe\">\n",
       "  <thead>\n",
       "    <tr>\n",
       "      <th></th>\n",
       "      <th colspan=\"8\" halign=\"left\">how_many_ok_urls</th>\n",
       "      <th colspan=\"2\" halign=\"left\">how_many_ko_urls</th>\n",
       "      <th>...</th>\n",
       "      <th colspan=\"2\" halign=\"left\">STB_SD</th>\n",
       "      <th colspan=\"8\" halign=\"left\">Pdisc</th>\n",
       "    </tr>\n",
       "    <tr>\n",
       "      <th></th>\n",
       "      <th>count</th>\n",
       "      <th>mean</th>\n",
       "      <th>std</th>\n",
       "      <th>min</th>\n",
       "      <th>25%</th>\n",
       "      <th>50%</th>\n",
       "      <th>75%</th>\n",
       "      <th>max</th>\n",
       "      <th>count</th>\n",
       "      <th>mean</th>\n",
       "      <th>...</th>\n",
       "      <th>75%</th>\n",
       "      <th>max</th>\n",
       "      <th>count</th>\n",
       "      <th>mean</th>\n",
       "      <th>std</th>\n",
       "      <th>min</th>\n",
       "      <th>25%</th>\n",
       "      <th>50%</th>\n",
       "      <th>75%</th>\n",
       "      <th>max</th>\n",
       "    </tr>\n",
       "  </thead>\n",
       "  <tbody>\n",
       "    <tr>\n",
       "      <th>0</th>\n",
       "      <td>2.0</td>\n",
       "      <td>11.0</td>\n",
       "      <td>0.0</td>\n",
       "      <td>11.0</td>\n",
       "      <td>11.0</td>\n",
       "      <td>11.0</td>\n",
       "      <td>11.0</td>\n",
       "      <td>11.0</td>\n",
       "      <td>2.0</td>\n",
       "      <td>0.0</td>\n",
       "      <td>...</td>\n",
       "      <td>0.0</td>\n",
       "      <td>0.0</td>\n",
       "      <td>2.0</td>\n",
       "      <td>0.0</td>\n",
       "      <td>0.0</td>\n",
       "      <td>0.0</td>\n",
       "      <td>0.0</td>\n",
       "      <td>0.0</td>\n",
       "      <td>0.0</td>\n",
       "      <td>0.0</td>\n",
       "    </tr>\n",
       "    <tr>\n",
       "      <th>1</th>\n",
       "      <td>2.0</td>\n",
       "      <td>161.0</td>\n",
       "      <td>0.0</td>\n",
       "      <td>161.0</td>\n",
       "      <td>161.0</td>\n",
       "      <td>161.0</td>\n",
       "      <td>161.0</td>\n",
       "      <td>161.0</td>\n",
       "      <td>2.0</td>\n",
       "      <td>102.0</td>\n",
       "      <td>...</td>\n",
       "      <td>0.0</td>\n",
       "      <td>0.0</td>\n",
       "      <td>2.0</td>\n",
       "      <td>0.0</td>\n",
       "      <td>0.0</td>\n",
       "      <td>0.0</td>\n",
       "      <td>0.0</td>\n",
       "      <td>0.0</td>\n",
       "      <td>0.0</td>\n",
       "      <td>0.0</td>\n",
       "    </tr>\n",
       "    <tr>\n",
       "      <th>2</th>\n",
       "      <td>2.0</td>\n",
       "      <td>16.0</td>\n",
       "      <td>0.0</td>\n",
       "      <td>16.0</td>\n",
       "      <td>16.0</td>\n",
       "      <td>16.0</td>\n",
       "      <td>16.0</td>\n",
       "      <td>16.0</td>\n",
       "      <td>2.0</td>\n",
       "      <td>17.0</td>\n",
       "      <td>...</td>\n",
       "      <td>0.0</td>\n",
       "      <td>0.0</td>\n",
       "      <td>2.0</td>\n",
       "      <td>0.0</td>\n",
       "      <td>0.0</td>\n",
       "      <td>0.0</td>\n",
       "      <td>0.0</td>\n",
       "      <td>0.0</td>\n",
       "      <td>0.0</td>\n",
       "      <td>0.0</td>\n",
       "    </tr>\n",
       "    <tr>\n",
       "      <th>3</th>\n",
       "      <td>2.0</td>\n",
       "      <td>2.0</td>\n",
       "      <td>0.0</td>\n",
       "      <td>2.0</td>\n",
       "      <td>2.0</td>\n",
       "      <td>2.0</td>\n",
       "      <td>2.0</td>\n",
       "      <td>2.0</td>\n",
       "      <td>2.0</td>\n",
       "      <td>0.0</td>\n",
       "      <td>...</td>\n",
       "      <td>0.0</td>\n",
       "      <td>0.0</td>\n",
       "      <td>2.0</td>\n",
       "      <td>0.0</td>\n",
       "      <td>0.0</td>\n",
       "      <td>0.0</td>\n",
       "      <td>0.0</td>\n",
       "      <td>0.0</td>\n",
       "      <td>0.0</td>\n",
       "      <td>0.0</td>\n",
       "    </tr>\n",
       "    <tr>\n",
       "      <th>4</th>\n",
       "      <td>2.0</td>\n",
       "      <td>103.0</td>\n",
       "      <td>0.0</td>\n",
       "      <td>103.0</td>\n",
       "      <td>103.0</td>\n",
       "      <td>103.0</td>\n",
       "      <td>103.0</td>\n",
       "      <td>103.0</td>\n",
       "      <td>2.0</td>\n",
       "      <td>40.0</td>\n",
       "      <td>...</td>\n",
       "      <td>0.0</td>\n",
       "      <td>0.0</td>\n",
       "      <td>2.0</td>\n",
       "      <td>0.0</td>\n",
       "      <td>0.0</td>\n",
       "      <td>0.0</td>\n",
       "      <td>0.0</td>\n",
       "      <td>0.0</td>\n",
       "      <td>0.0</td>\n",
       "      <td>0.0</td>\n",
       "    </tr>\n",
       "    <tr>\n",
       "      <th>...</th>\n",
       "      <td>...</td>\n",
       "      <td>...</td>\n",
       "      <td>...</td>\n",
       "      <td>...</td>\n",
       "      <td>...</td>\n",
       "      <td>...</td>\n",
       "      <td>...</td>\n",
       "      <td>...</td>\n",
       "      <td>...</td>\n",
       "      <td>...</td>\n",
       "      <td>...</td>\n",
       "      <td>...</td>\n",
       "      <td>...</td>\n",
       "      <td>...</td>\n",
       "      <td>...</td>\n",
       "      <td>...</td>\n",
       "      <td>...</td>\n",
       "      <td>...</td>\n",
       "      <td>...</td>\n",
       "      <td>...</td>\n",
       "      <td>...</td>\n",
       "    </tr>\n",
       "    <tr>\n",
       "      <th>4084</th>\n",
       "      <td>2.0</td>\n",
       "      <td>43.0</td>\n",
       "      <td>0.0</td>\n",
       "      <td>43.0</td>\n",
       "      <td>43.0</td>\n",
       "      <td>43.0</td>\n",
       "      <td>43.0</td>\n",
       "      <td>43.0</td>\n",
       "      <td>2.0</td>\n",
       "      <td>2.0</td>\n",
       "      <td>...</td>\n",
       "      <td>0.0</td>\n",
       "      <td>0.0</td>\n",
       "      <td>2.0</td>\n",
       "      <td>0.0</td>\n",
       "      <td>0.0</td>\n",
       "      <td>0.0</td>\n",
       "      <td>0.0</td>\n",
       "      <td>0.0</td>\n",
       "      <td>0.0</td>\n",
       "      <td>0.0</td>\n",
       "    </tr>\n",
       "    <tr>\n",
       "      <th>4085</th>\n",
       "      <td>2.0</td>\n",
       "      <td>13.0</td>\n",
       "      <td>0.0</td>\n",
       "      <td>13.0</td>\n",
       "      <td>13.0</td>\n",
       "      <td>13.0</td>\n",
       "      <td>13.0</td>\n",
       "      <td>13.0</td>\n",
       "      <td>2.0</td>\n",
       "      <td>0.0</td>\n",
       "      <td>...</td>\n",
       "      <td>0.0</td>\n",
       "      <td>0.0</td>\n",
       "      <td>2.0</td>\n",
       "      <td>0.0</td>\n",
       "      <td>0.0</td>\n",
       "      <td>0.0</td>\n",
       "      <td>0.0</td>\n",
       "      <td>0.0</td>\n",
       "      <td>0.0</td>\n",
       "      <td>0.0</td>\n",
       "    </tr>\n",
       "    <tr>\n",
       "      <th>4086</th>\n",
       "      <td>2.0</td>\n",
       "      <td>130.0</td>\n",
       "      <td>0.0</td>\n",
       "      <td>130.0</td>\n",
       "      <td>130.0</td>\n",
       "      <td>130.0</td>\n",
       "      <td>130.0</td>\n",
       "      <td>130.0</td>\n",
       "      <td>2.0</td>\n",
       "      <td>45.0</td>\n",
       "      <td>...</td>\n",
       "      <td>0.0</td>\n",
       "      <td>0.0</td>\n",
       "      <td>2.0</td>\n",
       "      <td>0.0</td>\n",
       "      <td>0.0</td>\n",
       "      <td>0.0</td>\n",
       "      <td>0.0</td>\n",
       "      <td>0.0</td>\n",
       "      <td>0.0</td>\n",
       "      <td>0.0</td>\n",
       "    </tr>\n",
       "    <tr>\n",
       "      <th>4087</th>\n",
       "      <td>2.0</td>\n",
       "      <td>111.0</td>\n",
       "      <td>0.0</td>\n",
       "      <td>111.0</td>\n",
       "      <td>111.0</td>\n",
       "      <td>111.0</td>\n",
       "      <td>111.0</td>\n",
       "      <td>111.0</td>\n",
       "      <td>2.0</td>\n",
       "      <td>32.0</td>\n",
       "      <td>...</td>\n",
       "      <td>0.0</td>\n",
       "      <td>0.0</td>\n",
       "      <td>2.0</td>\n",
       "      <td>0.0</td>\n",
       "      <td>0.0</td>\n",
       "      <td>0.0</td>\n",
       "      <td>0.0</td>\n",
       "      <td>0.0</td>\n",
       "      <td>0.0</td>\n",
       "      <td>0.0</td>\n",
       "    </tr>\n",
       "    <tr>\n",
       "      <th>4088</th>\n",
       "      <td>2.0</td>\n",
       "      <td>11.0</td>\n",
       "      <td>0.0</td>\n",
       "      <td>11.0</td>\n",
       "      <td>11.0</td>\n",
       "      <td>11.0</td>\n",
       "      <td>11.0</td>\n",
       "      <td>11.0</td>\n",
       "      <td>2.0</td>\n",
       "      <td>2.0</td>\n",
       "      <td>...</td>\n",
       "      <td>0.0</td>\n",
       "      <td>0.0</td>\n",
       "      <td>2.0</td>\n",
       "      <td>0.0</td>\n",
       "      <td>0.0</td>\n",
       "      <td>0.0</td>\n",
       "      <td>0.0</td>\n",
       "      <td>0.0</td>\n",
       "      <td>0.0</td>\n",
       "      <td>0.0</td>\n",
       "    </tr>\n",
       "  </tbody>\n",
       "</table>\n",
       "<p>4089 rows × 800 columns</p>\n",
       "</div>"
      ],
      "text/plain": [
       "     how_many_ok_urls                                                 \\\n",
       "                count   mean  std    min    25%    50%    75%    max   \n",
       "0                 2.0   11.0  0.0   11.0   11.0   11.0   11.0   11.0   \n",
       "1                 2.0  161.0  0.0  161.0  161.0  161.0  161.0  161.0   \n",
       "2                 2.0   16.0  0.0   16.0   16.0   16.0   16.0   16.0   \n",
       "3                 2.0    2.0  0.0    2.0    2.0    2.0    2.0    2.0   \n",
       "4                 2.0  103.0  0.0  103.0  103.0  103.0  103.0  103.0   \n",
       "...               ...    ...  ...    ...    ...    ...    ...    ...   \n",
       "4084              2.0   43.0  0.0   43.0   43.0   43.0   43.0   43.0   \n",
       "4085              2.0   13.0  0.0   13.0   13.0   13.0   13.0   13.0   \n",
       "4086              2.0  130.0  0.0  130.0  130.0  130.0  130.0  130.0   \n",
       "4087              2.0  111.0  0.0  111.0  111.0  111.0  111.0  111.0   \n",
       "4088              2.0   11.0  0.0   11.0   11.0   11.0   11.0   11.0   \n",
       "\n",
       "     how_many_ko_urls         ... STB_SD      Pdisc                           \\\n",
       "                count   mean  ...    75%  max count mean  std  min  25%  50%   \n",
       "0                 2.0    0.0  ...    0.0  0.0   2.0  0.0  0.0  0.0  0.0  0.0   \n",
       "1                 2.0  102.0  ...    0.0  0.0   2.0  0.0  0.0  0.0  0.0  0.0   \n",
       "2                 2.0   17.0  ...    0.0  0.0   2.0  0.0  0.0  0.0  0.0  0.0   \n",
       "3                 2.0    0.0  ...    0.0  0.0   2.0  0.0  0.0  0.0  0.0  0.0   \n",
       "4                 2.0   40.0  ...    0.0  0.0   2.0  0.0  0.0  0.0  0.0  0.0   \n",
       "...               ...    ...  ...    ...  ...   ...  ...  ...  ...  ...  ...   \n",
       "4084              2.0    2.0  ...    0.0  0.0   2.0  0.0  0.0  0.0  0.0  0.0   \n",
       "4085              2.0    0.0  ...    0.0  0.0   2.0  0.0  0.0  0.0  0.0  0.0   \n",
       "4086              2.0   45.0  ...    0.0  0.0   2.0  0.0  0.0  0.0  0.0  0.0   \n",
       "4087              2.0   32.0  ...    0.0  0.0   2.0  0.0  0.0  0.0  0.0  0.0   \n",
       "4088              2.0    2.0  ...    0.0  0.0   2.0  0.0  0.0  0.0  0.0  0.0   \n",
       "\n",
       "                \n",
       "      75%  max  \n",
       "0     0.0  0.0  \n",
       "1     0.0  0.0  \n",
       "2     0.0  0.0  \n",
       "3     0.0  0.0  \n",
       "4     0.0  0.0  \n",
       "...   ...  ...  \n",
       "4084  0.0  0.0  \n",
       "4085  0.0  0.0  \n",
       "4086  0.0  0.0  \n",
       "4087  0.0  0.0  \n",
       "4088  0.0  0.0  \n",
       "\n",
       "[4089 rows x 800 columns]"
      ]
     },
     "execution_count": 6,
     "metadata": {},
     "output_type": "execute_result"
    }
   ],
   "source": [
    "duplicati = doppioni.groupby(['external_id'], as_index=False).describe()\n",
    "duplicati"
   ]
  },
  {
   "cell_type": "code",
   "execution_count": 7,
   "metadata": {
    "colab": {
     "base_uri": "https://localhost:8080/"
    },
    "id": "slkuU7TszfTA",
    "outputId": "e6b8911a-2c5c-4c11-a5b6-5d1c89b3e159"
   },
   "outputs": [
    {
     "data": {
      "text/plain": [
       "(326414, 102)"
      ]
     },
     "execution_count": 7,
     "metadata": {},
     "output_type": "execute_result"
    }
   ],
   "source": [
    "data.duplicated(subset='external_id', keep=False) #denoting duplicate rows, mark duplicates as 'true'\n",
    "duplicate_rows_data = data[data.duplicated(subset='external_id')] \n",
    "duplicate_rows_data.shape\n",
    "#4172 duplicated rows over 330586 total observations\n",
    "data = data.drop_duplicates(subset='external_id') #new dataset\n",
    "data.shape #326414 new number of observations"
   ]
  },
  {
   "cell_type": "markdown",
   "metadata": {
    "id": "JBlJR4JEzyvm"
   },
   "source": [
    "We eliminated duplicates for IDs because they represent the same users."
   ]
  },
  {
   "cell_type": "code",
   "execution_count": 8,
   "metadata": {
    "colab": {
     "base_uri": "https://localhost:8080/"
    },
    "id": "a28tIPXQR6fI",
    "outputId": "f87819cd-a745-4169-e871-5c3c6c8af21d"
   },
   "outputs": [
    {
     "name": "stdout",
     "output_type": "stream",
     "text": [
      "<class 'pandas.core.frame.DataFrame'>\n",
      "Int64Index: 326414 entries, 0 to 330585\n",
      "Columns: 102 entries, external_id to DATA_RIF\n",
      "dtypes: float64(67), int64(33), object(2)\n",
      "memory usage: 256.5+ MB\n"
     ]
    },
    {
     "data": {
      "text/plain": [
       "external_id         0\n",
       "how_many_ok_urls    0\n",
       "how_many_ko_urls    0\n",
       "os_android          0\n",
       "os_bsd              0\n",
       "                   ..\n",
       "STB_MYSKYHD         0\n",
       "STB_MYSKY           0\n",
       "STB_SD              0\n",
       "Pdisc               0\n",
       "DATA_RIF            0\n",
       "Length: 102, dtype: int64"
      ]
     },
     "execution_count": 8,
     "metadata": {},
     "output_type": "execute_result"
    }
   ],
   "source": [
    "data.info()\n",
    "data.isnull().sum()"
   ]
  },
  {
   "cell_type": "code",
   "execution_count": 9,
   "metadata": {
    "colab": {
     "base_uri": "https://localhost:8080/"
    },
    "id": "-Y7OxCsZQvyb",
    "outputId": "a6d7fd36-7f38-4a4a-e43b-274838ed916b"
   },
   "outputs": [
    {
     "name": "stdout",
     "output_type": "stream",
     "text": [
      "external_id\n",
      "how_many_ok_urls\n",
      "how_many_ko_urls\n",
      "os_android\n",
      "os_ios\n",
      "os_linux\n",
      "os_other\n",
      "os_windows\n",
      "browser_chrome\n",
      "browser_firefox\n",
      "browser_opera\n",
      "browser_other\n",
      "browser_safari\n",
      "browser_unknown\n",
      "feriale_morning\n",
      "feriale_afternoon\n",
      "feriale_evening\n",
      "feriale_night\n",
      "weekend_morning\n",
      "weekend_afternoon\n",
      "weekend_evening\n",
      "weekend_night\n",
      "L00_50\n",
      "L51_100\n",
      "L101_250\n",
      "L251_500\n",
      "L501_1000\n",
      "L1001_2500\n",
      "L2501_5000\n",
      "L5001_10000\n",
      "L10001_more\n",
      "categories_artandentertainment\n",
      "categories_automotive\n",
      "categories_business\n",
      "categories_careers\n",
      "categories_education\n",
      "categories_familyandparenting\n",
      "categories_finance\n",
      "categories_foodanddrink\n",
      "categories_healthandfitness\n",
      "categories_hobbiesandinterests\n",
      "categories_homeandgarden\n",
      "categories_intentions\n",
      "categories_lawgovtandpolitics\n",
      "categories_news\n",
      "categories_pets\n",
      "categories_realestate\n",
      "categories_religionandspirituality\n",
      "categories_science\n",
      "categories_shopping\n",
      "categories_society\n",
      "categories_sports\n",
      "categories_styleandfashion\n",
      "categories_technologyandcomputing\n",
      "categories_travel\n",
      "categories_uncategorized\n",
      "CINEMA\n",
      "CALCIO\n",
      "SPORT\n",
      "SKY_FAMIGLIA\n",
      "FLG_MV\n",
      "FLG_MYSKYHD\n",
      "FLG_HD\n",
      "FLG_MYSKY\n",
      "FLG_SKY_ON_DEMAND\n",
      "STB_HD\n",
      "STB_MYSKYHD\n",
      "STB_MYSKY\n",
      "STB_SD\n",
      "Pdisc\n",
      "DATA_RIF\n"
     ]
    }
   ],
   "source": [
    "data = data.loc[:, (data != 0).any(axis=0)] #Delete all columns with only 0.\n",
    "#First I see what columns I have and try to interpret their meaning.\n",
    "for columns in data:\n",
    "  print(columns)"
   ]
  },
  {
   "cell_type": "markdown",
   "metadata": {
    "id": "6B1KughvTGwR"
   },
   "source": [
    "So let's try to understand their characteristics with the describe() function. \n",
    "* The vairables how_many_ok_urls,how_many_ko_urls are integers.\n",
    "* The variables os_android, etc. are dummy(0 or 1).\n",
    "* Browser variables are dummy ( 0 or 1).\n",
    "* The categories variables result are percentages.\n",
    "* The variable y, to prevdere is Pdisc.\n",
    "--------------------------------------------------------------------------------\n",
    "Variable description:\n",
    "- how_many_ok_urls: the number of sites that the semantic engine was able to analyze.\n",
    "- how_many_ko_urls: the number of sites that the semantic engine failed to parse.\n",
    "- external_id: user identifier, should be unique and if there are duplicates we need to group the observations together..\n",
    "- os_android: operating system of the browser used.\n",
    "- browser_android: the browser.\n",
    "- navigation_monday.00_30: the day and time of navigation and there are 30 min slots.\n",
    "- L51_100: length of text present in web pages (the sum of the values per line from L51_100 to L10001_more should make 1).\n",
    "- categories_artandentertainment: category to which the website belongs\n",
    "- admants_16: ad hoc semantic categories.\n",
    "- Pdisc: target variable and pertains to users who have unsubscribed.\n",
    "- DATA_RIF: date of observation detection (to be deleted).\n",
    "\n"
   ]
  },
  {
   "cell_type": "markdown",
   "metadata": {
    "id": "idudwAxAgnVO"
   },
   "source": [
    "Now let's look at the correlations"
   ]
  },
  {
   "cell_type": "code",
   "execution_count": 10,
   "metadata": {
    "id": "3XKeevI_Uvo9"
   },
   "outputs": [],
   "source": [
    "data = data.drop('external_id', axis=1)\n",
    "data = data.drop('DATA_RIF', axis=1)#elimino la colonna external_id perchè non ci serve\n"
   ]
  },
  {
   "cell_type": "code",
   "execution_count": 11,
   "metadata": {
    "colab": {
     "base_uri": "https://localhost:8080/"
    },
    "id": "vReSMwrgsXIC",
    "outputId": "ce19c17f-d1c9-4254-da9b-882b34374c80"
   },
   "outputs": [
    {
     "name": "stdout",
     "output_type": "stream",
     "text": [
      "<class 'pandas.core.frame.DataFrame'>\n",
      "Int64Index: 326414 entries, 0 to 330585\n",
      "Data columns (total 69 columns):\n",
      " #   Column                              Non-Null Count   Dtype  \n",
      "---  ------                              --------------   -----  \n",
      " 0   how_many_ok_urls                    326414 non-null  int64  \n",
      " 1   how_many_ko_urls                    326414 non-null  int64  \n",
      " 2   os_android                          326414 non-null  int64  \n",
      " 3   os_ios                              326414 non-null  int64  \n",
      " 4   os_linux                            326414 non-null  int64  \n",
      " 5   os_other                            326414 non-null  int64  \n",
      " 6   os_windows                          326414 non-null  int64  \n",
      " 7   browser_chrome                      326414 non-null  int64  \n",
      " 8   browser_firefox                     326414 non-null  int64  \n",
      " 9   browser_opera                       326414 non-null  int64  \n",
      " 10  browser_other                       326414 non-null  int64  \n",
      " 11  browser_safari                      326414 non-null  int64  \n",
      " 12  browser_unknown                     326414 non-null  int64  \n",
      " 13  feriale_morning                     326414 non-null  float64\n",
      " 14  feriale_afternoon                   326414 non-null  float64\n",
      " 15  feriale_evening                     326414 non-null  float64\n",
      " 16  feriale_night                       326414 non-null  float64\n",
      " 17  weekend_morning                     326414 non-null  float64\n",
      " 18  weekend_afternoon                   326414 non-null  float64\n",
      " 19  weekend_evening                     326414 non-null  float64\n",
      " 20  weekend_night                       326414 non-null  float64\n",
      " 21  L00_50                              326414 non-null  float64\n",
      " 22  L51_100                             326414 non-null  float64\n",
      " 23  L101_250                            326414 non-null  float64\n",
      " 24  L251_500                            326414 non-null  float64\n",
      " 25  L501_1000                           326414 non-null  float64\n",
      " 26  L1001_2500                          326414 non-null  float64\n",
      " 27  L2501_5000                          326414 non-null  float64\n",
      " 28  L5001_10000                         326414 non-null  float64\n",
      " 29  L10001_more                         326414 non-null  float64\n",
      " 30  categories_artandentertainment      326414 non-null  float64\n",
      " 31  categories_automotive               326414 non-null  float64\n",
      " 32  categories_business                 326414 non-null  float64\n",
      " 33  categories_careers                  326414 non-null  float64\n",
      " 34  categories_education                326414 non-null  float64\n",
      " 35  categories_familyandparenting       326414 non-null  float64\n",
      " 36  categories_finance                  326414 non-null  float64\n",
      " 37  categories_foodanddrink             326414 non-null  float64\n",
      " 38  categories_healthandfitness         326414 non-null  float64\n",
      " 39  categories_hobbiesandinterests      326414 non-null  float64\n",
      " 40  categories_homeandgarden            326414 non-null  float64\n",
      " 41  categories_intentions               326414 non-null  float64\n",
      " 42  categories_lawgovtandpolitics       326414 non-null  float64\n",
      " 43  categories_news                     326414 non-null  float64\n",
      " 44  categories_pets                     326414 non-null  float64\n",
      " 45  categories_realestate               326414 non-null  float64\n",
      " 46  categories_religionandspirituality  326414 non-null  float64\n",
      " 47  categories_science                  326414 non-null  float64\n",
      " 48  categories_shopping                 326414 non-null  float64\n",
      " 49  categories_society                  326414 non-null  float64\n",
      " 50  categories_sports                   326414 non-null  float64\n",
      " 51  categories_styleandfashion          326414 non-null  float64\n",
      " 52  categories_technologyandcomputing   326414 non-null  float64\n",
      " 53  categories_travel                   326414 non-null  float64\n",
      " 54  categories_uncategorized            326414 non-null  float64\n",
      " 55  CINEMA                              326414 non-null  int64  \n",
      " 56  CALCIO                              326414 non-null  int64  \n",
      " 57  SPORT                               326414 non-null  int64  \n",
      " 58  SKY_FAMIGLIA                        326414 non-null  int64  \n",
      " 59  FLG_MV                              326414 non-null  int64  \n",
      " 60  FLG_MYSKYHD                         326414 non-null  int64  \n",
      " 61  FLG_HD                              326414 non-null  int64  \n",
      " 62  FLG_MYSKY                           326414 non-null  int64  \n",
      " 63  FLG_SKY_ON_DEMAND                   326414 non-null  int64  \n",
      " 64  STB_HD                              326414 non-null  int64  \n",
      " 65  STB_MYSKYHD                         326414 non-null  int64  \n",
      " 66  STB_MYSKY                           326414 non-null  int64  \n",
      " 67  STB_SD                              326414 non-null  int64  \n",
      " 68  Pdisc                               326414 non-null  int64  \n",
      "dtypes: float64(42), int64(27)\n",
      "memory usage: 174.3 MB\n"
     ]
    }
   ],
   "source": [
    "data.info()"
   ]
  },
  {
   "cell_type": "code",
   "execution_count": 12,
   "metadata": {
    "colab": {
     "base_uri": "https://localhost:8080/",
     "height": 733
    },
    "id": "4wUwarL3TE4w",
    "outputId": "473dc412-8a2a-4069-b3f9-59e84af7201f"
   },
   "outputs": [
    {
     "data": {
      "text/plain": [
       "<AxesSubplot:>"
      ]
     },
     "execution_count": 12,
     "metadata": {},
     "output_type": "execute_result"
    },
    {
     "data": {
      "image/png": "[encoded data removed]",
      "text/plain": [
       "<Figure size 792x648 with 2 Axes>"
      ]
     },
     "metadata": {
      "needs_background": "light"
     },
     "output_type": "display_data"
    }
   ],
   "source": [
    "#After understanding what the columns represent,let's go on to analyze how the data are distributed.\n",
    "corr = data.corr()\n",
    "# Generate a mask for the upper triangle\n",
    "mask = np.triu(np.ones_like(corr, dtype=bool))\n",
    "\n",
    "# Set up the matplotlib figure\n",
    "f, ax = plt.subplots(figsize=(11, 9))\n",
    "\n",
    "# Generate a custom diverging colormap\n",
    "cmap = sns.diverging_palette(230, 20, as_cmap=True)\n",
    "\n",
    "# Draw the heatmap with the mask and correct aspect ratio\n",
    "sns.heatmap(corr, mask=mask, cmap=cmap, vmax=.3, center=0, square=True, linewidths=.5, cbar_kws={\"shrink\": .5})"
   ]
  },
  {
   "cell_type": "markdown",
   "metadata": {
    "id": "-g8oM_kEVtbb"
   },
   "source": [
    "Correlazioni elevate:\n",
    "*   os_windows/os_others : -0.89\n",
    "*   os_others/browser crhome: -0.79\n",
    "*   os_others/browser_unknow: 0.95\n",
    "*   browser_unknow/os_windows: -0.\n",
    "\n",
    "Some variables might cause multicollinearity problems later we will decide whether to eliminate some columns or not,feature selection will help us."
   ]
  },
  {
   "cell_type": "code",
   "execution_count": 13,
   "metadata": {
    "colab": {
     "base_uri": "https://localhost:8080/",
     "height": 298
    },
    "id": "KICvmT1lbD6O",
    "outputId": "8ec3b1fd-1d3f-49f6-e4d8-f0f4c452d387"
   },
   "outputs": [
    {
     "data": {
      "text/plain": [
       "<AxesSubplot:xlabel='Pdisc', ylabel='count'>"
      ]
     },
     "execution_count": 13,
     "metadata": {},
     "output_type": "execute_result"
    },
    {
     "data": {
      "image/png": "[encoded data removed]",
      "text/plain": [
       "<Figure size 432x288 with 1 Axes>"
      ]
     },
     "metadata": {
      "needs_background": "light"
     },
     "output_type": "display_data"
    }
   ],
   "source": [
    "sns.countplot(x=\"Pdisc\", data=data)"
   ]
  },
  {
   "cell_type": "code",
   "execution_count": 14,
   "metadata": {
    "colab": {
     "base_uri": "https://localhost:8080/",
     "height": 299
    },
    "id": "v4y0c8thkRuP",
    "outputId": "453b6347-b73d-4bb5-daa3-4399b4c4e6f1"
   },
   "outputs": [
    {
     "data": {
      "text/plain": [
       "<AxesSubplot:xlabel='os_ios', ylabel='count'>"
      ]
     },
     "execution_count": 14,
     "metadata": {},
     "output_type": "execute_result"
    },
    {
     "data": {
      "image/png": "[encoded data removed]",
      "text/plain": [
       "<Figure size 432x288 with 1 Axes>"
      ]
     },
     "metadata": {
      "needs_background": "light"
     },
     "output_type": "display_data"
    }
   ],
   "source": [
    "sns.countplot(x=\"os_ios\", data=data)"
   ]
  },
  {
   "cell_type": "markdown",
   "metadata": {
    "id": "YlEtV4Zqmvyb"
   },
   "source": [
    "As we expected the class to be predicted is unbalanced\n"
   ]
  },
  {
   "cell_type": "code",
   "execution_count": 15,
   "metadata": {
    "colab": {
     "base_uri": "https://localhost:8080/"
    },
    "id": "-sBnZq3Bsp6N",
    "outputId": "ba03dd81-9646-4b6f-ac3a-7574f0537d4e"
   },
   "outputs": [
    {
     "name": "stdout",
     "output_type": "stream",
     "text": [
      "<class 'pandas.core.frame.DataFrame'>\n",
      "Int64Index: 326414 entries, 0 to 330585\n",
      "Data columns (total 69 columns):\n",
      " #   Column                              Non-Null Count   Dtype  \n",
      "---  ------                              --------------   -----  \n",
      " 0   how_many_ok_urls                    326414 non-null  int64  \n",
      " 1   how_many_ko_urls                    326414 non-null  int64  \n",
      " 2   os_android                          326414 non-null  int64  \n",
      " 3   os_ios                              326414 non-null  int64  \n",
      " 4   os_linux                            326414 non-null  int64  \n",
      " 5   os_other                            326414 non-null  int64  \n",
      " 6   os_windows                          326414 non-null  int64  \n",
      " 7   browser_chrome                      326414 non-null  int64  \n",
      " 8   browser_firefox                     326414 non-null  int64  \n",
      " 9   browser_opera                       326414 non-null  int64  \n",
      " 10  browser_other                       326414 non-null  int64  \n",
      " 11  browser_safari                      326414 non-null  int64  \n",
      " 12  browser_unknown                     326414 non-null  int64  \n",
      " 13  feriale_morning                     326414 non-null  float64\n",
      " 14  feriale_afternoon                   326414 non-null  float64\n",
      " 15  feriale_evening                     326414 non-null  float64\n",
      " 16  feriale_night                       326414 non-null  float64\n",
      " 17  weekend_morning                     326414 non-null  float64\n",
      " 18  weekend_afternoon                   326414 non-null  float64\n",
      " 19  weekend_evening                     326414 non-null  float64\n",
      " 20  weekend_night                       326414 non-null  float64\n",
      " 21  L00_50                              326414 non-null  float64\n",
      " 22  L51_100                             326414 non-null  float64\n",
      " 23  L101_250                            326414 non-null  float64\n",
      " 24  L251_500                            326414 non-null  float64\n",
      " 25  L501_1000                           326414 non-null  float64\n",
      " 26  L1001_2500                          326414 non-null  float64\n",
      " 27  L2501_5000                          326414 non-null  float64\n",
      " 28  L5001_10000                         326414 non-null  float64\n",
      " 29  L10001_more                         326414 non-null  float64\n",
      " 30  categories_artandentertainment      326414 non-null  float64\n",
      " 31  categories_automotive               326414 non-null  float64\n",
      " 32  categories_business                 326414 non-null  float64\n",
      " 33  categories_careers                  326414 non-null  float64\n",
      " 34  categories_education                326414 non-null  float64\n",
      " 35  categories_familyandparenting       326414 non-null  float64\n",
      " 36  categories_finance                  326414 non-null  float64\n",
      " 37  categories_foodanddrink             326414 non-null  float64\n",
      " 38  categories_healthandfitness         326414 non-null  float64\n",
      " 39  categories_hobbiesandinterests      326414 non-null  float64\n",
      " 40  categories_homeandgarden            326414 non-null  float64\n",
      " 41  categories_intentions               326414 non-null  float64\n",
      " 42  categories_lawgovtandpolitics       326414 non-null  float64\n",
      " 43  categories_news                     326414 non-null  float64\n",
      " 44  categories_pets                     326414 non-null  float64\n",
      " 45  categories_realestate               326414 non-null  float64\n",
      " 46  categories_religionandspirituality  326414 non-null  float64\n",
      " 47  categories_science                  326414 non-null  float64\n",
      " 48  categories_shopping                 326414 non-null  float64\n",
      " 49  categories_society                  326414 non-null  float64\n",
      " 50  categories_sports                   326414 non-null  float64\n",
      " 51  categories_styleandfashion          326414 non-null  float64\n",
      " 52  categories_technologyandcomputing   326414 non-null  float64\n",
      " 53  categories_travel                   326414 non-null  float64\n",
      " 54  categories_uncategorized            326414 non-null  float64\n",
      " 55  CINEMA                              326414 non-null  int64  \n",
      " 56  CALCIO                              326414 non-null  int64  \n",
      " 57  SPORT                               326414 non-null  int64  \n",
      " 58  SKY_FAMIGLIA                        326414 non-null  int64  \n",
      " 59  FLG_MV                              326414 non-null  int64  \n",
      " 60  FLG_MYSKYHD                         326414 non-null  int64  \n",
      " 61  FLG_HD                              326414 non-null  int64  \n",
      " 62  FLG_MYSKY                           326414 non-null  int64  \n",
      " 63  FLG_SKY_ON_DEMAND                   326414 non-null  int64  \n",
      " 64  STB_HD                              326414 non-null  int64  \n",
      " 65  STB_MYSKYHD                         326414 non-null  int64  \n",
      " 66  STB_MYSKY                           326414 non-null  int64  \n",
      " 67  STB_SD                              326414 non-null  int64  \n",
      " 68  Pdisc                               326414 non-null  int64  \n",
      "dtypes: float64(42), int64(27)\n",
      "memory usage: 182.4 MB\n"
     ]
    }
   ],
   "source": [
    "data.info()"
   ]
  },
  {
   "cell_type": "markdown",
   "metadata": {
    "id": "TwofMVE1vo_-"
   },
   "source": [
    "# FCA analysis\n",
    "Formal concept analysis (FCA) is a principled method for deriving a hierarchy of concepts or a formal ontology from a collection of objects and their properties. Each concept in the hierarchy represents objects that share a certain set of properties; and each subconcept in the hierarchy represents a subset of the objects (as well as a superset of the properties) of the concepts that precede it."
   ]
  },
  {
   "cell_type": "code",
   "execution_count": 16,
   "metadata": {
    "colab": {
     "base_uri": "https://localhost:8080/",
     "height": 236
    },
    "id": "33UsujMhvvvf",
    "outputId": "e51a7f2a-9918-4437-a549-318fb9373555"
   },
   "outputs": [
    {
     "data": {
      "text/html": [
       "<div>\n",
       "<style scoped>\n",
       "    .dataframe tbody tr th:only-of-type {\n",
       "        vertical-align: middle;\n",
       "    }\n",
       "\n",
       "    .dataframe tbody tr th {\n",
       "        vertical-align: top;\n",
       "    }\n",
       "\n",
       "    .dataframe thead th {\n",
       "        text-align: right;\n",
       "    }\n",
       "</style>\n",
       "<table border=\"1\" class=\"dataframe\">\n",
       "  <thead>\n",
       "    <tr style=\"text-align: right;\">\n",
       "      <th></th>\n",
       "      <th>os_android</th>\n",
       "      <th>os_ios</th>\n",
       "      <th>os_linux</th>\n",
       "      <th>os_other</th>\n",
       "      <th>os_windows</th>\n",
       "      <th>browser_chrome</th>\n",
       "      <th>browser_firefox</th>\n",
       "      <th>browser_opera</th>\n",
       "      <th>browser_other</th>\n",
       "      <th>browser_safari</th>\n",
       "      <th>...</th>\n",
       "      <th>FLG_MV</th>\n",
       "      <th>FLG_MYSKYHD</th>\n",
       "      <th>FLG_HD</th>\n",
       "      <th>FLG_MYSKY</th>\n",
       "      <th>FLG_SKY_ON_DEMAND</th>\n",
       "      <th>STB_HD</th>\n",
       "      <th>STB_MYSKYHD</th>\n",
       "      <th>STB_MYSKY</th>\n",
       "      <th>STB_SD</th>\n",
       "      <th>Pdisc</th>\n",
       "    </tr>\n",
       "  </thead>\n",
       "  <tbody>\n",
       "    <tr>\n",
       "      <th>0</th>\n",
       "      <td>0</td>\n",
       "      <td>0</td>\n",
       "      <td>0</td>\n",
       "      <td>1</td>\n",
       "      <td>0</td>\n",
       "      <td>0</td>\n",
       "      <td>0</td>\n",
       "      <td>0</td>\n",
       "      <td>0</td>\n",
       "      <td>0</td>\n",
       "      <td>...</td>\n",
       "      <td>1</td>\n",
       "      <td>1</td>\n",
       "      <td>0</td>\n",
       "      <td>0</td>\n",
       "      <td>1</td>\n",
       "      <td>0</td>\n",
       "      <td>1</td>\n",
       "      <td>0</td>\n",
       "      <td>0</td>\n",
       "      <td>0</td>\n",
       "    </tr>\n",
       "    <tr>\n",
       "      <th>1</th>\n",
       "      <td>0</td>\n",
       "      <td>0</td>\n",
       "      <td>0</td>\n",
       "      <td>1</td>\n",
       "      <td>0</td>\n",
       "      <td>0</td>\n",
       "      <td>0</td>\n",
       "      <td>0</td>\n",
       "      <td>0</td>\n",
       "      <td>0</td>\n",
       "      <td>...</td>\n",
       "      <td>0</td>\n",
       "      <td>0</td>\n",
       "      <td>1</td>\n",
       "      <td>0</td>\n",
       "      <td>0</td>\n",
       "      <td>1</td>\n",
       "      <td>0</td>\n",
       "      <td>0</td>\n",
       "      <td>0</td>\n",
       "      <td>0</td>\n",
       "    </tr>\n",
       "    <tr>\n",
       "      <th>2</th>\n",
       "      <td>0</td>\n",
       "      <td>0</td>\n",
       "      <td>0</td>\n",
       "      <td>1</td>\n",
       "      <td>0</td>\n",
       "      <td>0</td>\n",
       "      <td>0</td>\n",
       "      <td>0</td>\n",
       "      <td>0</td>\n",
       "      <td>0</td>\n",
       "      <td>...</td>\n",
       "      <td>0</td>\n",
       "      <td>0</td>\n",
       "      <td>1</td>\n",
       "      <td>0</td>\n",
       "      <td>0</td>\n",
       "      <td>1</td>\n",
       "      <td>0</td>\n",
       "      <td>0</td>\n",
       "      <td>0</td>\n",
       "      <td>0</td>\n",
       "    </tr>\n",
       "    <tr>\n",
       "      <th>3</th>\n",
       "      <td>0</td>\n",
       "      <td>0</td>\n",
       "      <td>0</td>\n",
       "      <td>1</td>\n",
       "      <td>0</td>\n",
       "      <td>0</td>\n",
       "      <td>0</td>\n",
       "      <td>0</td>\n",
       "      <td>0</td>\n",
       "      <td>0</td>\n",
       "      <td>...</td>\n",
       "      <td>0</td>\n",
       "      <td>1</td>\n",
       "      <td>0</td>\n",
       "      <td>0</td>\n",
       "      <td>1</td>\n",
       "      <td>0</td>\n",
       "      <td>1</td>\n",
       "      <td>0</td>\n",
       "      <td>0</td>\n",
       "      <td>0</td>\n",
       "    </tr>\n",
       "    <tr>\n",
       "      <th>4</th>\n",
       "      <td>0</td>\n",
       "      <td>0</td>\n",
       "      <td>0</td>\n",
       "      <td>1</td>\n",
       "      <td>0</td>\n",
       "      <td>0</td>\n",
       "      <td>0</td>\n",
       "      <td>0</td>\n",
       "      <td>0</td>\n",
       "      <td>0</td>\n",
       "      <td>...</td>\n",
       "      <td>0</td>\n",
       "      <td>1</td>\n",
       "      <td>0</td>\n",
       "      <td>0</td>\n",
       "      <td>1</td>\n",
       "      <td>0</td>\n",
       "      <td>1</td>\n",
       "      <td>0</td>\n",
       "      <td>0</td>\n",
       "      <td>0</td>\n",
       "    </tr>\n",
       "  </tbody>\n",
       "</table>\n",
       "<p>5 rows × 25 columns</p>\n",
       "</div>"
      ],
      "text/plain": [
       "   os_android  os_ios  os_linux  os_other  os_windows  browser_chrome  \\\n",
       "0           0       0         0         1           0               0   \n",
       "1           0       0         0         1           0               0   \n",
       "2           0       0         0         1           0               0   \n",
       "3           0       0         0         1           0               0   \n",
       "4           0       0         0         1           0               0   \n",
       "\n",
       "   browser_firefox  browser_opera  browser_other  browser_safari  ...  FLG_MV  \\\n",
       "0                0              0              0               0  ...       1   \n",
       "1                0              0              0               0  ...       0   \n",
       "2                0              0              0               0  ...       0   \n",
       "3                0              0              0               0  ...       0   \n",
       "4                0              0              0               0  ...       0   \n",
       "\n",
       "   FLG_MYSKYHD  FLG_HD  FLG_MYSKY  FLG_SKY_ON_DEMAND  STB_HD  STB_MYSKYHD  \\\n",
       "0            1       0          0                  1       0            1   \n",
       "1            0       1          0                  0       1            0   \n",
       "2            0       1          0                  0       1            0   \n",
       "3            1       0          0                  1       0            1   \n",
       "4            1       0          0                  1       0            1   \n",
       "\n",
       "   STB_MYSKY  STB_SD  Pdisc  \n",
       "0          0       0      0  \n",
       "1          0       0      0  \n",
       "2          0       0      0  \n",
       "3          0       0      0  \n",
       "4          0       0      0  \n",
       "\n",
       "[5 rows x 25 columns]"
      ]
     },
     "execution_count": 16,
     "metadata": {},
     "output_type": "execute_result"
    }
   ],
   "source": [
    "dicotomic = data[['os_android',\n",
    "'os_ios',\n",
    "'os_linux',\n",
    "'os_other',\n",
    "'os_windows',\n",
    "'browser_chrome',\n",
    "'browser_firefox',\n",
    "'browser_opera',\n",
    "'browser_other',\n",
    "'browser_safari',\n",
    "'browser_unknown',\n",
    "'CINEMA',\n",
    "'CALCIO',\n",
    "'SPORT',\n",
    "'SKY_FAMIGLIA',\n",
    "'FLG_MV',\n",
    "'FLG_MYSKYHD',\n",
    "'FLG_HD',\n",
    "'FLG_MYSKY',\n",
    "'FLG_SKY_ON_DEMAND',\n",
    "'STB_HD',\n",
    "'STB_MYSKYHD',\n",
    "'STB_MYSKY',\n",
    "'STB_SD',\n",
    "'Pdisc',\n",
    "]]\n",
    "dicotomic.head()"
   ]
  },
  {
   "cell_type": "code",
   "execution_count": 17,
   "metadata": {
    "colab": {
     "base_uri": "https://localhost:8080/",
     "height": 468
    },
    "id": "9neJ3nurv7YC",
    "outputId": "f8801296-8f70-4f91-948b-a8c58dee0426"
   },
   "outputs": [
    {
     "data": {
      "text/html": [
       "<div>\n",
       "<style scoped>\n",
       "    .dataframe tbody tr th:only-of-type {\n",
       "        vertical-align: middle;\n",
       "    }\n",
       "\n",
       "    .dataframe tbody tr th {\n",
       "        vertical-align: top;\n",
       "    }\n",
       "\n",
       "    .dataframe thead th {\n",
       "        text-align: right;\n",
       "    }\n",
       "</style>\n",
       "<table border=\"1\" class=\"dataframe\">\n",
       "  <thead>\n",
       "    <tr style=\"text-align: right;\">\n",
       "      <th></th>\n",
       "      <th>os_android</th>\n",
       "      <th>os_ios</th>\n",
       "      <th>os_linux</th>\n",
       "      <th>os_other</th>\n",
       "      <th>os_windows</th>\n",
       "      <th>browser_chrome</th>\n",
       "      <th>browser_firefox</th>\n",
       "      <th>browser_opera</th>\n",
       "      <th>browser_other</th>\n",
       "      <th>browser_safari</th>\n",
       "      <th>...</th>\n",
       "      <th>FLG_MV</th>\n",
       "      <th>FLG_MYSKYHD</th>\n",
       "      <th>FLG_HD</th>\n",
       "      <th>FLG_MYSKY</th>\n",
       "      <th>FLG_SKY_ON_DEMAND</th>\n",
       "      <th>STB_HD</th>\n",
       "      <th>STB_MYSKYHD</th>\n",
       "      <th>STB_MYSKY</th>\n",
       "      <th>STB_SD</th>\n",
       "      <th>Pdisc</th>\n",
       "    </tr>\n",
       "  </thead>\n",
       "  <tbody>\n",
       "    <tr>\n",
       "      <th>1</th>\n",
       "      <td>False</td>\n",
       "      <td>False</td>\n",
       "      <td>False</td>\n",
       "      <td>True</td>\n",
       "      <td>False</td>\n",
       "      <td>False</td>\n",
       "      <td>False</td>\n",
       "      <td>False</td>\n",
       "      <td>False</td>\n",
       "      <td>False</td>\n",
       "      <td>...</td>\n",
       "      <td>False</td>\n",
       "      <td>False</td>\n",
       "      <td>True</td>\n",
       "      <td>False</td>\n",
       "      <td>False</td>\n",
       "      <td>True</td>\n",
       "      <td>False</td>\n",
       "      <td>False</td>\n",
       "      <td>False</td>\n",
       "      <td>False</td>\n",
       "    </tr>\n",
       "    <tr>\n",
       "      <th>2</th>\n",
       "      <td>False</td>\n",
       "      <td>False</td>\n",
       "      <td>False</td>\n",
       "      <td>True</td>\n",
       "      <td>False</td>\n",
       "      <td>False</td>\n",
       "      <td>False</td>\n",
       "      <td>False</td>\n",
       "      <td>False</td>\n",
       "      <td>False</td>\n",
       "      <td>...</td>\n",
       "      <td>False</td>\n",
       "      <td>False</td>\n",
       "      <td>True</td>\n",
       "      <td>False</td>\n",
       "      <td>False</td>\n",
       "      <td>True</td>\n",
       "      <td>False</td>\n",
       "      <td>False</td>\n",
       "      <td>False</td>\n",
       "      <td>False</td>\n",
       "    </tr>\n",
       "    <tr>\n",
       "      <th>3</th>\n",
       "      <td>False</td>\n",
       "      <td>False</td>\n",
       "      <td>False</td>\n",
       "      <td>True</td>\n",
       "      <td>False</td>\n",
       "      <td>False</td>\n",
       "      <td>False</td>\n",
       "      <td>False</td>\n",
       "      <td>False</td>\n",
       "      <td>False</td>\n",
       "      <td>...</td>\n",
       "      <td>False</td>\n",
       "      <td>True</td>\n",
       "      <td>False</td>\n",
       "      <td>False</td>\n",
       "      <td>True</td>\n",
       "      <td>False</td>\n",
       "      <td>True</td>\n",
       "      <td>False</td>\n",
       "      <td>False</td>\n",
       "      <td>False</td>\n",
       "    </tr>\n",
       "    <tr>\n",
       "      <th>4</th>\n",
       "      <td>False</td>\n",
       "      <td>False</td>\n",
       "      <td>False</td>\n",
       "      <td>True</td>\n",
       "      <td>False</td>\n",
       "      <td>False</td>\n",
       "      <td>False</td>\n",
       "      <td>False</td>\n",
       "      <td>False</td>\n",
       "      <td>False</td>\n",
       "      <td>...</td>\n",
       "      <td>False</td>\n",
       "      <td>True</td>\n",
       "      <td>False</td>\n",
       "      <td>False</td>\n",
       "      <td>True</td>\n",
       "      <td>False</td>\n",
       "      <td>True</td>\n",
       "      <td>False</td>\n",
       "      <td>False</td>\n",
       "      <td>False</td>\n",
       "    </tr>\n",
       "    <tr>\n",
       "      <th>5</th>\n",
       "      <td>False</td>\n",
       "      <td>False</td>\n",
       "      <td>False</td>\n",
       "      <td>True</td>\n",
       "      <td>False</td>\n",
       "      <td>False</td>\n",
       "      <td>False</td>\n",
       "      <td>False</td>\n",
       "      <td>False</td>\n",
       "      <td>False</td>\n",
       "      <td>...</td>\n",
       "      <td>False</td>\n",
       "      <td>True</td>\n",
       "      <td>False</td>\n",
       "      <td>False</td>\n",
       "      <td>True</td>\n",
       "      <td>False</td>\n",
       "      <td>True</td>\n",
       "      <td>False</td>\n",
       "      <td>False</td>\n",
       "      <td>False</td>\n",
       "    </tr>\n",
       "    <tr>\n",
       "      <th>...</th>\n",
       "      <td>...</td>\n",
       "      <td>...</td>\n",
       "      <td>...</td>\n",
       "      <td>...</td>\n",
       "      <td>...</td>\n",
       "      <td>...</td>\n",
       "      <td>...</td>\n",
       "      <td>...</td>\n",
       "      <td>...</td>\n",
       "      <td>...</td>\n",
       "      <td>...</td>\n",
       "      <td>...</td>\n",
       "      <td>...</td>\n",
       "      <td>...</td>\n",
       "      <td>...</td>\n",
       "      <td>...</td>\n",
       "      <td>...</td>\n",
       "      <td>...</td>\n",
       "      <td>...</td>\n",
       "      <td>...</td>\n",
       "      <td>...</td>\n",
       "    </tr>\n",
       "    <tr>\n",
       "      <th>330581</th>\n",
       "      <td>False</td>\n",
       "      <td>False</td>\n",
       "      <td>False</td>\n",
       "      <td>True</td>\n",
       "      <td>False</td>\n",
       "      <td>False</td>\n",
       "      <td>False</td>\n",
       "      <td>False</td>\n",
       "      <td>False</td>\n",
       "      <td>False</td>\n",
       "      <td>...</td>\n",
       "      <td>False</td>\n",
       "      <td>True</td>\n",
       "      <td>False</td>\n",
       "      <td>False</td>\n",
       "      <td>True</td>\n",
       "      <td>False</td>\n",
       "      <td>True</td>\n",
       "      <td>False</td>\n",
       "      <td>False</td>\n",
       "      <td>False</td>\n",
       "    </tr>\n",
       "    <tr>\n",
       "      <th>330582</th>\n",
       "      <td>False</td>\n",
       "      <td>False</td>\n",
       "      <td>False</td>\n",
       "      <td>True</td>\n",
       "      <td>False</td>\n",
       "      <td>False</td>\n",
       "      <td>False</td>\n",
       "      <td>False</td>\n",
       "      <td>False</td>\n",
       "      <td>False</td>\n",
       "      <td>...</td>\n",
       "      <td>False</td>\n",
       "      <td>True</td>\n",
       "      <td>False</td>\n",
       "      <td>False</td>\n",
       "      <td>True</td>\n",
       "      <td>False</td>\n",
       "      <td>True</td>\n",
       "      <td>False</td>\n",
       "      <td>False</td>\n",
       "      <td>False</td>\n",
       "    </tr>\n",
       "    <tr>\n",
       "      <th>330583</th>\n",
       "      <td>False</td>\n",
       "      <td>False</td>\n",
       "      <td>False</td>\n",
       "      <td>True</td>\n",
       "      <td>False</td>\n",
       "      <td>False</td>\n",
       "      <td>False</td>\n",
       "      <td>False</td>\n",
       "      <td>False</td>\n",
       "      <td>False</td>\n",
       "      <td>...</td>\n",
       "      <td>False</td>\n",
       "      <td>True</td>\n",
       "      <td>False</td>\n",
       "      <td>False</td>\n",
       "      <td>False</td>\n",
       "      <td>False</td>\n",
       "      <td>True</td>\n",
       "      <td>False</td>\n",
       "      <td>False</td>\n",
       "      <td>False</td>\n",
       "    </tr>\n",
       "    <tr>\n",
       "      <th>330584</th>\n",
       "      <td>False</td>\n",
       "      <td>False</td>\n",
       "      <td>False</td>\n",
       "      <td>True</td>\n",
       "      <td>False</td>\n",
       "      <td>False</td>\n",
       "      <td>False</td>\n",
       "      <td>False</td>\n",
       "      <td>False</td>\n",
       "      <td>False</td>\n",
       "      <td>...</td>\n",
       "      <td>False</td>\n",
       "      <td>True</td>\n",
       "      <td>False</td>\n",
       "      <td>False</td>\n",
       "      <td>True</td>\n",
       "      <td>False</td>\n",
       "      <td>True</td>\n",
       "      <td>False</td>\n",
       "      <td>False</td>\n",
       "      <td>False</td>\n",
       "    </tr>\n",
       "    <tr>\n",
       "      <th>330585</th>\n",
       "      <td>False</td>\n",
       "      <td>False</td>\n",
       "      <td>False</td>\n",
       "      <td>True</td>\n",
       "      <td>False</td>\n",
       "      <td>False</td>\n",
       "      <td>False</td>\n",
       "      <td>False</td>\n",
       "      <td>False</td>\n",
       "      <td>False</td>\n",
       "      <td>...</td>\n",
       "      <td>True</td>\n",
       "      <td>True</td>\n",
       "      <td>False</td>\n",
       "      <td>False</td>\n",
       "      <td>True</td>\n",
       "      <td>False</td>\n",
       "      <td>True</td>\n",
       "      <td>False</td>\n",
       "      <td>False</td>\n",
       "      <td>False</td>\n",
       "    </tr>\n",
       "  </tbody>\n",
       "</table>\n",
       "<p>326413 rows × 25 columns</p>\n",
       "</div>"
      ],
      "text/plain": [
       "        os_android  os_ios  os_linux  os_other  os_windows  browser_chrome  \\\n",
       "1            False   False     False      True       False           False   \n",
       "2            False   False     False      True       False           False   \n",
       "3            False   False     False      True       False           False   \n",
       "4            False   False     False      True       False           False   \n",
       "5            False   False     False      True       False           False   \n",
       "...            ...     ...       ...       ...         ...             ...   \n",
       "330581       False   False     False      True       False           False   \n",
       "330582       False   False     False      True       False           False   \n",
       "330583       False   False     False      True       False           False   \n",
       "330584       False   False     False      True       False           False   \n",
       "330585       False   False     False      True       False           False   \n",
       "\n",
       "        browser_firefox  browser_opera  browser_other  browser_safari  ...  \\\n",
       "1                 False          False          False           False  ...   \n",
       "2                 False          False          False           False  ...   \n",
       "3                 False          False          False           False  ...   \n",
       "4                 False          False          False           False  ...   \n",
       "5                 False          False          False           False  ...   \n",
       "...                 ...            ...            ...             ...  ...   \n",
       "330581            False          False          False           False  ...   \n",
       "330582            False          False          False           False  ...   \n",
       "330583            False          False          False           False  ...   \n",
       "330584            False          False          False           False  ...   \n",
       "330585            False          False          False           False  ...   \n",
       "\n",
       "        FLG_MV  FLG_MYSKYHD  FLG_HD  FLG_MYSKY  FLG_SKY_ON_DEMAND  STB_HD  \\\n",
       "1        False        False    True      False              False    True   \n",
       "2        False        False    True      False              False    True   \n",
       "3        False         True   False      False               True   False   \n",
       "4        False         True   False      False               True   False   \n",
       "5        False         True   False      False               True   False   \n",
       "...        ...          ...     ...        ...                ...     ...   \n",
       "330581   False         True   False      False               True   False   \n",
       "330582   False         True   False      False               True   False   \n",
       "330583   False         True   False      False              False   False   \n",
       "330584   False         True   False      False               True   False   \n",
       "330585    True         True   False      False               True   False   \n",
       "\n",
       "        STB_MYSKYHD  STB_MYSKY  STB_SD  Pdisc  \n",
       "1             False      False   False  False  \n",
       "2             False      False   False  False  \n",
       "3              True      False   False  False  \n",
       "4              True      False   False  False  \n",
       "5              True      False   False  False  \n",
       "...             ...        ...     ...    ...  \n",
       "330581         True      False   False  False  \n",
       "330582         True      False   False  False  \n",
       "330583         True      False   False  False  \n",
       "330584         True      False   False  False  \n",
       "330585         True      False   False  False  \n",
       "\n",
       "[326413 rows x 25 columns]"
      ]
     },
     "execution_count": 17,
     "metadata": {},
     "output_type": "execute_result"
    }
   ],
   "source": [
    "#Trasformo 0 e 1 in booleani\n",
    "dicotomic = dicotomic.iloc[1:, :]\n",
    "dicotomic1 =dicotomic.astype('bool')\n",
    "dicotomic1"
   ]
  },
  {
   "cell_type": "code",
   "execution_count": 18,
   "metadata": {
    "id": "Y-InXghYv9J1"
   },
   "outputs": [],
   "source": [
    "#K = FormalContext.read_csv('/content/dicotomic4')\n",
    "#print(K)"
   ]
  },
  {
   "cell_type": "code",
   "execution_count": 19,
   "metadata": {
    "id": "AuKqmjUkwAVe"
   },
   "outputs": [],
   "source": [
    "#from fcapy.lattice import ConceptLattice\n",
    "#L = ConceptLattice.from_context(K)\n",
    "#print(len(L))"
   ]
  },
  {
   "cell_type": "code",
   "execution_count": 20,
   "metadata": {
    "id": "a61VRGjQwB2q"
   },
   "outputs": [],
   "source": [
    "#from fcapy.visualizer import ConceptLatticeVisualizer\n",
    "\n",
    "#plt.figure(figsize=(10, 5))\n",
    "#vsl = ConceptLatticeVisualizer(L)\n",
    "#vsl.draw_networkx(max_new_extent_count=5, draw_node_indices=True)\n",
    "#plt.xlim(-0.7,0.7)\n",
    "#plt.axis(False)\n",
    "#plt.tight_layout()\n",
    "#plt.show()"
   ]
  },
  {
   "cell_type": "markdown",
   "metadata": {
    "id": "5OqlK7oli2pF"
   },
   "source": [
    "Because of the computational limitation of our instruments and because of the size of the dataset, FCA was performed using random and stratified sampling.\n",
    "The results can be observed in the report"
   ]
  },
  {
   "cell_type": "markdown",
   "metadata": {
    "id": "7vNifLgjeKou"
   },
   "source": [
    "# Normalizzazione\n",
    "Normalization is a technique often applied as part of data preparation for Machine Learning. The goal of normalization is to change the values of numerical columns in the data set to use a common scale, without bias in the ranges of values or loss of information. Normalization is also necessary for some algorithms to properly model the data."
   ]
  },
  {
   "cell_type": "code",
   "execution_count": 21,
   "metadata": {
    "id": "Qv8D6KO8tSZc"
   },
   "outputs": [],
   "source": [
    "data_cut = data[['categories_artandentertainment','categories_automotive','categories_business','categories_careers','categories_education','categories_familyandparenting','categories_finance','categories_foodanddrink','categories_healthandfitness','categories_hobbiesandinterests','categories_homeandgarden','categories_intentions','categories_lawgovtandpolitics','categories_news','categories_pets','categories_realestate','categories_religionandspirituality','categories_science','categories_shopping','categories_society','categories_sports','categories_styleandfashion','categories_technologyandcomputing','categories_travel','categories_uncategorized']]\n"
   ]
  },
  {
   "cell_type": "code",
   "execution_count": 22,
   "metadata": {
    "colab": {
     "base_uri": "https://localhost:8080/"
    },
    "id": "YfxOik_teNUa",
    "outputId": "f2af80bd-d06f-4ebe-e624-17fa8b9f8450"
   },
   "outputs": [
    {
     "name": "stdout",
     "output_type": "stream",
     "text": [
      "        categories_artandentertainment  categories_automotive  \\\n",
      "0                             0.006909               0.000000   \n",
      "1                             0.000000               0.000000   \n",
      "2                             0.000000               0.000000   \n",
      "3                             0.068980               0.003571   \n",
      "4                             0.000000               0.033333   \n",
      "...                                ...                    ...   \n",
      "330581                        0.000000               0.000000   \n",
      "330582                        0.000000               0.000000   \n",
      "330583                        0.018571               0.021714   \n",
      "330584                        0.103714               0.000000   \n",
      "330585                        0.328681               0.010549   \n",
      "\n",
      "        categories_business  categories_careers  categories_education  \\\n",
      "0                  0.000000            0.002727              0.000000   \n",
      "1                  0.000000            0.000000              0.000000   \n",
      "2                  0.000000            0.000000              0.000000   \n",
      "3                  0.005514            0.000000              0.000000   \n",
      "4                  0.000000            0.000000              0.000000   \n",
      "...                     ...                 ...                   ...   \n",
      "330581             0.000000            0.000000              0.146667   \n",
      "330582             0.000000            0.000000              0.000000   \n",
      "330583             0.000000            0.000000              0.000000   \n",
      "330584             0.038095            0.000000              0.000000   \n",
      "330585             0.007326            0.000000              0.005055   \n",
      "\n",
      "        categories_familyandparenting  categories_finance  \\\n",
      "0                            0.000000            0.000000   \n",
      "1                            0.000000            0.000000   \n",
      "2                            0.000000            0.000000   \n",
      "3                            0.000000            0.013673   \n",
      "4                            0.000000            0.086667   \n",
      "...                               ...                 ...   \n",
      "330581                       0.000000            0.000000   \n",
      "330582                       0.000000            0.000000   \n",
      "330583                       0.000000            0.050857   \n",
      "330584                       0.020571            0.000000   \n",
      "330585                       0.000000            0.000000   \n",
      "\n",
      "        categories_foodanddrink  categories_healthandfitness  \\\n",
      "0                      0.137727                     0.000000   \n",
      "1                      0.000000                     0.022941   \n",
      "2                      0.000000                     0.000000   \n",
      "3                      0.000000                     0.000000   \n",
      "4                      0.000000                     0.000000   \n",
      "...                         ...                          ...   \n",
      "330581                 0.000000                     0.000000   \n",
      "330582                 0.000000                     0.000000   \n",
      "330583                 0.000000                     0.000000   \n",
      "330584                 0.000000                     0.017143   \n",
      "330585                 0.000000                     0.004505   \n",
      "\n",
      "        categories_hobbiesandinterests  ...  categories_realestate  \\\n",
      "0                             0.000000  ...               0.000000   \n",
      "1                             0.021176  ...               0.000000   \n",
      "2                             0.000000  ...               0.000000   \n",
      "3                             0.000000  ...               0.005612   \n",
      "4                             0.000000  ...               0.000000   \n",
      "...                                ...  ...                    ...   \n",
      "330581                        0.000000  ...               0.000000   \n",
      "330582                        0.000000  ...               0.000000   \n",
      "330583                        0.000000  ...               0.018857   \n",
      "330584                        0.000000  ...               0.000000   \n",
      "330585                        0.000000  ...               0.000000   \n",
      "\n",
      "        categories_religionandspirituality  categories_science  \\\n",
      "0                                      0.0            0.006897   \n",
      "1                                      0.0            0.000000   \n",
      "2                                      0.0            0.000000   \n",
      "3                                      0.0            0.003108   \n",
      "4                                      0.0            0.000000   \n",
      "...                                    ...                 ...   \n",
      "330581                                 0.0            0.000000   \n",
      "330582                                 0.0            0.000000   \n",
      "330583                                 0.0            0.000000   \n",
      "330584                                 0.0            0.000000   \n",
      "330585                                 0.0            0.020968   \n",
      "\n",
      "        categories_shopping  categories_society  categories_sports  \\\n",
      "0                  0.000000            0.234727           0.185455   \n",
      "1                  0.000000            0.047059           0.135294   \n",
      "2                  0.000000            0.000000           0.000000   \n",
      "3                  0.013776            0.004082           0.000000   \n",
      "4                  0.000000            0.000000           0.000000   \n",
      "...                     ...                 ...                ...   \n",
      "330581             0.000000            0.000000           0.000000   \n",
      "330582             0.774286            0.000000           0.000000   \n",
      "330583             0.000000            0.029143           0.000000   \n",
      "330584             0.034286            0.036571           0.034286   \n",
      "330585             0.000000            0.043407           0.009670   \n",
      "\n",
      "        categories_styleandfashion  categories_technologyandcomputing  \\\n",
      "0                         0.000000                           0.000000   \n",
      "1                         0.000000                           0.000000   \n",
      "2                         0.000000                           0.266667   \n",
      "3                         0.000000                           0.257857   \n",
      "4                         0.000000                           0.000000   \n",
      "...                            ...                                ...   \n",
      "330581                    0.000000                           0.153333   \n",
      "330582                    0.000000                           0.120000   \n",
      "330583                    0.000000                           0.035429   \n",
      "330584                    0.000000                           0.041429   \n",
      "330585                    0.004092                           0.023626   \n",
      "\n",
      "        categories_travel  categories_uncategorized  \n",
      "0                0.000000                  0.227273  \n",
      "1                0.015294                  0.000000  \n",
      "2                0.000000                  0.333333  \n",
      "3                0.000000                  0.000000  \n",
      "4                0.000000                  0.000000  \n",
      "...                   ...                       ...  \n",
      "330581           0.000000                  0.000000  \n",
      "330582           0.000000                  0.000000  \n",
      "330583           0.091143                  0.000000  \n",
      "330584           0.000000                  0.000000  \n",
      "330585           0.031099                  0.000000  \n",
      "\n",
      "[326414 rows x 25 columns]\n"
     ]
    }
   ],
   "source": [
    "data_cut = data[['categories_artandentertainment','categories_automotive','categories_business','categories_careers','categories_education','categories_familyandparenting','categories_finance','categories_foodanddrink','categories_healthandfitness','categories_hobbiesandinterests','categories_homeandgarden','categories_intentions','categories_lawgovtandpolitics','categories_news','categories_pets','categories_realestate','categories_religionandspirituality','categories_science','categories_shopping','categories_society','categories_sports','categories_styleandfashion','categories_technologyandcomputing','categories_travel','categories_uncategorized']]\n",
    "def minmax_norm(data_cut_input):\n",
    "    return (data_cut - data_cut.min()) / ( data_cut.max() - data_cut.min())\n",
    "\n",
    "data_categorie = minmax_norm(data_cut)\n",
    "\n",
    "print(data_categorie)"
   ]
  },
  {
   "cell_type": "code",
   "execution_count": 23,
   "metadata": {
    "colab": {
     "base_uri": "https://localhost:8080/"
    },
    "id": "9qBINCAOtPAb",
    "outputId": "df68f8af-0d14-4f7a-e9d6-dc641f97c6e1"
   },
   "outputs": [
    {
     "name": "stdout",
     "output_type": "stream",
     "text": [
      "<class 'pandas.core.frame.DataFrame'>\n",
      "Int64Index: 326414 entries, 0 to 330585\n",
      "Data columns (total 44 columns):\n",
      " #   Column             Non-Null Count   Dtype  \n",
      "---  ------             --------------   -----  \n",
      " 0   how_many_ok_urls   326414 non-null  int64  \n",
      " 1   how_many_ko_urls   326414 non-null  int64  \n",
      " 2   os_android         326414 non-null  int64  \n",
      " 3   os_ios             326414 non-null  int64  \n",
      " 4   os_linux           326414 non-null  int64  \n",
      " 5   os_other           326414 non-null  int64  \n",
      " 6   os_windows         326414 non-null  int64  \n",
      " 7   browser_chrome     326414 non-null  int64  \n",
      " 8   browser_firefox    326414 non-null  int64  \n",
      " 9   browser_opera      326414 non-null  int64  \n",
      " 10  browser_other      326414 non-null  int64  \n",
      " 11  browser_safari     326414 non-null  int64  \n",
      " 12  browser_unknown    326414 non-null  int64  \n",
      " 13  feriale_morning    326414 non-null  float64\n",
      " 14  feriale_afternoon  326414 non-null  float64\n",
      " 15  feriale_evening    326414 non-null  float64\n",
      " 16  feriale_night      326414 non-null  float64\n",
      " 17  weekend_morning    326414 non-null  float64\n",
      " 18  weekend_afternoon  326414 non-null  float64\n",
      " 19  weekend_evening    326414 non-null  float64\n",
      " 20  weekend_night      326414 non-null  float64\n",
      " 21  L00_50             326414 non-null  float64\n",
      " 22  L51_100            326414 non-null  float64\n",
      " 23  L101_250           326414 non-null  float64\n",
      " 24  L251_500           326414 non-null  float64\n",
      " 25  L501_1000          326414 non-null  float64\n",
      " 26  L1001_2500         326414 non-null  float64\n",
      " 27  L2501_5000         326414 non-null  float64\n",
      " 28  L5001_10000        326414 non-null  float64\n",
      " 29  L10001_more        326414 non-null  float64\n",
      " 30  CINEMA             326414 non-null  int64  \n",
      " 31  CALCIO             326414 non-null  int64  \n",
      " 32  SPORT              326414 non-null  int64  \n",
      " 33  SKY_FAMIGLIA       326414 non-null  int64  \n",
      " 34  FLG_MV             326414 non-null  int64  \n",
      " 35  FLG_MYSKYHD        326414 non-null  int64  \n",
      " 36  FLG_HD             326414 non-null  int64  \n",
      " 37  FLG_MYSKY          326414 non-null  int64  \n",
      " 38  FLG_SKY_ON_DEMAND  326414 non-null  int64  \n",
      " 39  STB_HD             326414 non-null  int64  \n",
      " 40  STB_MYSKYHD        326414 non-null  int64  \n",
      " 41  STB_MYSKY          326414 non-null  int64  \n",
      " 42  STB_SD             326414 non-null  int64  \n",
      " 43  Pdisc              326414 non-null  int64  \n",
      "dtypes: float64(17), int64(27)\n",
      "memory usage: 120.1 MB\n"
     ]
    }
   ],
   "source": [
    "data1_cut = data.drop(data.columns[[30,31,32, 33, 34, 35, 36, 37, 38, 39, 40, 41, 42, 43, 44, 45, 46, 47, 48, 49, 50, 51, 52, 53, 54]], axis = 1)\n",
    "data1_cut.info()"
   ]
  },
  {
   "cell_type": "code",
   "execution_count": 24,
   "metadata": {
    "colab": {
     "base_uri": "https://localhost:8080/"
    },
    "id": "ON17q0kHtBkI",
    "outputId": "f463e525-0bc7-462d-acf9-f3a9b512b8e3"
   },
   "outputs": [
    {
     "name": "stdout",
     "output_type": "stream",
     "text": [
      "<class 'pandas.core.frame.DataFrame'>\n",
      "Int64Index: 326414 entries, 0 to 330585\n",
      "Data columns (total 69 columns):\n",
      " #   Column                              Non-Null Count   Dtype  \n",
      "---  ------                              --------------   -----  \n",
      " 0   how_many_ok_urls                    326414 non-null  int64  \n",
      " 1   how_many_ko_urls                    326414 non-null  int64  \n",
      " 2   os_android                          326414 non-null  int64  \n",
      " 3   os_ios                              326414 non-null  int64  \n",
      " 4   os_linux                            326414 non-null  int64  \n",
      " 5   os_other                            326414 non-null  int64  \n",
      " 6   os_windows                          326414 non-null  int64  \n",
      " 7   browser_chrome                      326414 non-null  int64  \n",
      " 8   browser_firefox                     326414 non-null  int64  \n",
      " 9   browser_opera                       326414 non-null  int64  \n",
      " 10  browser_other                       326414 non-null  int64  \n",
      " 11  browser_safari                      326414 non-null  int64  \n",
      " 12  browser_unknown                     326414 non-null  int64  \n",
      " 13  feriale_morning                     326414 non-null  float64\n",
      " 14  feriale_afternoon                   326414 non-null  float64\n",
      " 15  feriale_evening                     326414 non-null  float64\n",
      " 16  feriale_night                       326414 non-null  float64\n",
      " 17  weekend_morning                     326414 non-null  float64\n",
      " 18  weekend_afternoon                   326414 non-null  float64\n",
      " 19  weekend_evening                     326414 non-null  float64\n",
      " 20  weekend_night                       326414 non-null  float64\n",
      " 21  L00_50                              326414 non-null  float64\n",
      " 22  L51_100                             326414 non-null  float64\n",
      " 23  L101_250                            326414 non-null  float64\n",
      " 24  L251_500                            326414 non-null  float64\n",
      " 25  L501_1000                           326414 non-null  float64\n",
      " 26  L1001_2500                          326414 non-null  float64\n",
      " 27  L2501_5000                          326414 non-null  float64\n",
      " 28  L5001_10000                         326414 non-null  float64\n",
      " 29  L10001_more                         326414 non-null  float64\n",
      " 30  CINEMA                              326414 non-null  int64  \n",
      " 31  CALCIO                              326414 non-null  int64  \n",
      " 32  SPORT                               326414 non-null  int64  \n",
      " 33  SKY_FAMIGLIA                        326414 non-null  int64  \n",
      " 34  FLG_MV                              326414 non-null  int64  \n",
      " 35  FLG_MYSKYHD                         326414 non-null  int64  \n",
      " 36  FLG_HD                              326414 non-null  int64  \n",
      " 37  FLG_MYSKY                           326414 non-null  int64  \n",
      " 38  FLG_SKY_ON_DEMAND                   326414 non-null  int64  \n",
      " 39  STB_HD                              326414 non-null  int64  \n",
      " 40  STB_MYSKYHD                         326414 non-null  int64  \n",
      " 41  STB_MYSKY                           326414 non-null  int64  \n",
      " 42  STB_SD                              326414 non-null  int64  \n",
      " 43  Pdisc                               326414 non-null  int64  \n",
      " 44  categories_artandentertainment      326414 non-null  float64\n",
      " 45  categories_automotive               326414 non-null  float64\n",
      " 46  categories_business                 326414 non-null  float64\n",
      " 47  categories_careers                  326414 non-null  float64\n",
      " 48  categories_education                326414 non-null  float64\n",
      " 49  categories_familyandparenting       326414 non-null  float64\n",
      " 50  categories_finance                  326414 non-null  float64\n",
      " 51  categories_foodanddrink             326414 non-null  float64\n",
      " 52  categories_healthandfitness         326414 non-null  float64\n",
      " 53  categories_hobbiesandinterests      326414 non-null  float64\n",
      " 54  categories_homeandgarden            326414 non-null  float64\n",
      " 55  categories_intentions               326414 non-null  float64\n",
      " 56  categories_lawgovtandpolitics       326414 non-null  float64\n",
      " 57  categories_news                     326414 non-null  float64\n",
      " 58  categories_pets                     326414 non-null  float64\n",
      " 59  categories_realestate               326414 non-null  float64\n",
      " 60  categories_religionandspirituality  326414 non-null  float64\n",
      " 61  categories_science                  326414 non-null  float64\n",
      " 62  categories_shopping                 326414 non-null  float64\n",
      " 63  categories_society                  326414 non-null  float64\n",
      " 64  categories_sports                   326414 non-null  float64\n",
      " 65  categories_styleandfashion          326414 non-null  float64\n",
      " 66  categories_technologyandcomputing   326414 non-null  float64\n",
      " 67  categories_travel                   326414 non-null  float64\n",
      " 68  categories_uncategorized            326414 non-null  float64\n",
      "dtypes: float64(42), int64(27)\n",
      "memory usage: 182.4 MB\n"
     ]
    }
   ],
   "source": [
    "normalizzato = pd.concat([data1_cut, data_categorie], axis=1, join='inner')\n",
    "normalizzato.info()\n",
    "#Ho già eliminato le colonne che non servono e la variabile 'target'."
   ]
  },
  {
   "cell_type": "code",
   "execution_count": 25,
   "metadata": {
    "id": "8GzpNcslpw9b"
   },
   "outputs": [],
   "source": [
    "#normalizzato.to_csv('normalizzato_senza_dup')"
   ]
  },
  {
   "cell_type": "markdown",
   "metadata": {
    "id": "4J9zwWXydPfN"
   },
   "source": [
    "# Modelli clean"
   ]
  },
  {
   "cell_type": "code",
   "execution_count": 26,
   "metadata": {
    "colab": {
     "base_uri": "https://localhost:8080/"
    },
    "id": "5DTB_EsSdOsN",
    "outputId": "a37df3c2-ceaf-467d-b144-41c9713bdbcc"
   },
   "outputs": [
    {
     "name": "stdout",
     "output_type": "stream",
     "text": [
      "(228489, 68)\n",
      "(228489,)\n",
      "(97925, 68)\n",
      "(97925,)\n"
     ]
    }
   ],
   "source": [
    "X = normalizzato.drop([\"Pdisc\"], axis=1, inplace= False)\n",
    "y= normalizzato[\"Pdisc\"]\n",
    "X_train, X_test, y_train, y_test = train_test_split(X, y, test_size=0.30, random_state=101)\n",
    "print (X_train.shape)\n",
    "print (y_train.shape)\n",
    "print (X_test.shape)\n",
    "print (y_test.shape)"
   ]
  },
  {
   "cell_type": "markdown",
   "metadata": {
    "id": "eOqPQEKV0B1K"
   },
   "source": [
    "**Logistic Regression**\n"
   ]
  },
  {
   "cell_type": "code",
   "execution_count": 27,
   "metadata": {
    "colab": {
     "base_uri": "https://localhost:8080/"
    },
    "id": "eAdp3-QP0mAq",
    "outputId": "8d418175-96c9-44e6-eeb7-36c69b407c74"
   },
   "outputs": [
    {
     "name": "stderr",
     "output_type": "stream",
     "text": [
      "C:\\Users\\Simone\\anaconda3\\lib\\site-packages\\sklearn\\linear_model\\_logistic.py:444: ConvergenceWarning: lbfgs failed to converge (status=1):\n",
      "STOP: TOTAL NO. of ITERATIONS REACHED LIMIT.\n",
      "\n",
      "Increase the number of iterations (max_iter) or scale the data as shown in:\n",
      "    https://scikit-learn.org/stable/modules/preprocessing.html\n",
      "Please also refer to the documentation for alternative solver options:\n",
      "    https://scikit-learn.org/stable/modules/linear_model.html#logistic-regression\n",
      "  n_iter_i = _check_optimize_result(\n"
     ]
    },
    {
     "data": {
      "text/html": [
       "<style>#sk-container-id-1 {color: black;background-color: white;}#sk-container-id-1 pre{padding: 0;}#sk-container-id-1 div.sk-toggleable {background-color: white;}#sk-container-id-1 label.sk-toggleable__label {cursor: pointer;display: block;width: 100%;margin-bottom: 0;padding: 0.3em;box-sizing: border-box;text-align: center;}#sk-container-id-1 label.sk-toggleable__label-arrow:before {content: \"▸\";float: left;margin-right: 0.25em;color: #696969;}#sk-container-id-1 label.sk-toggleable__label-arrow:hover:before {color: black;}#sk-container-id-1 div.sk-estimator:hover label.sk-toggleable__label-arrow:before {color: black;}#sk-container-id-1 div.sk-toggleable__content {max-height: 0;max-width: 0;overflow: hidden;text-align: left;background-color: #f0f8ff;}#sk-container-id-1 div.sk-toggleable__content pre {margin: 0.2em;color: black;border-radius: 0.25em;background-color: #f0f8ff;}#sk-container-id-1 input.sk-toggleable__control:checked~div.sk-toggleable__content {max-height: 200px;max-width: 100%;overflow: auto;}#sk-container-id-1 input.sk-toggleable__control:checked~label.sk-toggleable__label-arrow:before {content: \"▾\";}#sk-container-id-1 div.sk-estimator input.sk-toggleable__control:checked~label.sk-toggleable__label {background-color: #d4ebff;}#sk-container-id-1 div.sk-label input.sk-toggleable__control:checked~label.sk-toggleable__label {background-color: #d4ebff;}#sk-container-id-1 input.sk-hidden--visually {border: 0;clip: rect(1px 1px 1px 1px);clip: rect(1px, 1px, 1px, 1px);height: 1px;margin: -1px;overflow: hidden;padding: 0;position: absolute;width: 1px;}#sk-container-id-1 div.sk-estimator {font-family: monospace;background-color: #f0f8ff;border: 1px dotted black;border-radius: 0.25em;box-sizing: border-box;margin-bottom: 0.5em;}#sk-container-id-1 div.sk-estimator:hover {background-color: #d4ebff;}#sk-container-id-1 div.sk-parallel-item::after {content: \"\";width: 100%;border-bottom: 1px solid gray;flex-grow: 1;}#sk-container-id-1 div.sk-label:hover label.sk-toggleable__label {background-color: #d4ebff;}#sk-container-id-1 div.sk-serial::before {content: \"\";position: absolute;border-left: 1px solid gray;box-sizing: border-box;top: 0;bottom: 0;left: 50%;z-index: 0;}#sk-container-id-1 div.sk-serial {display: flex;flex-direction: column;align-items: center;background-color: white;padding-right: 0.2em;padding-left: 0.2em;position: relative;}#sk-container-id-1 div.sk-item {position: relative;z-index: 1;}#sk-container-id-1 div.sk-parallel {display: flex;align-items: stretch;justify-content: center;background-color: white;position: relative;}#sk-container-id-1 div.sk-item::before, #sk-container-id-1 div.sk-parallel-item::before {content: \"\";position: absolute;border-left: 1px solid gray;box-sizing: border-box;top: 0;bottom: 0;left: 50%;z-index: -1;}#sk-container-id-1 div.sk-parallel-item {display: flex;flex-direction: column;z-index: 1;position: relative;background-color: white;}#sk-container-id-1 div.sk-parallel-item:first-child::after {align-self: flex-end;width: 50%;}#sk-container-id-1 div.sk-parallel-item:last-child::after {align-self: flex-start;width: 50%;}#sk-container-id-1 div.sk-parallel-item:only-child::after {width: 0;}#sk-container-id-1 div.sk-dashed-wrapped {border: 1px dashed gray;margin: 0 0.4em 0.5em 0.4em;box-sizing: border-box;padding-bottom: 0.4em;background-color: white;}#sk-container-id-1 div.sk-label label {font-family: monospace;font-weight: bold;display: inline-block;line-height: 1.2em;}#sk-container-id-1 div.sk-label-container {text-align: center;}#sk-container-id-1 div.sk-container {/* jupyter's `normalize.less` sets `[hidden] { display: none; }` but bootstrap.min.css set `[hidden] { display: none !important; }` so we also need the `!important` here to be able to override the default hidden behavior on the sphinx rendered scikit-learn.org. See: https://github.com/scikit-learn/scikit-learn/issues/21755 */display: inline-block !important;position: relative;}#sk-container-id-1 div.sk-text-repr-fallback {display: none;}</style><div id=\"sk-container-id-1\" class=\"sk-top-container\"><div class=\"sk-text-repr-fallback\"><pre>LogisticRegression()</pre><b>In a Jupyter environment, please rerun this cell to show the HTML representation or trust the notebook. <br />On GitHub, the HTML representation is unable to render, please try loading this page with nbviewer.org.</b></div><div class=\"sk-container\" hidden><div class=\"sk-item\"><div class=\"sk-estimator sk-toggleable\"><input class=\"sk-toggleable__control sk-hidden--visually\" id=\"sk-estimator-id-1\" type=\"checkbox\" checked><label for=\"sk-estimator-id-1\" class=\"sk-toggleable__label sk-toggleable__label-arrow\">LogisticRegression</label><div class=\"sk-toggleable__content\"><pre>LogisticRegression()</pre></div></div></div></div></div>"
      ],
      "text/plain": [
       "LogisticRegression()"
      ]
     },
     "execution_count": 27,
     "metadata": {},
     "output_type": "execute_result"
    }
   ],
   "source": [
    "logreg = LogisticRegression()\n",
    "logreg.fit(X_train, y_train) "
   ]
  },
  {
   "cell_type": "code",
   "execution_count": 28,
   "metadata": {
    "id": "8rzdUlFY0ut-"
   },
   "outputs": [],
   "source": [
    "log_predicted= logreg.predict(X_test)"
   ]
  },
  {
   "cell_type": "code",
   "execution_count": 29,
   "metadata": {
    "colab": {
     "base_uri": "https://localhost:8080/"
    },
    "id": "osSOmlZe00Wu",
    "outputId": "401b5baa-6b4c-49fb-e15b-480d4578a81b"
   },
   "outputs": [
    {
     "name": "stdout",
     "output_type": "stream",
     "text": [
      "[[95003     0]\n",
      " [ 2922     0]]\n",
      "              precision    recall  f1-score   support\n",
      "\n",
      "           0       0.97      1.00      0.98     95003\n",
      "           1       0.00      0.00      0.00      2922\n",
      "\n",
      "    accuracy                           0.97     97925\n",
      "   macro avg       0.49      0.50      0.49     97925\n",
      "weighted avg       0.94      0.97      0.96     97925\n",
      "\n"
     ]
    },
    {
     "name": "stderr",
     "output_type": "stream",
     "text": [
      "C:\\Users\\Simone\\anaconda3\\lib\\site-packages\\sklearn\\metrics\\_classification.py:1334: UndefinedMetricWarning: Precision and F-score are ill-defined and being set to 0.0 in labels with no predicted samples. Use `zero_division` parameter to control this behavior.\n",
      "  _warn_prf(average, modifier, msg_start, len(result))\n",
      "C:\\Users\\Simone\\anaconda3\\lib\\site-packages\\sklearn\\metrics\\_classification.py:1334: UndefinedMetricWarning: Precision and F-score are ill-defined and being set to 0.0 in labels with no predicted samples. Use `zero_division` parameter to control this behavior.\n",
      "  _warn_prf(average, modifier, msg_start, len(result))\n",
      "C:\\Users\\Simone\\anaconda3\\lib\\site-packages\\sklearn\\metrics\\_classification.py:1334: UndefinedMetricWarning: Precision and F-score are ill-defined and being set to 0.0 in labels with no predicted samples. Use `zero_division` parameter to control this behavior.\n",
      "  _warn_prf(average, modifier, msg_start, len(result))\n"
     ]
    }
   ],
   "source": [
    "print(confusion_matrix(y_test,log_predicted))\n",
    "print(classification_report(y_test,log_predicted))"
   ]
  },
  {
   "cell_type": "code",
   "execution_count": 30,
   "metadata": {
    "colab": {
     "base_uri": "https://localhost:8080/",
     "height": 284
    },
    "id": "Vj-6AlyNxjct",
    "outputId": "0f123e5e-5e15-40d5-f6ad-e2236cb70f1f"
   },
   "outputs": [
    {
     "name": "stdout",
     "output_type": "stream",
     "text": [
      "Logistic Regression Training Score: \n",
      " 97.03\n",
      "Logistic Regression Test Score: \n",
      " 97.02\n",
      "Coefficient: \n",
      " [[ 1.53705221e-04 -7.80627617e-04 -9.76657973e-02 -4.20890172e-02\n",
      "   5.04983115e-03 -1.28098145e-01 -3.78334352e-01 -1.94897992e-01\n",
      "  -1.64172343e-01 -5.88598075e-03 -1.40301337e-01 -4.93704837e-02\n",
      "  -8.65093438e-02  2.30345142e-02  9.74824950e-02  3.51485306e-02\n",
      "  -2.51027040e-01 -1.74745462e-01 -1.98446102e-01 -1.43077627e-01\n",
      "  -2.95067895e-02 -7.84118159e-02 -2.76371793e-02 -2.55818777e-02\n",
      "  -1.09051034e-01 -1.50306987e-01  3.19342716e-03 -3.35980773e-02\n",
      "   2.95522293e-03  5.02891292e-03 -6.15683673e-01 -5.27188636e-01\n",
      "  -8.45650662e-01 -6.88954220e-01 -3.28833061e-01 -9.47786650e-01\n",
      "  -3.01334185e-01 -9.70496639e-01 -4.19476991e-02 -1.90034925e-01\n",
      "  -2.33167608e-01 -4.44720082e-02 -5.98425993e-01  2.68447593e-02\n",
      "   1.04726043e-02  5.52358421e-03  1.44649470e-02 -1.67958772e-02\n",
      "  -1.32996631e-02  2.20221949e-02 -1.98638046e-01  1.10524126e-02\n",
      "  -5.19593662e-03  1.54795826e-02  8.67540855e-03 -1.05350940e-02\n",
      "  -3.20680502e-02  6.67623472e-04 -9.25487081e-03 -1.64367028e-02\n",
      "  -3.14603977e-01  2.72968865e-01 -1.92382880e-02  1.81311587e-01\n",
      "  -3.12716272e-02  9.94188382e-02 -6.59444576e-02 -7.16265921e-03]]\n",
      "Intercept: \n",
      " [-0.64495654]\n",
      "Accuracy: \n",
      " 0.9701608373755425\n",
      "Confusion Matrix: \n",
      " [[95003     0]\n",
      " [ 2922     0]]\n"
     ]
    },
    {
     "name": "stderr",
     "output_type": "stream",
     "text": [
      "C:\\Users\\Simone\\anaconda3\\lib\\site-packages\\sklearn\\metrics\\_classification.py:1334: UndefinedMetricWarning: Precision and F-score are ill-defined and being set to 0.0 in labels with no predicted samples. Use `zero_division` parameter to control this behavior.\n",
      "  _warn_prf(average, modifier, msg_start, len(result))\n",
      "C:\\Users\\Simone\\anaconda3\\lib\\site-packages\\sklearn\\metrics\\_classification.py:1334: UndefinedMetricWarning: Precision and F-score are ill-defined and being set to 0.0 in labels with no predicted samples. Use `zero_division` parameter to control this behavior.\n",
      "  _warn_prf(average, modifier, msg_start, len(result))\n",
      "C:\\Users\\Simone\\anaconda3\\lib\\site-packages\\sklearn\\metrics\\_classification.py:1334: UndefinedMetricWarning: Precision and F-score are ill-defined and being set to 0.0 in labels with no predicted samples. Use `zero_division` parameter to control this behavior.\n",
      "  _warn_prf(average, modifier, msg_start, len(result))\n"
     ]
    },
    {
     "name": "stdout",
     "output_type": "stream",
     "text": [
      "Classification Report: \n",
      "               precision    recall  f1-score   support\n",
      "\n",
      "           0       0.97      1.00      0.98     95003\n",
      "           1       0.00      0.00      0.00      2922\n",
      "\n",
      "    accuracy                           0.97     97925\n",
      "   macro avg       0.49      0.50      0.49     97925\n",
      "weighted avg       0.94      0.97      0.96     97925\n",
      "\n"
     ]
    },
    {
     "data": {
      "text/plain": [
       "<AxesSubplot:>"
      ]
     },
     "execution_count": 30,
     "metadata": {},
     "output_type": "execute_result"
    },
    {
     "data": {
      "image/png": "[encoded data removed]",
      "text/plain": [
       "<Figure size 432x288 with 2 Axes>"
      ]
     },
     "metadata": {
      "needs_background": "light"
     },
     "output_type": "display_data"
    }
   ],
   "source": [
    "logreg_score = round(logreg.score(X_train, y_train) * 100, 2)\n",
    "logreg_score_test = round(logreg.score(X_test, y_test) * 100, 2)\n",
    "#Equation coefficient and Intercept\n",
    "print('Logistic Regression Training Score: \\n', logreg_score)\n",
    "print('Logistic Regression Test Score: \\n', logreg_score_test)\n",
    "print('Coefficient: \\n', logreg.coef_)\n",
    "print('Intercept: \\n', logreg.intercept_)\n",
    "print('Accuracy: \\n', accuracy_score(y_test,log_predicted))\n",
    "print('Confusion Matrix: \\n', confusion_matrix(y_test,log_predicted))\n",
    "print('Classification Report: \\n', classification_report(y_test,log_predicted))\n",
    "\n",
    "sns.heatmap(confusion_matrix(y_test,log_predicted),annot=True,fmt=\"d\")"
   ]
  },
  {
   "cell_type": "markdown",
   "metadata": {
    "id": "8W_yElNw38T-"
   },
   "source": [
    "**Naive Bayes**\n",
    "Assumes independence among features."
   ]
  },
  {
   "cell_type": "code",
   "execution_count": 31,
   "metadata": {
    "colab": {
     "base_uri": "https://localhost:8080/"
    },
    "id": "cGtWixuixPQz",
    "outputId": "b4e4e1d9-6e0c-46cf-b82b-d4c0a109f596"
   },
   "outputs": [
    {
     "data": {
      "text/html": [
       "<style>#sk-container-id-2 {color: black;background-color: white;}#sk-container-id-2 pre{padding: 0;}#sk-container-id-2 div.sk-toggleable {background-color: white;}#sk-container-id-2 label.sk-toggleable__label {cursor: pointer;display: block;width: 100%;margin-bottom: 0;padding: 0.3em;box-sizing: border-box;text-align: center;}#sk-container-id-2 label.sk-toggleable__label-arrow:before {content: \"▸\";float: left;margin-right: 0.25em;color: #696969;}#sk-container-id-2 label.sk-toggleable__label-arrow:hover:before {color: black;}#sk-container-id-2 div.sk-estimator:hover label.sk-toggleable__label-arrow:before {color: black;}#sk-container-id-2 div.sk-toggleable__content {max-height: 0;max-width: 0;overflow: hidden;text-align: left;background-color: #f0f8ff;}#sk-container-id-2 div.sk-toggleable__content pre {margin: 0.2em;color: black;border-radius: 0.25em;background-color: #f0f8ff;}#sk-container-id-2 input.sk-toggleable__control:checked~div.sk-toggleable__content {max-height: 200px;max-width: 100%;overflow: auto;}#sk-container-id-2 input.sk-toggleable__control:checked~label.sk-toggleable__label-arrow:before {content: \"▾\";}#sk-container-id-2 div.sk-estimator input.sk-toggleable__control:checked~label.sk-toggleable__label {background-color: #d4ebff;}#sk-container-id-2 div.sk-label input.sk-toggleable__control:checked~label.sk-toggleable__label {background-color: #d4ebff;}#sk-container-id-2 input.sk-hidden--visually {border: 0;clip: rect(1px 1px 1px 1px);clip: rect(1px, 1px, 1px, 1px);height: 1px;margin: -1px;overflow: hidden;padding: 0;position: absolute;width: 1px;}#sk-container-id-2 div.sk-estimator {font-family: monospace;background-color: #f0f8ff;border: 1px dotted black;border-radius: 0.25em;box-sizing: border-box;margin-bottom: 0.5em;}#sk-container-id-2 div.sk-estimator:hover {background-color: #d4ebff;}#sk-container-id-2 div.sk-parallel-item::after {content: \"\";width: 100%;border-bottom: 1px solid gray;flex-grow: 1;}#sk-container-id-2 div.sk-label:hover label.sk-toggleable__label {background-color: #d4ebff;}#sk-container-id-2 div.sk-serial::before {content: \"\";position: absolute;border-left: 1px solid gray;box-sizing: border-box;top: 0;bottom: 0;left: 50%;z-index: 0;}#sk-container-id-2 div.sk-serial {display: flex;flex-direction: column;align-items: center;background-color: white;padding-right: 0.2em;padding-left: 0.2em;position: relative;}#sk-container-id-2 div.sk-item {position: relative;z-index: 1;}#sk-container-id-2 div.sk-parallel {display: flex;align-items: stretch;justify-content: center;background-color: white;position: relative;}#sk-container-id-2 div.sk-item::before, #sk-container-id-2 div.sk-parallel-item::before {content: \"\";position: absolute;border-left: 1px solid gray;box-sizing: border-box;top: 0;bottom: 0;left: 50%;z-index: -1;}#sk-container-id-2 div.sk-parallel-item {display: flex;flex-direction: column;z-index: 1;position: relative;background-color: white;}#sk-container-id-2 div.sk-parallel-item:first-child::after {align-self: flex-end;width: 50%;}#sk-container-id-2 div.sk-parallel-item:last-child::after {align-self: flex-start;width: 50%;}#sk-container-id-2 div.sk-parallel-item:only-child::after {width: 0;}#sk-container-id-2 div.sk-dashed-wrapped {border: 1px dashed gray;margin: 0 0.4em 0.5em 0.4em;box-sizing: border-box;padding-bottom: 0.4em;background-color: white;}#sk-container-id-2 div.sk-label label {font-family: monospace;font-weight: bold;display: inline-block;line-height: 1.2em;}#sk-container-id-2 div.sk-label-container {text-align: center;}#sk-container-id-2 div.sk-container {/* jupyter's `normalize.less` sets `[hidden] { display: none; }` but bootstrap.min.css set `[hidden] { display: none !important; }` so we also need the `!important` here to be able to override the default hidden behavior on the sphinx rendered scikit-learn.org. See: https://github.com/scikit-learn/scikit-learn/issues/21755 */display: inline-block !important;position: relative;}#sk-container-id-2 div.sk-text-repr-fallback {display: none;}</style><div id=\"sk-container-id-2\" class=\"sk-top-container\"><div class=\"sk-text-repr-fallback\"><pre>GaussianNB()</pre><b>In a Jupyter environment, please rerun this cell to show the HTML representation or trust the notebook. <br />On GitHub, the HTML representation is unable to render, please try loading this page with nbviewer.org.</b></div><div class=\"sk-container\" hidden><div class=\"sk-item\"><div class=\"sk-estimator sk-toggleable\"><input class=\"sk-toggleable__control sk-hidden--visually\" id=\"sk-estimator-id-2\" type=\"checkbox\" checked><label for=\"sk-estimator-id-2\" class=\"sk-toggleable__label sk-toggleable__label-arrow\">GaussianNB</label><div class=\"sk-toggleable__content\"><pre>GaussianNB()</pre></div></div></div></div></div>"
      ],
      "text/plain": [
       "GaussianNB()"
      ]
     },
     "execution_count": 31,
     "metadata": {},
     "output_type": "execute_result"
    }
   ],
   "source": [
    "gaussian = GaussianNB()\n",
    "gaussian.fit(X_train, y_train)"
   ]
  },
  {
   "cell_type": "code",
   "execution_count": 32,
   "metadata": {
    "id": "9q1seCoTlFyd"
   },
   "outputs": [],
   "source": [
    "gauss_predicted = gaussian.predict(X_test)"
   ]
  },
  {
   "cell_type": "code",
   "execution_count": 33,
   "metadata": {
    "colab": {
     "base_uri": "https://localhost:8080/"
    },
    "id": "dQgB2FKExg2-",
    "outputId": "9caa04f4-b5c3-4254-f770-add37ed36d66"
   },
   "outputs": [
    {
     "name": "stdout",
     "output_type": "stream",
     "text": [
      "[[79371 15632]\n",
      " [ 1656  1266]]\n",
      "              precision    recall  f1-score   support\n",
      "\n",
      "           0       0.98      0.84      0.90     95003\n",
      "           1       0.07      0.43      0.13      2922\n",
      "\n",
      "    accuracy                           0.82     97925\n",
      "   macro avg       0.53      0.63      0.51     97925\n",
      "weighted avg       0.95      0.82      0.88     97925\n",
      "\n"
     ]
    }
   ],
   "source": [
    "print(confusion_matrix(y_test,gauss_predicted))\n",
    "print(classification_report(y_test,gauss_predicted))"
   ]
  },
  {
   "cell_type": "markdown",
   "metadata": {
    "id": "_p25bS1oxkOF"
   },
   "source": [
    "Naive bayes gives an accuracy in terms of f1-measure of 82%. Recall for positive class of 43%. Better than in other models."
   ]
  },
  {
   "cell_type": "code",
   "execution_count": 34,
   "metadata": {
    "id": "y54mYEXvxWrK"
   },
   "outputs": [
    {
     "name": "stdout",
     "output_type": "stream",
     "text": [
      "Gaussian Score: \n",
      " 82.38\n",
      "Gaussian Test Score: \n",
      " 82.35\n",
      "Accuracy: \n",
      " 0.8234567270870564\n",
      "[[79371 15632]\n",
      " [ 1656  1266]]\n",
      "              precision    recall  f1-score   support\n",
      "\n",
      "           0       0.98      0.84      0.90     95003\n",
      "           1       0.07      0.43      0.13      2922\n",
      "\n",
      "    accuracy                           0.82     97925\n",
      "   macro avg       0.53      0.63      0.51     97925\n",
      "weighted avg       0.95      0.82      0.88     97925\n",
      "\n"
     ]
    },
    {
     "data": {
      "text/plain": [
       "<AxesSubplot:>"
      ]
     },
     "execution_count": 34,
     "metadata": {},
     "output_type": "execute_result"
    },
    {
     "data": {
      "image/png": "[encoded data removed]",
      "text/plain": [
       "<Figure size 432x288 with 2 Axes>"
      ]
     },
     "metadata": {
      "needs_background": "light"
     },
     "output_type": "display_data"
    }
   ],
   "source": [
    "gauss_score = round(gaussian.score(X_train, y_train) * 100, 2)\n",
    "gauss_score_test = round(gaussian.score(X_test, y_test) * 100, 2)\n",
    "print('Gaussian Score: \\n', gauss_score)\n",
    "print('Gaussian Test Score: \\n', gauss_score_test)\n",
    "print('Accuracy: \\n', accuracy_score(y_test, gauss_predicted))\n",
    "print(confusion_matrix(y_test,gauss_predicted))\n",
    "print(classification_report(y_test,gauss_predicted))\n",
    "\n",
    "sns.heatmap(confusion_matrix(y_test,gauss_predicted),annot=True,fmt=\"d\") \n"
   ]
  },
  {
   "cell_type": "markdown",
   "metadata": {
    "id": "DLzVdxV741mr"
   },
   "source": [
    "**Rete neurale**"
   ]
  },
  {
   "cell_type": "code",
   "execution_count": 35,
   "metadata": {
    "colab": {
     "base_uri": "https://localhost:8080/"
    },
    "id": "jF-6orV04rjL",
    "outputId": "18fd2686-861a-4ef7-fbe5-47c9379e81e6"
   },
   "outputs": [
    {
     "name": "stdout",
     "output_type": "stream",
     "text": [
      "Iteration 1, loss = 0.14202854\n",
      "Iteration 2, loss = 0.12180487\n",
      "Iteration 3, loss = 0.12095878\n",
      "Iteration 4, loss = 0.12048963\n",
      "Iteration 5, loss = 0.12036801\n",
      "Iteration 6, loss = 0.11994378\n",
      "Iteration 7, loss = 0.11923686\n",
      "Iteration 8, loss = 0.11962659\n",
      "Iteration 9, loss = 0.11929066\n",
      "Iteration 10, loss = 0.11908124\n",
      "Iteration 11, loss = 0.11864431\n",
      "Iteration 12, loss = 0.11840491\n",
      "Iteration 13, loss = 0.11848759\n",
      "Iteration 14, loss = 0.11833621\n",
      "Iteration 15, loss = 0.11787201\n",
      "Iteration 16, loss = 0.11757909\n",
      "Iteration 17, loss = 0.11747378\n",
      "Iteration 18, loss = 0.11775258\n",
      "Iteration 19, loss = 0.11730697\n",
      "Iteration 20, loss = 0.11681041\n",
      "Iteration 21, loss = 0.11779991\n",
      "Iteration 22, loss = 0.11631507\n",
      "Iteration 23, loss = 0.11711640\n",
      "Iteration 24, loss = 0.11663425\n",
      "Iteration 25, loss = 0.11684964\n",
      "Iteration 26, loss = 0.11671417\n",
      "Iteration 27, loss = 0.11669025\n",
      "Iteration 28, loss = 0.11621583\n",
      "Iteration 29, loss = 0.11620747\n",
      "Iteration 30, loss = 0.11665301\n",
      "Iteration 31, loss = 0.11634362\n",
      "Iteration 32, loss = 0.11655504\n",
      "Iteration 33, loss = 0.11645789\n",
      "Training loss did not improve more than tol=0.000100 for 10 consecutive epochs. Stopping.\n"
     ]
    },
    {
     "data": {
      "text/html": [
       "<style>#sk-container-id-3 {color: black;background-color: white;}#sk-container-id-3 pre{padding: 0;}#sk-container-id-3 div.sk-toggleable {background-color: white;}#sk-container-id-3 label.sk-toggleable__label {cursor: pointer;display: block;width: 100%;margin-bottom: 0;padding: 0.3em;box-sizing: border-box;text-align: center;}#sk-container-id-3 label.sk-toggleable__label-arrow:before {content: \"▸\";float: left;margin-right: 0.25em;color: #696969;}#sk-container-id-3 label.sk-toggleable__label-arrow:hover:before {color: black;}#sk-container-id-3 div.sk-estimator:hover label.sk-toggleable__label-arrow:before {color: black;}#sk-container-id-3 div.sk-toggleable__content {max-height: 0;max-width: 0;overflow: hidden;text-align: left;background-color: #f0f8ff;}#sk-container-id-3 div.sk-toggleable__content pre {margin: 0.2em;color: black;border-radius: 0.25em;background-color: #f0f8ff;}#sk-container-id-3 input.sk-toggleable__control:checked~div.sk-toggleable__content {max-height: 200px;max-width: 100%;overflow: auto;}#sk-container-id-3 input.sk-toggleable__control:checked~label.sk-toggleable__label-arrow:before {content: \"▾\";}#sk-container-id-3 div.sk-estimator input.sk-toggleable__control:checked~label.sk-toggleable__label {background-color: #d4ebff;}#sk-container-id-3 div.sk-label input.sk-toggleable__control:checked~label.sk-toggleable__label {background-color: #d4ebff;}#sk-container-id-3 input.sk-hidden--visually {border: 0;clip: rect(1px 1px 1px 1px);clip: rect(1px, 1px, 1px, 1px);height: 1px;margin: -1px;overflow: hidden;padding: 0;position: absolute;width: 1px;}#sk-container-id-3 div.sk-estimator {font-family: monospace;background-color: #f0f8ff;border: 1px dotted black;border-radius: 0.25em;box-sizing: border-box;margin-bottom: 0.5em;}#sk-container-id-3 div.sk-estimator:hover {background-color: #d4ebff;}#sk-container-id-3 div.sk-parallel-item::after {content: \"\";width: 100%;border-bottom: 1px solid gray;flex-grow: 1;}#sk-container-id-3 div.sk-label:hover label.sk-toggleable__label {background-color: #d4ebff;}#sk-container-id-3 div.sk-serial::before {content: \"\";position: absolute;border-left: 1px solid gray;box-sizing: border-box;top: 0;bottom: 0;left: 50%;z-index: 0;}#sk-container-id-3 div.sk-serial {display: flex;flex-direction: column;align-items: center;background-color: white;padding-right: 0.2em;padding-left: 0.2em;position: relative;}#sk-container-id-3 div.sk-item {position: relative;z-index: 1;}#sk-container-id-3 div.sk-parallel {display: flex;align-items: stretch;justify-content: center;background-color: white;position: relative;}#sk-container-id-3 div.sk-item::before, #sk-container-id-3 div.sk-parallel-item::before {content: \"\";position: absolute;border-left: 1px solid gray;box-sizing: border-box;top: 0;bottom: 0;left: 50%;z-index: -1;}#sk-container-id-3 div.sk-parallel-item {display: flex;flex-direction: column;z-index: 1;position: relative;background-color: white;}#sk-container-id-3 div.sk-parallel-item:first-child::after {align-self: flex-end;width: 50%;}#sk-container-id-3 div.sk-parallel-item:last-child::after {align-self: flex-start;width: 50%;}#sk-container-id-3 div.sk-parallel-item:only-child::after {width: 0;}#sk-container-id-3 div.sk-dashed-wrapped {border: 1px dashed gray;margin: 0 0.4em 0.5em 0.4em;box-sizing: border-box;padding-bottom: 0.4em;background-color: white;}#sk-container-id-3 div.sk-label label {font-family: monospace;font-weight: bold;display: inline-block;line-height: 1.2em;}#sk-container-id-3 div.sk-label-container {text-align: center;}#sk-container-id-3 div.sk-container {/* jupyter's `normalize.less` sets `[hidden] { display: none; }` but bootstrap.min.css set `[hidden] { display: none !important; }` so we also need the `!important` here to be able to override the default hidden behavior on the sphinx rendered scikit-learn.org. See: https://github.com/scikit-learn/scikit-learn/issues/21755 */display: inline-block !important;position: relative;}#sk-container-id-3 div.sk-text-repr-fallback {display: none;}</style><div id=\"sk-container-id-3\" class=\"sk-top-container\"><div class=\"sk-text-repr-fallback\"><pre>MLPClassifier(hidden_layer_sizes=(6, 5), learning_rate_init=0.01, max_iter=300,\n",
       "              random_state=5, verbose=True)</pre><b>In a Jupyter environment, please rerun this cell to show the HTML representation or trust the notebook. <br />On GitHub, the HTML representation is unable to render, please try loading this page with nbviewer.org.</b></div><div class=\"sk-container\" hidden><div class=\"sk-item\"><div class=\"sk-estimator sk-toggleable\"><input class=\"sk-toggleable__control sk-hidden--visually\" id=\"sk-estimator-id-3\" type=\"checkbox\" checked><label for=\"sk-estimator-id-3\" class=\"sk-toggleable__label sk-toggleable__label-arrow\">MLPClassifier</label><div class=\"sk-toggleable__content\"><pre>MLPClassifier(hidden_layer_sizes=(6, 5), learning_rate_init=0.01, max_iter=300,\n",
       "              random_state=5, verbose=True)</pre></div></div></div></div></div>"
      ],
      "text/plain": [
       "MLPClassifier(hidden_layer_sizes=(6, 5), learning_rate_init=0.01, max_iter=300,\n",
       "              random_state=5, verbose=True)"
      ]
     },
     "execution_count": 35,
     "metadata": {},
     "output_type": "execute_result"
    }
   ],
   "source": [
    "clf = MLPClassifier(hidden_layer_sizes=(6,5), max_iter=300, activation = 'relu',\n",
    "                    solver='adam', random_state=5, verbose=True,\n",
    "                    learning_rate_init=0.01)\n",
    "clf.fit(X_train,y_train)"
   ]
  },
  {
   "cell_type": "code",
   "execution_count": 36,
   "metadata": {
    "id": "uLiO60BVvRY0"
   },
   "outputs": [],
   "source": [
    "y_pred_clf=clf.predict(X_test)"
   ]
  },
  {
   "cell_type": "code",
   "execution_count": 37,
   "metadata": {
    "colab": {
     "base_uri": "https://localhost:8080/"
    },
    "id": "grP7YAGU5I2T",
    "outputId": "b1719106-a95f-45fd-f160-d2dc7b7798aa"
   },
   "outputs": [
    {
     "name": "stdout",
     "output_type": "stream",
     "text": [
      "[[95003     0]\n",
      " [ 2922     0]]\n",
      "              precision    recall  f1-score   support\n",
      "\n",
      "           0       0.97      1.00      0.98     95003\n",
      "           1       0.00      0.00      0.00      2922\n",
      "\n",
      "    accuracy                           0.97     97925\n",
      "   macro avg       0.49      0.50      0.49     97925\n",
      "weighted avg       0.94      0.97      0.96     97925\n",
      "\n"
     ]
    },
    {
     "name": "stderr",
     "output_type": "stream",
     "text": [
      "C:\\Users\\Simone\\anaconda3\\lib\\site-packages\\sklearn\\metrics\\_classification.py:1334: UndefinedMetricWarning: Precision and F-score are ill-defined and being set to 0.0 in labels with no predicted samples. Use `zero_division` parameter to control this behavior.\n",
      "  _warn_prf(average, modifier, msg_start, len(result))\n",
      "C:\\Users\\Simone\\anaconda3\\lib\\site-packages\\sklearn\\metrics\\_classification.py:1334: UndefinedMetricWarning: Precision and F-score are ill-defined and being set to 0.0 in labels with no predicted samples. Use `zero_division` parameter to control this behavior.\n",
      "  _warn_prf(average, modifier, msg_start, len(result))\n",
      "C:\\Users\\Simone\\anaconda3\\lib\\site-packages\\sklearn\\metrics\\_classification.py:1334: UndefinedMetricWarning: Precision and F-score are ill-defined and being set to 0.0 in labels with no predicted samples. Use `zero_division` parameter to control this behavior.\n",
      "  _warn_prf(average, modifier, msg_start, len(result))\n"
     ]
    }
   ],
   "source": [
    "print(confusion_matrix(y_test,y_pred_clf))\n",
    "print(classification_report(y_test,y_pred_clf)) "
   ]
  },
  {
   "cell_type": "markdown",
   "metadata": {
    "id": "a2lMP1kInvAT"
   },
   "source": [
    "**Random Forest** "
   ]
  },
  {
   "cell_type": "code",
   "execution_count": 38,
   "metadata": {
    "colab": {
     "base_uri": "https://localhost:8080/"
    },
    "id": "4QUBBay84JQ5",
    "outputId": "fb609df0-ff4c-4e71-8028-9688e7af7258"
   },
   "outputs": [
    {
     "name": "stdout",
     "output_type": "stream",
     "text": [
      "Random Forest Score: \n",
      " 99.96\n",
      "Random Forest Test Score: \n",
      " 96.99\n",
      "[[94967    36]\n",
      " [ 2912    10]]\n",
      "              precision    recall  f1-score   support\n",
      "\n",
      "           0       0.97      1.00      0.98     95003\n",
      "           1       0.22      0.00      0.01      2922\n",
      "\n",
      "    accuracy                           0.97     97925\n",
      "   macro avg       0.59      0.50      0.50     97925\n",
      "weighted avg       0.95      0.97      0.96     97925\n",
      "\n"
     ]
    }
   ],
   "source": [
    "random_forest = RandomForestClassifier(n_estimators=100)\n",
    "random_forest.fit(X_train, y_train)\n",
    "#Predict Output\n",
    "rf_predicted = random_forest.predict(X_test)\n",
    "random_forest_score = round(random_forest.score(X_train, y_train) * 100, 2)\n",
    "random_forest_score_test = round(random_forest.score(X_test, y_test) * 100, 2)\n",
    "print('Random Forest Score: \\n', random_forest_score)\n",
    "print('Random Forest Test Score: \\n', random_forest_score_test)\n",
    "print(confusion_matrix(y_test,rf_predicted))\n",
    "print(classification_report(y_test,rf_predicted))"
   ]
  },
  {
   "cell_type": "markdown",
   "metadata": {
    "id": "k8bEO113odA4"
   },
   "source": [
    "The random forest has 100% recall for the negative class. From the confusion matrix we note that 8 positives were correctly classified."
   ]
  },
  {
   "cell_type": "markdown",
   "metadata": {
    "id": "VyZQGOB2R6qy"
   },
   "source": [
    "# Quantile method\n",
    "\n"
   ]
  },
  {
   "cell_type": "code",
   "execution_count": 39,
   "metadata": {
    "colab": {
     "base_uri": "https://localhost:8080/",
     "height": 300
    },
    "id": "-pd3LQGZ4aUd",
    "outputId": "eee0d6de-75cf-4851-cfcf-b99a3ab285b3"
   },
   "outputs": [
    {
     "data": {
      "text/html": [
       "<div>\n",
       "<style scoped>\n",
       "    .dataframe tbody tr th:only-of-type {\n",
       "        vertical-align: middle;\n",
       "    }\n",
       "\n",
       "    .dataframe tbody tr th {\n",
       "        vertical-align: top;\n",
       "    }\n",
       "\n",
       "    .dataframe thead th {\n",
       "        text-align: right;\n",
       "    }\n",
       "</style>\n",
       "<table border=\"1\" class=\"dataframe\">\n",
       "  <thead>\n",
       "    <tr style=\"text-align: right;\">\n",
       "      <th></th>\n",
       "      <th>how_many_ok_urls</th>\n",
       "      <th>how_many_ko_urls</th>\n",
       "      <th>os_android</th>\n",
       "      <th>os_ios</th>\n",
       "      <th>os_linux</th>\n",
       "      <th>os_other</th>\n",
       "      <th>os_windows</th>\n",
       "      <th>browser_chrome</th>\n",
       "      <th>browser_firefox</th>\n",
       "      <th>browser_opera</th>\n",
       "      <th>...</th>\n",
       "      <th>categories_science</th>\n",
       "      <th>categories_shopping</th>\n",
       "      <th>categories_society</th>\n",
       "      <th>categories_sports</th>\n",
       "      <th>categories_styleandfashion</th>\n",
       "      <th>categories_technologyandcomputing</th>\n",
       "      <th>categories_travel</th>\n",
       "      <th>categories_uncategorized</th>\n",
       "      <th>Pdisc</th>\n",
       "      <th>P_1</th>\n",
       "    </tr>\n",
       "  </thead>\n",
       "  <tbody>\n",
       "    <tr>\n",
       "      <th>199773</th>\n",
       "      <td>24</td>\n",
       "      <td>8</td>\n",
       "      <td>0</td>\n",
       "      <td>0</td>\n",
       "      <td>0</td>\n",
       "      <td>1</td>\n",
       "      <td>0</td>\n",
       "      <td>0</td>\n",
       "      <td>0</td>\n",
       "      <td>0</td>\n",
       "      <td>...</td>\n",
       "      <td>0.008142</td>\n",
       "      <td>0.0</td>\n",
       "      <td>0.018333</td>\n",
       "      <td>0.080833</td>\n",
       "      <td>0.0</td>\n",
       "      <td>0.015833</td>\n",
       "      <td>0.0</td>\n",
       "      <td>0.041667</td>\n",
       "      <td>0</td>\n",
       "      <td>0.0</td>\n",
       "    </tr>\n",
       "    <tr>\n",
       "      <th>105821</th>\n",
       "      <td>4</td>\n",
       "      <td>0</td>\n",
       "      <td>0</td>\n",
       "      <td>0</td>\n",
       "      <td>0</td>\n",
       "      <td>1</td>\n",
       "      <td>0</td>\n",
       "      <td>0</td>\n",
       "      <td>0</td>\n",
       "      <td>0</td>\n",
       "      <td>...</td>\n",
       "      <td>0.000000</td>\n",
       "      <td>0.0</td>\n",
       "      <td>0.000000</td>\n",
       "      <td>0.000000</td>\n",
       "      <td>0.0</td>\n",
       "      <td>0.430000</td>\n",
       "      <td>0.0</td>\n",
       "      <td>0.000000</td>\n",
       "      <td>0</td>\n",
       "      <td>0.0</td>\n",
       "    </tr>\n",
       "    <tr>\n",
       "      <th>275074</th>\n",
       "      <td>13</td>\n",
       "      <td>0</td>\n",
       "      <td>0</td>\n",
       "      <td>0</td>\n",
       "      <td>0</td>\n",
       "      <td>1</td>\n",
       "      <td>0</td>\n",
       "      <td>0</td>\n",
       "      <td>0</td>\n",
       "      <td>0</td>\n",
       "      <td>...</td>\n",
       "      <td>0.000000</td>\n",
       "      <td>0.0</td>\n",
       "      <td>0.000000</td>\n",
       "      <td>0.041538</td>\n",
       "      <td>0.0</td>\n",
       "      <td>0.087692</td>\n",
       "      <td>0.0</td>\n",
       "      <td>0.000000</td>\n",
       "      <td>0</td>\n",
       "      <td>0.0</td>\n",
       "    </tr>\n",
       "    <tr>\n",
       "      <th>313162</th>\n",
       "      <td>3</td>\n",
       "      <td>0</td>\n",
       "      <td>0</td>\n",
       "      <td>0</td>\n",
       "      <td>0</td>\n",
       "      <td>1</td>\n",
       "      <td>0</td>\n",
       "      <td>0</td>\n",
       "      <td>0</td>\n",
       "      <td>0</td>\n",
       "      <td>...</td>\n",
       "      <td>0.000000</td>\n",
       "      <td>0.0</td>\n",
       "      <td>0.000000</td>\n",
       "      <td>0.053333</td>\n",
       "      <td>0.0</td>\n",
       "      <td>0.000000</td>\n",
       "      <td>0.0</td>\n",
       "      <td>0.000000</td>\n",
       "      <td>0</td>\n",
       "      <td>0.0</td>\n",
       "    </tr>\n",
       "    <tr>\n",
       "      <th>226939</th>\n",
       "      <td>4</td>\n",
       "      <td>0</td>\n",
       "      <td>0</td>\n",
       "      <td>0</td>\n",
       "      <td>0</td>\n",
       "      <td>1</td>\n",
       "      <td>0</td>\n",
       "      <td>0</td>\n",
       "      <td>0</td>\n",
       "      <td>0</td>\n",
       "      <td>...</td>\n",
       "      <td>0.000000</td>\n",
       "      <td>0.0</td>\n",
       "      <td>0.000000</td>\n",
       "      <td>0.000000</td>\n",
       "      <td>0.0</td>\n",
       "      <td>0.380000</td>\n",
       "      <td>0.0</td>\n",
       "      <td>0.000000</td>\n",
       "      <td>0</td>\n",
       "      <td>0.0</td>\n",
       "    </tr>\n",
       "  </tbody>\n",
       "</table>\n",
       "<p>5 rows × 70 columns</p>\n",
       "</div>"
      ],
      "text/plain": [
       "        how_many_ok_urls  how_many_ko_urls  os_android  os_ios  os_linux  \\\n",
       "199773                24                 8           0       0         0   \n",
       "105821                 4                 0           0       0         0   \n",
       "275074                13                 0           0       0         0   \n",
       "313162                 3                 0           0       0         0   \n",
       "226939                 4                 0           0       0         0   \n",
       "\n",
       "        os_other  os_windows  browser_chrome  browser_firefox  browser_opera  \\\n",
       "199773         1           0               0                0              0   \n",
       "105821         1           0               0                0              0   \n",
       "275074         1           0               0                0              0   \n",
       "313162         1           0               0                0              0   \n",
       "226939         1           0               0                0              0   \n",
       "\n",
       "        ...  categories_science  categories_shopping  categories_society  \\\n",
       "199773  ...            0.008142                  0.0            0.018333   \n",
       "105821  ...            0.000000                  0.0            0.000000   \n",
       "275074  ...            0.000000                  0.0            0.000000   \n",
       "313162  ...            0.000000                  0.0            0.000000   \n",
       "226939  ...            0.000000                  0.0            0.000000   \n",
       "\n",
       "        categories_sports  categories_styleandfashion  \\\n",
       "199773           0.080833                         0.0   \n",
       "105821           0.000000                         0.0   \n",
       "275074           0.041538                         0.0   \n",
       "313162           0.053333                         0.0   \n",
       "226939           0.000000                         0.0   \n",
       "\n",
       "        categories_technologyandcomputing  categories_travel  \\\n",
       "199773                           0.015833                0.0   \n",
       "105821                           0.430000                0.0   \n",
       "275074                           0.087692                0.0   \n",
       "313162                           0.000000                0.0   \n",
       "226939                           0.380000                0.0   \n",
       "\n",
       "        categories_uncategorized  Pdisc  P_1  \n",
       "199773                  0.041667      0  0.0  \n",
       "105821                  0.000000      0  0.0  \n",
       "275074                  0.000000      0  0.0  \n",
       "313162                  0.000000      0  0.0  \n",
       "226939                  0.000000      0  0.0  \n",
       "\n",
       "[5 rows x 70 columns]"
      ]
     },
     "execution_count": 39,
     "metadata": {},
     "output_type": "execute_result"
    }
   ],
   "source": [
    "data2 = pd.concat([X_test,y_test],axis=1,join='inner') \n",
    "data2['P_1'] = random_forest.predict_proba(X_test)[:,1] #calcola la probabilita che il dato cade e' classificato come churn\n",
    "data2.sort_values('P_1', inplace=True)\n",
    "data2.head() "
   ]
  },
  {
   "cell_type": "code",
   "execution_count": 40,
   "metadata": {
    "colab": {
     "base_uri": "https://localhost:8080/"
    },
    "id": "JFG8MC8BErZh",
    "outputId": "e9ae55fe-ccf1-4342-efbb-d3eca3eff531"
   },
   "outputs": [
    {
     "name": "stdout",
     "output_type": "stream",
     "text": [
      "Decile: [0.    0.01  0.02  0.045 0.81 ]\n"
     ]
    }
   ],
   "source": [
    "from scipy import stats\n",
    "deciles = stats.scoreatpercentile(data2['P_1'], np.arange(20, 101, 20))\n",
    "print('Decile:', deciles)"
   ]
  },
  {
   "cell_type": "code",
   "execution_count": 41,
   "metadata": {
    "colab": {
     "base_uri": "https://localhost:8080/"
    },
    "id": "_5zK-pJCFyN3",
    "outputId": "24f1a8f9-0c00-46b9-e675-537d97a411d0"
   },
   "outputs": [
    {
     "name": "stdout",
     "output_type": "stream",
     "text": [
      "[0.014449834056676028, 0.0181781045751634, 0.0221609477124183, 0.07996323529411764]\n"
     ]
    }
   ],
   "source": [
    "i = round(len(X_test)/5) # i = 19585 observations x group\n",
    "mean_1 = data2[0:2*i]['Pdisc'].mean()\n",
    "mean_2 = data2[2*i+1:3*i]['Pdisc'].mean()\n",
    "mean_3 = data2[3*i+1:4*i]['Pdisc'].mean()\n",
    "mean_4 = data2[4*i+1:]['Pdisc'].mean()\n",
    "\n",
    "means = [mean_1, mean_2, mean_3, mean_4]\n",
    "print(means) #how many churners in each group "
   ]
  },
  {
   "cell_type": "code",
   "execution_count": 42,
   "metadata": {
    "id": "wgIibeMdTu9y"
   },
   "outputs": [],
   "source": [
    "from numpy.ma.core import zeros #for visualization\n",
    "yDec = zeros(4)\n",
    "yErrDec = zeros(4)\n",
    "\n",
    "for i in range(0,4):\n",
    "  yDec[i] = (deciles[i]+deciles[i+1])/2\n",
    "  yErrDec[i] = (deciles[i+1]-deciles[i])/2"
   ]
  },
  {
   "cell_type": "code",
   "execution_count": 43,
   "metadata": {
    "colab": {
     "base_uri": "https://localhost:8080/"
    },
    "id": "8FwLNrcmWy_u",
    "outputId": "cf7e8284-ab07-4e7f-8ec3-a86b3633d3e6"
   },
   "outputs": [
    {
     "name": "stdout",
     "output_type": "stream",
     "text": [
      "[0.005  0.015  0.0325 0.4275] [0.005  0.005  0.0125 0.3825]\n"
     ]
    }
   ],
   "source": [
    "print(yDec, yErrDec)"
   ]
  },
  {
   "cell_type": "code",
   "execution_count": 44,
   "metadata": {
    "id": "UqKxs2PyU6Le"
   },
   "outputs": [],
   "source": [
    "xval = [0,1,2,3]"
   ]
  },
  {
   "cell_type": "code",
   "execution_count": 45,
   "metadata": {
    "colab": {
     "base_uri": "https://localhost:8080/",
     "height": 300
    },
    "id": "ybCmW9GLJs0d",
    "outputId": "11005810-4d27-494a-b305-380412f63cf0"
   },
   "outputs": [
    {
     "data": {
      "text/plain": [
       "<matplotlib.legend.Legend at 0x24c0157fe80>"
      ]
     },
     "execution_count": 45,
     "metadata": {},
     "output_type": "execute_result"
    },
    {
     "data": {
      "image/png": "[encoded data removed]",
      "text/plain": [
       "<Figure size 432x288 with 1 Axes>"
      ]
     },
     "metadata": {
      "needs_background": "light"
     },
     "output_type": "display_data"
    }
   ],
   "source": [
    "fig = plt.figure()\n",
    "ax = fig.add_subplot(111)\n",
    "ax.grid(visible = True)\n",
    "ax.errorbar(xval, yDec, yerr=yErrDec, fmt='k,') #intervalli di probabilita' predette dal mio modello\n",
    "ax.plot(means, 'ro') #percentuale di churners dal test set\n",
    "ax.set_ylabel(\"Percentage of churners\")\n",
    "ax.set_xlabel(\"Subgroups\")\n",
    "ax.legend(['Means','Deciles'])  "
   ]
  },
  {
   "cell_type": "code",
   "execution_count": 46,
   "metadata": {
    "colab": {
     "base_uri": "https://localhost:8080/",
     "height": 302
    },
    "id": "ONgbXToQ7Y95",
    "outputId": "70723b12-fbdf-4219-f2ef-dc86b5393a1c"
   },
   "outputs": [
    {
     "data": {
      "text/plain": [
       "<matplotlib.legend.Legend at 0x24c015620d0>"
      ]
     },
     "execution_count": 46,
     "metadata": {},
     "output_type": "execute_result"
    },
    {
     "data": {
      "image/png": "[encoded data removed]",
      "text/plain": [
       "<Figure size 432x288 with 1 Axes>"
      ]
     },
     "metadata": {
      "needs_background": "light"
     },
     "output_type": "display_data"
    }
   ],
   "source": [
    "#ZOOM\n",
    "fig = plt.figure()\n",
    "ax = fig.add_subplot(111)\n",
    "ax.grid(visible = True)\n",
    "ax.errorbar(xval, yDec, yerr=yErrDec, fmt='k,') #probability range\n",
    "ax.plot(means, 'ro') \n",
    "ax.set_ylim([0, 0.1])\n",
    "ax.set_ylabel(\"Percentage of churners\")\n",
    "ax.set_xlabel(\"Subgroups\")\n",
    "ax.legend(['Means','Deciles']) "
   ]
  },
  {
   "cell_type": "markdown",
   "metadata": {
    "id": "Sgc6a_XG6PlY"
   },
   "source": [
    "**Model evalution**"
   ]
  },
  {
   "cell_type": "code",
   "execution_count": 47,
   "metadata": {
    "colab": {
     "base_uri": "https://localhost:8080/",
     "height": 251
    },
    "id": "PDyplVrv6WP_",
    "outputId": "fbd369a0-f7cc-4e68-ab1f-1ef778a4e83f"
   },
   "outputs": [
    {
     "data": {
      "text/html": [
       "<div>\n",
       "<style scoped>\n",
       "    .dataframe tbody tr th:only-of-type {\n",
       "        vertical-align: middle;\n",
       "    }\n",
       "\n",
       "    .dataframe tbody tr th {\n",
       "        vertical-align: top;\n",
       "    }\n",
       "\n",
       "    .dataframe thead th {\n",
       "        text-align: right;\n",
       "    }\n",
       "</style>\n",
       "<table border=\"1\" class=\"dataframe\">\n",
       "  <thead>\n",
       "    <tr style=\"text-align: right;\">\n",
       "      <th></th>\n",
       "      <th>Model</th>\n",
       "      <th>Score</th>\n",
       "      <th>Test Score</th>\n",
       "    </tr>\n",
       "  </thead>\n",
       "  <tbody>\n",
       "    <tr>\n",
       "      <th>0</th>\n",
       "      <td>Logistic Regression</td>\n",
       "      <td>97.03</td>\n",
       "      <td>97.02</td>\n",
       "    </tr>\n",
       "    <tr>\n",
       "      <th>2</th>\n",
       "      <td>Random Forest</td>\n",
       "      <td>99.96</td>\n",
       "      <td>96.99</td>\n",
       "    </tr>\n",
       "    <tr>\n",
       "      <th>1</th>\n",
       "      <td>Gaussian Naive Bayes</td>\n",
       "      <td>82.38</td>\n",
       "      <td>82.35</td>\n",
       "    </tr>\n",
       "  </tbody>\n",
       "</table>\n",
       "</div>"
      ],
      "text/plain": [
       "                  Model  Score  Test Score\n",
       "0   Logistic Regression  97.03       97.02\n",
       "2         Random Forest  99.96       96.99\n",
       "1  Gaussian Naive Bayes  82.38       82.35"
      ]
     },
     "execution_count": 47,
     "metadata": {},
     "output_type": "execute_result"
    }
   ],
   "source": [
    "models = pd.DataFrame({\n",
    "    'Model': [ 'Logistic Regression', 'Gaussian Naive Bayes','Random Forest'],\n",
    "    'Score': [ logreg_score, gauss_score, random_forest_score],\n",
    "    'Test Score': [ logreg_score_test, gauss_score_test, random_forest_score_test]})\n",
    "models.sort_values(by='Test Score', ascending=False)"
   ]
  },
  {
   "cell_type": "markdown",
   "metadata": {
    "id": "XzYDsM8wpk_L"
   },
   "source": [
    "# K-Folds\n",
    "It is a statistical technique that can be used when there is a good observed sample numerosity. Specifically, so-called k-fold cross-validation consists of dividing the total data set into k parts of equal numerosity, and at each step, the kª part of the data set comes to be the validation part, while the remaining part always constitutes the training set. Thus one trains the model for each of the k parts, thus avoiding problems of overfitting, but also of asymmetric sampling (and thus suffering from bias) of the observed sample, which is typical of splitting the data into only two parts (i.e., training/validation). In other words, one splits the observed sample into groups of equal numerosity, iteratively excludes one group at a time and tries to predict it with the non-excluded groups in order to check the goodness-of-fit of the prediction model used."
   ]
  },
  {
   "cell_type": "code",
   "execution_count": 48,
   "metadata": {
    "id": "rinDnhR15bD3"
   },
   "outputs": [],
   "source": [
    "df_normal = pd.read_csv(r'C:\\Users\\Simone\\Documents\\Desktop\\Università-Bicocca\\DS LAB-28\\df_project\\normalizzato_senza_dup')\n",
    "df_normal = df_normal.drop('external_id',axis = 1)\n",
    "\n"
   ]
  },
  {
   "cell_type": "code",
   "execution_count": 49,
   "metadata": {
    "id": "HqJAzdlm5lpe"
   },
   "outputs": [],
   "source": [
    "X = df_normal.drop([\"Pdisc\"], axis=1, inplace= False)\n",
    "y = df_normal[\"Pdisc\"]\n"
   ]
  },
  {
   "cell_type": "code",
   "execution_count": 50,
   "metadata": {
    "id": "jOt1D5asrBYA"
   },
   "outputs": [],
   "source": [
    "kf = StratifiedKFold(n_splits=3)"
   ]
  },
  {
   "cell_type": "markdown",
   "metadata": {
    "id": "jBO8dKAIvpZq"
   },
   "source": [
    "**Logistic Regression**"
   ]
  },
  {
   "cell_type": "code",
   "execution_count": 51,
   "metadata": {
    "id": "k_4NJ0oevr-i"
   },
   "outputs": [
    {
     "name": "stdout",
     "output_type": "stream",
     "text": [
      "########################## TENTATIVO 0 ##########################\n",
      "Logistic Regression Training Score: \n",
      " 97.03\n",
      "Logistic Regression Test Score: \n",
      " 97.03\n",
      "Coefficient: \n",
      " [[-3.24424573e-01 -1.58049131e-01 -1.45329994e-01 -2.76985367e-01\n",
      "  -2.05911086e-01  6.59310831e-02 -4.36834471e-01 -9.63096072e-02\n",
      "  -6.26799000e-01 -9.56491361e-02  7.89609808e-02 -5.16087078e-01\n",
      "  -5.39379826e-01 -8.55014955e-01 -5.54729971e-01 -2.14938378e-01\n",
      "  -1.21561106e+00 -3.61568255e-01 -1.20800224e+00 -1.46040063e-01\n",
      "   3.34234672e-01  4.88930046e-01  8.58969138e-01 -4.61299926e-01\n",
      "  -8.72753011e-02 -1.06982290e-01 -3.90078019e-02 -1.94255392e-01\n",
      "  -1.51125731e-01 -2.30361146e-01 -2.07980575e-01 -9.37119133e-02\n",
      "  -3.96737336e-02  1.18382847e-01  8.27803996e-03  9.15139007e-02\n",
      "  -2.95167503e-02  8.62622507e-02 -4.50236442e-01 -7.65857616e-02\n",
      "   1.55007675e-02  1.34196652e-04 -8.84652833e-05  4.98588331e-01\n",
      "   9.13114379e-02  1.83336099e-01  1.46261788e-01 -1.28802545e-01\n",
      "   2.04489903e-02  6.84129069e-01 -4.58542008e-01 -1.88694443e-01\n",
      "  -4.94792297e-03  2.80273541e-02  1.61613350e-01  2.34247892e-01\n",
      "   9.27344820e-02 -3.83849994e-02  8.67982695e-02 -1.46506146e-01\n",
      "  -1.14183429e+00  1.26252245e+00 -4.54847931e-02  5.96160890e-01\n",
      "  -1.77581777e-01  4.88549591e-01  1.47029438e-01  6.01283463e-01]]\n",
      "Intercept: \n",
      " [-1.1998174]\n",
      "Accuracy: \n",
      " 0.9702862919902578\n",
      "Confusion Matrix: \n",
      " [[105572      0]\n",
      " [  3233      0]]\n"
     ]
    },
    {
     "name": "stderr",
     "output_type": "stream",
     "text": [
      "C:\\Users\\Simone\\anaconda3\\lib\\site-packages\\sklearn\\metrics\\_classification.py:1334: UndefinedMetricWarning: Precision and F-score are ill-defined and being set to 0.0 in labels with no predicted samples. Use `zero_division` parameter to control this behavior.\n",
      "  _warn_prf(average, modifier, msg_start, len(result))\n",
      "C:\\Users\\Simone\\anaconda3\\lib\\site-packages\\sklearn\\metrics\\_classification.py:1334: UndefinedMetricWarning: Precision and F-score are ill-defined and being set to 0.0 in labels with no predicted samples. Use `zero_division` parameter to control this behavior.\n",
      "  _warn_prf(average, modifier, msg_start, len(result))\n",
      "C:\\Users\\Simone\\anaconda3\\lib\\site-packages\\sklearn\\metrics\\_classification.py:1334: UndefinedMetricWarning: Precision and F-score are ill-defined and being set to 0.0 in labels with no predicted samples. Use `zero_division` parameter to control this behavior.\n",
      "  _warn_prf(average, modifier, msg_start, len(result))\n"
     ]
    },
    {
     "name": "stdout",
     "output_type": "stream",
     "text": [
      "Classification Report: \n",
      "               precision    recall  f1-score   support\n",
      "\n",
      "           0       0.97      1.00      0.98    105572\n",
      "           1       0.00      0.00      0.00      3233\n",
      "\n",
      "    accuracy                           0.97    108805\n",
      "   macro avg       0.49      0.50      0.49    108805\n",
      "weighted avg       0.94      0.97      0.96    108805\n",
      "\n",
      "########################## TENTATIVO 1 ##########################\n",
      "Logistic Regression Training Score: \n",
      " 97.03\n",
      "Logistic Regression Test Score: \n",
      " 97.03\n",
      "Coefficient: \n",
      " [[-4.63069122e-01 -2.79076766e-01  1.11530285e-01 -2.39031448e-01\n",
      "  -2.77299105e-01  4.27081111e-02 -4.23197337e-01 -8.35706504e-02\n",
      "  -2.40221825e-01 -3.63043137e-01 -7.96213163e-02 -5.36206145e-01\n",
      "  -5.32140516e-01 -8.62859991e-01 -6.16395084e-01 -2.18446422e-01\n",
      "  -1.20186824e+00 -3.72027149e-01 -1.25136385e+00 -1.09976456e-01\n",
      "   4.26140141e-01  5.94798919e-01  3.52642880e-01 -4.15809815e-01\n",
      "  -8.58880722e-02 -4.52498409e-02 -7.78087420e-02 -2.41179681e-01\n",
      "  -2.18000593e-01 -2.01129257e-01 -2.49511753e-01 -2.81782155e-02\n",
      "  -2.88328046e-03  1.05314745e-01  1.76668260e-02  1.18899873e-01\n",
      "   9.01753255e-02  3.07200125e-01 -5.68866676e-02  4.15150482e-02\n",
      "  -4.31947981e-02  1.41748573e-04 -7.09480420e-04  7.72666551e-01\n",
      "  -2.50011485e-01  1.00873928e-02 -4.80047678e-03 -2.26287425e-01\n",
      "  -1.56298326e-01  2.44186814e-01 -3.84752808e-01  9.01969532e-02\n",
      "   1.82185289e-01  1.50683644e-01  6.70069989e-02  3.72780699e-01\n",
      "   2.16607122e-01  5.64339574e-02  7.85108946e-02 -4.77620858e-02\n",
      "  -8.98788057e-01  1.22243077e+00  2.08184156e-01  5.29778302e-01\n",
      "   5.52083817e-03  7.52669468e-01 -7.03330684e-02  5.15070537e-01]]\n",
      "Intercept: \n",
      " [-1.2257145]\n",
      "Accuracy: \n",
      " 0.9702862919902578\n",
      "Confusion Matrix: \n",
      " [[105572      0]\n",
      " [  3233      0]]\n"
     ]
    },
    {
     "name": "stderr",
     "output_type": "stream",
     "text": [
      "C:\\Users\\Simone\\anaconda3\\lib\\site-packages\\sklearn\\metrics\\_classification.py:1334: UndefinedMetricWarning: Precision and F-score are ill-defined and being set to 0.0 in labels with no predicted samples. Use `zero_division` parameter to control this behavior.\n",
      "  _warn_prf(average, modifier, msg_start, len(result))\n",
      "C:\\Users\\Simone\\anaconda3\\lib\\site-packages\\sklearn\\metrics\\_classification.py:1334: UndefinedMetricWarning: Precision and F-score are ill-defined and being set to 0.0 in labels with no predicted samples. Use `zero_division` parameter to control this behavior.\n",
      "  _warn_prf(average, modifier, msg_start, len(result))\n",
      "C:\\Users\\Simone\\anaconda3\\lib\\site-packages\\sklearn\\metrics\\_classification.py:1334: UndefinedMetricWarning: Precision and F-score are ill-defined and being set to 0.0 in labels with no predicted samples. Use `zero_division` parameter to control this behavior.\n",
      "  _warn_prf(average, modifier, msg_start, len(result))\n"
     ]
    },
    {
     "name": "stdout",
     "output_type": "stream",
     "text": [
      "Classification Report: \n",
      "               precision    recall  f1-score   support\n",
      "\n",
      "           0       0.97      1.00      0.98    105572\n",
      "           1       0.00      0.00      0.00      3233\n",
      "\n",
      "    accuracy                           0.97    108805\n",
      "   macro avg       0.49      0.50      0.49    108805\n",
      "weighted avg       0.94      0.97      0.96    108805\n",
      "\n",
      "########################## TENTATIVO 2 ##########################\n",
      "Logistic Regression Training Score: \n",
      " 97.03\n",
      "Logistic Regression Test Score: \n",
      " 97.03\n",
      "Coefficient: \n",
      " [[ 8.37234530e-02 -6.35468001e-01  2.40358150e-01 -4.78942152e-01\n",
      "  -1.36045876e-01 -1.43813909e-01 -5.64254444e-01 -1.72219873e-01\n",
      "  -4.04611812e-01  2.00158726e-01  1.58366887e-01 -5.22483509e-01\n",
      "  -5.11239197e-01 -8.67953641e-01 -5.95569363e-01 -2.55177379e-01\n",
      "  -9.99916433e-01 -3.65775600e-01 -1.08313875e+00 -1.30740347e-01\n",
      "   4.54430599e-01  4.94825062e-01  8.71709763e-01 -2.83965172e-01\n",
      "  -7.96386489e-02 -1.64457748e-01 -1.14912033e-01 -9.89721733e-02\n",
      "  -1.42367220e-01 -1.16849005e-01 -2.21373686e-01  1.21960886e-02\n",
      "  -1.30740823e-01 -2.56774651e-02 -8.70950569e-02 -8.00633744e-02\n",
      "  -2.42014856e-02  2.73347317e-02 -2.76707425e-01  4.82772349e-02\n",
      "   2.59409954e-01 -1.95610140e-05  9.77087844e-05  6.53708669e-01\n",
      "   1.90061416e-01  6.12127866e-02  6.45258987e-01 -2.97417044e-01\n",
      "  -4.73409771e-01  3.96643421e-01 -1.37860697e-01  6.02375051e-01\n",
      "   2.40690047e-01  3.26482117e-01  8.22566198e-02  9.63618780e-01\n",
      "   3.39750260e-01  4.10951044e-02  3.32582562e-01 -1.42848831e-01\n",
      "  -8.60522821e-01  1.54169929e+00  2.99342877e-01  1.98080266e+00\n",
      "  -4.27165829e-01  9.35738173e-01  1.51496624e-01  7.23409186e-01]]\n",
      "Intercept: \n",
      " [-1.222395]\n",
      "Accuracy: \n",
      " 0.9702952097349362\n",
      "Confusion Matrix: \n",
      " [[105572      0]\n",
      " [  3232      0]]\n",
      "Classification Report: \n",
      "               precision    recall  f1-score   support\n",
      "\n",
      "           0       0.97      1.00      0.98    105572\n",
      "           1       0.00      0.00      0.00      3232\n",
      "\n",
      "    accuracy                           0.97    108804\n",
      "   macro avg       0.49      0.50      0.49    108804\n",
      "weighted avg       0.94      0.97      0.96    108804\n",
      "\n"
     ]
    },
    {
     "name": "stderr",
     "output_type": "stream",
     "text": [
      "C:\\Users\\Simone\\anaconda3\\lib\\site-packages\\sklearn\\metrics\\_classification.py:1334: UndefinedMetricWarning: Precision and F-score are ill-defined and being set to 0.0 in labels with no predicted samples. Use `zero_division` parameter to control this behavior.\n",
      "  _warn_prf(average, modifier, msg_start, len(result))\n",
      "C:\\Users\\Simone\\anaconda3\\lib\\site-packages\\sklearn\\metrics\\_classification.py:1334: UndefinedMetricWarning: Precision and F-score are ill-defined and being set to 0.0 in labels with no predicted samples. Use `zero_division` parameter to control this behavior.\n",
      "  _warn_prf(average, modifier, msg_start, len(result))\n",
      "C:\\Users\\Simone\\anaconda3\\lib\\site-packages\\sklearn\\metrics\\_classification.py:1334: UndefinedMetricWarning: Precision and F-score are ill-defined and being set to 0.0 in labels with no predicted samples. Use `zero_division` parameter to control this behavior.\n",
      "  _warn_prf(average, modifier, msg_start, len(result))\n"
     ]
    }
   ],
   "source": [
    "logreg = LogisticRegression(max_iter=3000)\n",
    "n=0\n",
    "\n",
    "for train_index, test_index in kf.split(X,y):\n",
    "  X_train, X_test = X.loc[train_index], X.loc[test_index]\n",
    "  y_train, y_test = y.loc[train_index], y.loc[test_index]\n",
    "  logreg.fit(X_train, y_train)\n",
    "  log_predicted= logreg.predict(X_test)\n",
    "\n",
    "  logreg_score = round(logreg.score(X_train, y_train) * 100, 2)\n",
    "  logreg_score_test = round(logreg.score(X_test, y_test) * 100, 2)\n",
    "  #Equation coefficient and Intercept\n",
    "  print('########################## TENTATIVO', n, '##########################')\n",
    "  print('Logistic Regression Training Score: \\n', logreg_score)\n",
    "  print('Logistic Regression Test Score: \\n', logreg_score_test)\n",
    "  print('Coefficient: \\n', logreg.coef_)\n",
    "  print('Intercept: \\n', logreg.intercept_)\n",
    "  print('Accuracy: \\n', accuracy_score(y_test,log_predicted))\n",
    "  print('Confusion Matrix: \\n', confusion_matrix(y_test,log_predicted))\n",
    "  print('Classification Report: \\n', classification_report(y_test,log_predicted))\n",
    "\n",
    "  n+=1"
   ]
  },
  {
   "cell_type": "markdown",
   "metadata": {
    "id": "BFY1wFw04cnA"
   },
   "source": [
    "**Naive Bayes**"
   ]
  },
  {
   "cell_type": "code",
   "execution_count": 52,
   "metadata": {
    "id": "T3CEU9Qov1Uv"
   },
   "outputs": [
    {
     "name": "stdout",
     "output_type": "stream",
     "text": [
      "########################## TENTATIVO 0 ##########################\n",
      "Gaussian Score: \n",
      " 78.98\n",
      "Gaussian Test Score: \n",
      " 78.91\n",
      "Accuracy: \n",
      " 0.7891457194062773\n",
      "[[84416 21156]\n",
      " [ 1786  1447]]\n",
      "              precision    recall  f1-score   support\n",
      "\n",
      "           0       0.98      0.80      0.88    105572\n",
      "           1       0.06      0.45      0.11      3233\n",
      "\n",
      "    accuracy                           0.79    108805\n",
      "   macro avg       0.52      0.62      0.50    108805\n",
      "weighted avg       0.95      0.79      0.86    108805\n",
      "\n",
      "########################## TENTATIVO 1 ##########################\n",
      "Gaussian Score: \n",
      " 82.48\n",
      "Gaussian Test Score: \n",
      " 82.51\n",
      "Accuracy: \n",
      " 0.8251275217131566\n",
      "[[88417 17155]\n",
      " [ 1872  1361]]\n",
      "              precision    recall  f1-score   support\n",
      "\n",
      "           0       0.98      0.84      0.90    105572\n",
      "           1       0.07      0.42      0.13      3233\n",
      "\n",
      "    accuracy                           0.83    108805\n",
      "   macro avg       0.53      0.63      0.51    108805\n",
      "weighted avg       0.95      0.83      0.88    108805\n",
      "\n",
      "########################## TENTATIVO 2 ##########################\n",
      "Gaussian Score: \n",
      " 82.28\n",
      "Gaussian Test Score: \n",
      " 82.09\n",
      "Accuracy: \n",
      " 0.8209348920995552\n",
      "[[87915 17657]\n",
      " [ 1826  1406]]\n",
      "              precision    recall  f1-score   support\n",
      "\n",
      "           0       0.98      0.83      0.90    105572\n",
      "           1       0.07      0.44      0.13      3232\n",
      "\n",
      "    accuracy                           0.82    108804\n",
      "   macro avg       0.53      0.63      0.51    108804\n",
      "weighted avg       0.95      0.82      0.88    108804\n",
      "\n"
     ]
    }
   ],
   "source": [
    "n=0\n",
    "\n",
    "for train_index, test_index in kf.split(X,y):\n",
    "  X_train, X_test = X.loc[train_index], X.loc[test_index]\n",
    "  y_train, y_test = y.loc[train_index], y.loc[test_index]\n",
    "  gaussian = GaussianNB()\n",
    "  gaussian.fit(X_train, y_train)\n",
    "  #Predict Output\n",
    "  gauss_predicted = gaussian.predict(X_test)\n",
    "\n",
    "  gauss_score = round(gaussian.score(X_train, y_train) * 100, 2)\n",
    "  gauss_score_test = round(gaussian.score(X_test, y_test) * 100, 2)\n",
    "  print('########################## TENTATIVO', n, '##########################')\n",
    "  print('Gaussian Score: \\n', gauss_score)\n",
    "  print('Gaussian Test Score: \\n', gauss_score_test)\n",
    "  print('Accuracy: \\n', accuracy_score(y_test, gauss_predicted))\n",
    "  print(confusion_matrix(y_test,gauss_predicted))\n",
    "  print(classification_report(y_test,gauss_predicted))\n",
    "\n",
    "  n+=1"
   ]
  },
  {
   "cell_type": "markdown",
   "metadata": {
    "id": "mKyDvC-H77DL"
   },
   "source": [
    "**Random Forest**\n"
   ]
  },
  {
   "cell_type": "code",
   "execution_count": 53,
   "metadata": {
    "id": "UjeS19Vpve6M"
   },
   "outputs": [
    {
     "name": "stdout",
     "output_type": "stream",
     "text": [
      "########################## TENTATIVO 0 ##########################\n",
      "Random Forest Score: \n",
      " 99.97\n",
      "Random Forest Test Score: \n",
      " 96.99\n",
      "Accuracy: \n",
      " 0.9698818988097974\n",
      "[[105521     51]\n",
      " [  3226      7]]\n",
      "              precision    recall  f1-score   support\n",
      "\n",
      "           0       0.97      1.00      0.98    105572\n",
      "           1       0.12      0.00      0.00      3233\n",
      "\n",
      "    accuracy                           0.97    108805\n",
      "   macro avg       0.55      0.50      0.49    108805\n",
      "weighted avg       0.95      0.97      0.96    108805\n",
      "\n",
      "########################## TENTATIVO 1 ##########################\n",
      "Random Forest Score: \n",
      " 99.96\n",
      "Random Forest Test Score: \n",
      " 97.01\n",
      "Accuracy: \n",
      " 0.9700565231377235\n",
      "[[105536     36]\n",
      " [  3222     11]]\n",
      "              precision    recall  f1-score   support\n",
      "\n",
      "           0       0.97      1.00      0.98    105572\n",
      "           1       0.23      0.00      0.01      3233\n",
      "\n",
      "    accuracy                           0.97    108805\n",
      "   macro avg       0.60      0.50      0.50    108805\n",
      "weighted avg       0.95      0.97      0.96    108805\n",
      "\n",
      "########################## TENTATIVO 2 ##########################\n",
      "Random Forest Score: \n",
      " 99.97\n",
      "Random Forest Test Score: \n",
      " 97.0\n",
      "Accuracy: \n",
      " 0.9700470570934893\n",
      "[[105538     34]\n",
      " [  3225      7]]\n",
      "              precision    recall  f1-score   support\n",
      "\n",
      "           0       0.97      1.00      0.98    105572\n",
      "           1       0.17      0.00      0.00      3232\n",
      "\n",
      "    accuracy                           0.97    108804\n",
      "   macro avg       0.57      0.50      0.49    108804\n",
      "weighted avg       0.95      0.97      0.96    108804\n",
      "\n"
     ]
    }
   ],
   "source": [
    "n=0\n",
    "\n",
    "for train_index, test_index in kf.split(X,y):\n",
    "  X_train, X_test = X.loc[train_index], X.loc[test_index]\n",
    "  y_train, y_test = y.loc[train_index], y.loc[test_index]\n",
    "  random_forest = RandomForestClassifier(n_estimators=100)\n",
    "  random_forest.fit(X_train, y_train)\n",
    "  #Predict Output\n",
    "  rf_predicted = random_forest.predict(X_test)\n",
    "\n",
    "  random_forest_score = round(random_forest.score(X_train, y_train) * 100, 2)\n",
    "  random_forest_score_test = round(random_forest.score(X_test, y_test) * 100, 2)\n",
    "  print('########################## TENTATIVO', n, '##########################')\n",
    "  print('Random Forest Score: \\n', random_forest_score)\n",
    "  print('Random Forest Test Score: \\n', random_forest_score_test)\n",
    "  print('Accuracy: \\n', accuracy_score(y_test,rf_predicted))\n",
    "  print(confusion_matrix(y_test,rf_predicted))\n",
    "  print(classification_report(y_test,rf_predicted))\n",
    "\n",
    "  n+=1"
   ]
  },
  {
   "cell_type": "markdown",
   "metadata": {
    "id": "riivrEpA8A3G"
   },
   "source": [
    "**Reti Neurali**"
   ]
  },
  {
   "cell_type": "code",
   "execution_count": 54,
   "metadata": {
    "id": "s1V0a6dL79UY"
   },
   "outputs": [
    {
     "name": "stdout",
     "output_type": "stream",
     "text": [
      "Iteration 1, loss = 0.15608864\n",
      "Iteration 2, loss = 0.12308546\n",
      "Iteration 3, loss = 0.12254507\n",
      "Iteration 4, loss = 0.12244132\n",
      "Iteration 5, loss = 0.12165593\n",
      "Iteration 6, loss = 0.12206444\n",
      "Iteration 7, loss = 0.12175832\n",
      "Iteration 8, loss = 0.12040615\n",
      "Iteration 9, loss = 0.11908756\n",
      "Iteration 10, loss = 0.11950070\n",
      "Iteration 11, loss = 0.11870572\n",
      "Iteration 12, loss = 0.11847414\n",
      "Iteration 13, loss = 0.11825457\n",
      "Iteration 14, loss = 0.11862140\n",
      "Iteration 15, loss = 0.11831310\n",
      "Iteration 16, loss = 0.11798672\n",
      "Iteration 17, loss = 0.11875212\n",
      "Iteration 18, loss = 0.11823246\n",
      "Iteration 19, loss = 0.11823074\n",
      "Iteration 20, loss = 0.11822628\n",
      "Iteration 21, loss = 0.11810012\n",
      "Iteration 22, loss = 0.11818574\n",
      "Iteration 23, loss = 0.11754312\n",
      "Iteration 24, loss = 0.11786849\n",
      "Iteration 25, loss = 0.11811225\n",
      "Iteration 26, loss = 0.11752203\n",
      "Iteration 27, loss = 0.11753788\n",
      "Iteration 28, loss = 0.11817708\n",
      "Iteration 29, loss = 0.11755261\n",
      "Iteration 30, loss = 0.11783006\n",
      "Iteration 31, loss = 0.11776412\n",
      "Iteration 32, loss = 0.11734785\n",
      "Iteration 33, loss = 0.11733270\n",
      "Iteration 34, loss = 0.11775544\n",
      "Iteration 35, loss = 0.11730507\n",
      "Iteration 36, loss = 0.11813596\n",
      "Iteration 37, loss = 0.11791723\n",
      "Iteration 38, loss = 0.11769484\n",
      "Iteration 39, loss = 0.11737040\n",
      "Iteration 40, loss = 0.11773732\n",
      "Iteration 41, loss = 0.11786703\n",
      "Iteration 42, loss = 0.11756150\n",
      "Iteration 43, loss = 0.11762771\n",
      "Training loss did not improve more than tol=0.000100 for 10 consecutive epochs. Stopping.\n",
      "Accuracy: 0.9702862919902578\n",
      "Iteration 1, loss = 0.15629717\n",
      "Iteration 2, loss = 0.12404216\n",
      "Iteration 3, loss = 0.12274284\n",
      "Iteration 4, loss = 0.12166577\n",
      "Iteration 5, loss = 0.12182088\n",
      "Iteration 6, loss = 0.12126526\n",
      "Iteration 7, loss = 0.12123535\n",
      "Iteration 8, loss = 0.12050472\n",
      "Iteration 9, loss = 0.12024481\n",
      "Iteration 10, loss = 0.11961249\n",
      "Iteration 11, loss = 0.11943416\n",
      "Iteration 12, loss = 0.11922036\n",
      "Iteration 13, loss = 0.11890331\n",
      "Iteration 14, loss = 0.11829377\n",
      "Iteration 15, loss = 0.11794048\n",
      "Iteration 16, loss = 0.11858685\n",
      "Iteration 17, loss = 0.11832052\n",
      "Iteration 18, loss = 0.11841513\n",
      "Iteration 19, loss = 0.11791470\n",
      "Iteration 20, loss = 0.11783043\n",
      "Iteration 21, loss = 0.11792415\n",
      "Iteration 22, loss = 0.11774514\n",
      "Iteration 23, loss = 0.11867872\n",
      "Iteration 24, loss = 0.11824284\n",
      "Iteration 25, loss = 0.11867111\n",
      "Iteration 26, loss = 0.11848280\n",
      "Training loss did not improve more than tol=0.000100 for 10 consecutive epochs. Stopping.\n",
      "Accuracy: 0.9702219567115482\n",
      "Iteration 1, loss = 0.15446045\n",
      "Iteration 2, loss = 0.12399184\n",
      "Iteration 3, loss = 0.12287365\n",
      "Iteration 4, loss = 0.12213258\n",
      "Iteration 5, loss = 0.12198775\n",
      "Iteration 6, loss = 0.12207994\n",
      "Iteration 7, loss = 0.12181612\n",
      "Iteration 8, loss = 0.12181565\n",
      "Iteration 9, loss = 0.12158405\n",
      "Iteration 10, loss = 0.12111509\n",
      "Iteration 11, loss = 0.12105426\n",
      "Iteration 12, loss = 0.12067601\n",
      "Iteration 13, loss = 0.12073205\n",
      "Iteration 14, loss = 0.12002732\n",
      "Iteration 15, loss = 0.12009644\n",
      "Iteration 16, loss = 0.11994413\n",
      "Iteration 17, loss = 0.11967106\n",
      "Iteration 18, loss = 0.11947541\n",
      "Iteration 19, loss = 0.11937344\n",
      "Iteration 20, loss = 0.12000387\n",
      "Iteration 21, loss = 0.12043556\n",
      "Iteration 22, loss = 0.11959504\n",
      "Iteration 23, loss = 0.11956565\n",
      "Iteration 24, loss = 0.11900741\n",
      "Iteration 25, loss = 0.11954916\n",
      "Iteration 26, loss = 0.12128985\n",
      "Iteration 27, loss = 0.11965363\n",
      "Iteration 28, loss = 0.12063604\n",
      "Iteration 29, loss = 0.11920582\n",
      "Iteration 30, loss = 0.11912408\n",
      "Iteration 31, loss = 0.11996864\n",
      "Iteration 32, loss = 0.11878540\n",
      "Iteration 33, loss = 0.11853364\n",
      "Iteration 34, loss = 0.11827401\n",
      "Iteration 35, loss = 0.11833554\n",
      "Iteration 36, loss = 0.11873939\n",
      "Iteration 37, loss = 0.12053759\n",
      "Iteration 38, loss = 0.11885473\n",
      "Iteration 39, loss = 0.11946522\n",
      "Iteration 40, loss = 0.11880773\n",
      "Iteration 41, loss = 0.11925849\n",
      "Iteration 42, loss = 0.11871034\n",
      "Iteration 43, loss = 0.11817469\n",
      "Iteration 44, loss = 0.11976791\n",
      "Iteration 45, loss = 0.11878250\n",
      "Training loss did not improve more than tol=0.000100 for 10 consecutive epochs. Stopping.\n",
      "Accuracy: 0.9703044005735083\n"
     ]
    }
   ],
   "source": [
    "n=0\n",
    "\n",
    "for train_index, test_index in kf.split(X,y):\n",
    "  X_train, X_test = X.loc[train_index], X.loc[test_index]\n",
    "  y_train, y_test = y.loc[train_index], y.loc[test_index]\n",
    "\n",
    "  clf = MLPClassifier(hidden_layer_sizes=(6,5),\n",
    "                    random_state=5,\n",
    "                    verbose=True,\n",
    "                    learning_rate_init=0.01)\n",
    "\n",
    "  # Fit data onto the model\n",
    "  clf.fit(X_train,y_train)\n",
    "\n",
    "  ypred=clf.predict(X_test)\n",
    "\n",
    "  # Calcuate accuracy\n",
    "  print('Accuracy:', accuracy_score(y_test,ypred))\n",
    "\n",
    "  n+=1"
   ]
  },
  {
   "cell_type": "markdown",
   "metadata": {
    "id": "P80rGVrG8KRu"
   },
   "source": [
    "**SVM**"
   ]
  },
  {
   "cell_type": "code",
   "execution_count": null,
   "metadata": {
    "id": "xikVN7m38FUA"
   },
   "outputs": [],
   "source": [
    "n=0\n",
    "\n",
    "for train_index, test_index in kf.split(X,y):\n",
    "  X_train, X_test = X.loc[train_index], X.loc[test_index]\n",
    "  y_train, y_test = y.loc[train_index], y.loc[test_index]\n",
    "\n",
    "  svclassifier = SVC(kernel='linear')\n",
    "  svclassifier.fit(X_train, y_train)\n",
    "\n",
    "  y_pred = svclassifier.predict(X_test)\n",
    "\n",
    "  print(confusion_matrix(y_test,y_pred))\n",
    "  print(classification_report(y_test,y_pred))\n",
    "\n",
    "  n+=1"
   ]
  },
  {
   "cell_type": "markdown",
   "metadata": {
    "id": "ewTQlXtE8S0b"
   },
   "source": [
    "# Feature selection\n",
    "It is the process of reducing the number of input variables when developing a predictive model. It is desirable to reduce the number of input variables both to reduce the computational cost of modeling and, in some cases, to improve model performance."
   ]
  },
  {
   "cell_type": "code",
   "execution_count": null,
   "metadata": {
    "id": "9lr-6QRy_qRh"
   },
   "outputs": [],
   "source": [
    "data = pd.read_csv('/content/drive/MyDrive/Progetto DS LAB/normalizzato_senza_dup')\n",
    "X = data.drop([\"Pdisc\"], axis=1, inplace= False)\n",
    "y = data[\"Pdisc\"]\n",
    "X.head()"
   ]
  },
  {
   "cell_type": "code",
   "execution_count": null,
   "metadata": {
    "id": "wTxK5Op0AU62"
   },
   "outputs": [],
   "source": [
    "X_train, X_test, y_train, y_test = train_test_split(X, y, test_size=0.30, random_state=101)\n",
    "print (X_train.shape)\n",
    "print (y_train.shape)\n",
    "print (X_test.shape)\n",
    "print (y_test.shape)"
   ]
  },
  {
   "cell_type": "code",
   "execution_count": null,
   "metadata": {
    "id": "u_3G_lKcAo5p"
   },
   "outputs": [],
   "source": [
    "bestfeatures = SelectKBest( )\n",
    "fit = bestfeatures.fit(X,y)\n",
    "dfscores = pd.DataFrame(fit.scores_)\n",
    "dfcolumns = pd.DataFrame(X.columns)\n",
    "#concat two dataframes for better visualization \n",
    "featureScores = pd.concat([dfcolumns,dfscores],axis=1)\n",
    "featureScores.columns = ['Specs','Score']  #naming the dataframe columns\n",
    "univariataselection= print(featureScores.nlargest(15,'Score'))  #print all the features\n",
    "univariataselection"
   ]
  },
  {
   "cell_type": "code",
   "execution_count": null,
   "metadata": {
    "id": "NVHxXgP2A4U3"
   },
   "outputs": [],
   "source": [
    "model = ExtraTreesClassifier()\n",
    "model.fit(X,y)\n",
    "print(model.feature_importances_) #use inbuilt class feature_importances of tree based classifiers\n",
    "#plot graph of feature importances for better visualization\n",
    "feat_importances = pd.Series(model.feature_importances_, index=X.columns)\n",
    "feat_importances.nlargest(13).plot(kind='barh')\n",
    "plt.show()"
   ]
  },
  {
   "cell_type": "markdown",
   "metadata": {
    "id": "anqXq82rBzHS"
   },
   "source": [
    "# Undersampling\n",
    "It is a technique for balancing unbalanced data sets by keeping all the data in the minority class and decreasing the size of the majority class. It is one of several techniques that data scientists can use to extract more accurate information from originally unbalanced data sets.\n"
   ]
  },
  {
   "cell_type": "code",
   "execution_count": null,
   "metadata": {
    "id": "bxfHPa27BTGP"
   },
   "outputs": [],
   "source": [
    "data = pd.read_csv('/content/drive/MyDrive/Progetto DS LAB/normalizzato_senza_dup')\n",
    "X = data.drop([\"Pdisc\"], axis=1, inplace= False)\n",
    "y= data[\"Pdisc\"]\n",
    "X_train, X_test, y_train, y_test = train_test_split(X, y, test_size=0.30, random_state=101)"
   ]
  },
  {
   "cell_type": "code",
   "execution_count": null,
   "metadata": {
    "id": "7MClopJ5CXdz"
   },
   "outputs": [],
   "source": [
    "rus = RandomUnderSampler(random_state=42) #equal size\n",
    "X_rus, y_rus = rus.fit_resample(X_train, y_train)\n",
    "print('Resampled dataset shape %s' % Counter(y_rus))"
   ]
  },
  {
   "cell_type": "code",
   "execution_count": null,
   "metadata": {
    "id": "71F9AII1DWlu"
   },
   "outputs": [],
   "source": [
    "X_rus_train, X_rus_test, y_rus_train, y_rus_test = train_test_split(X_rus, y_rus, test_size=0.30, random_state=101)\n",
    "print (X_rus_train.shape)\n",
    "print (y_rus_train.shape)\n",
    "print (X_test.shape)\n",
    "print (y_test.shape)"
   ]
  },
  {
   "cell_type": "markdown",
   "metadata": {
    "id": "erbUDcaZD1Fy"
   },
   "source": [
    "**Logistic Regression**"
   ]
  },
  {
   "cell_type": "code",
   "execution_count": null,
   "metadata": {
    "id": "u3ZaEbUeD0Hh"
   },
   "outputs": [],
   "source": [
    "# Create logistic regression object\n",
    "logreg = LogisticRegression()\n",
    "# Train the model using the training sets and check score\n",
    "logreg.fit(X_rus_train, y_rus_train)\n",
    "#Predict Output\n",
    "log_predicted= logreg.predict(X_test)\n",
    "logreg_score = round(logreg.score(X_rus_train, y_rus_train) * 100, 2)\n",
    "logreg_score_test = round(logreg.score(X_test, y_test) * 100, 2)\n",
    "#Equation coefficient and Intercept\n",
    "print('Logistic Regression Training Score: \\n', logreg_score)\n",
    "print('Logistic Regression Test Score: \\n', logreg_score_test)\n",
    "print('Coefficient: \\n', logreg.coef_)\n",
    "print('Intercept: \\n', logreg.intercept_)\n",
    "print('Accuracy: \\n', accuracy_score(y_test,log_predicted))\n",
    "print('Confusion Matrix: \\n', confusion_matrix(y_test,log_predicted))\n",
    "print('Classification Report: \\n', classification_report(y_test,log_predicted))\n",
    "\n",
    "sns.heatmap(confusion_matrix(y_test,log_predicted),annot=True,fmt=\"d\")"
   ]
  },
  {
   "cell_type": "markdown",
   "metadata": {
    "id": "T9arkZALD9fa"
   },
   "source": [
    "**Naive Bayes**"
   ]
  },
  {
   "cell_type": "code",
   "execution_count": null,
   "metadata": {
    "id": "VNuBWax7DvHe"
   },
   "outputs": [],
   "source": [
    "gaussian = GaussianNB()\n",
    "gaussian.fit(X_rus_train, y_rus_train)\n",
    "#Predict Output\n",
    "gauss_predicted = gaussian.predict(X_test)\n",
    "gauss_score = round(gaussian.score(X_rus_train, y_rus_train) * 100, 2)\n",
    "gauss_score_test = round(gaussian.score(X_test, y_test) * 100, 2)\n",
    "print('Gaussian Score: \\n', gauss_score)\n",
    "print('Gaussian Test Score: \\n', gauss_score_test)\n",
    "print('Accuracy: \\n', accuracy_score(y_test, gauss_predicted))\n",
    "print(confusion_matrix(y_test,gauss_predicted))\n",
    "print(classification_report(y_test,gauss_predicted))"
   ]
  },
  {
   "cell_type": "markdown",
   "metadata": {
    "id": "3sBfWYKqED4I"
   },
   "source": [
    "**Random Forest**"
   ]
  },
  {
   "cell_type": "code",
   "execution_count": null,
   "metadata": {
    "id": "L1LQvBuXEAuI"
   },
   "outputs": [],
   "source": [
    "random_forest = RandomForestClassifier(n_estimators=100)\n",
    "random_forest.fit(X_rus_train, y_rus_train)\n",
    "#Predict Output\n",
    "rf_predicted = random_forest.predict(X_test)\n",
    "random_forest_score = round(random_forest.score(X_rus_train, y_rus_train) * 100, 2)\n",
    "random_forest_score_test = round(random_forest.score(X_test, y_test) * 100, 2)\n",
    "print('Random Forest Score: \\n', random_forest_score)\n",
    "print('Random Forest Test Score: \\n', random_forest_score_test)\n",
    "print('Accuracy: \\n', accuracy_score(y_test,rf_predicted))\n",
    "print(confusion_matrix(y_test,rf_predicted))\n",
    "print(classification_report(y_test,rf_predicted))"
   ]
  },
  {
   "cell_type": "markdown",
   "metadata": {
    "id": "Ubr1XuGxELvN"
   },
   "source": [
    "**Multi Layer Perceptron**"
   ]
  },
  {
   "cell_type": "code",
   "execution_count": null,
   "metadata": {
    "id": "p49dMvZsEHt2"
   },
   "outputs": [],
   "source": [
    "# Create model object\n",
    "clf = MLPClassifier(hidden_layer_sizes=(6,5),\n",
    "                    random_state=5,\n",
    "                    verbose=True,\n",
    "                    learning_rate_init=0.01)\n",
    "\n",
    "# Fit data onto the model\n",
    "clf.fit(X_rus_train,y_rus_train)"
   ]
  },
  {
   "cell_type": "markdown",
   "metadata": {
    "id": "2i-N4Y8GEYyK"
   },
   "source": [
    "**Support Vector Machines**"
   ]
  },
  {
   "cell_type": "code",
   "execution_count": null,
   "metadata": {
    "id": "XTeb9pOuEQtk"
   },
   "outputs": [],
   "source": [
    "svclassifier = SVC(kernel='linear')\n",
    "svclassifier.fit(X_rus_train, y_rus_train)\n",
    "y_train = svclassifier.predict(X_test)\n",
    "print(confusion_matrix(y_test,y_train))\n",
    "print(classification_report(y_test,y_train))"
   ]
  },
  {
   "cell_type": "markdown",
   "metadata": {
    "id": "aKPwn_gaEtu3"
   },
   "source": [
    "# Oversampling\n",
    "The process of sampling a signal at a sampling rate significantly above the Nyquist frequency. In theory, a bandwidth-limited signal can be reconstructed perfectly if sampled at or above the Nyquist frequency. Nyquist frequency is defined as twice the bandwidth of the signal. Oversampling can improve resolution and signal-to-noise ratio and can be useful in avoiding aliasing and phase distortion, reducing the performance requirements of anti-aliasing filters.\n",
    "\n",
    "A signal is said to be oversampled by a factor of N if it is sampled at N times the Nyquist frequency."
   ]
  },
  {
   "cell_type": "code",
   "execution_count": null,
   "metadata": {
    "id": "HSkOcpzYE-WZ"
   },
   "outputs": [],
   "source": [
    "X_train, X_test, y_train, y_test = train_test_split(X, y, test_size=0.30, random_state=101)\n",
    "print (X_train.shape)\n",
    "print (y_train.shape)\n",
    "print (X_test.shape)\n",
    "print (y_test.shape)\n"
   ]
  },
  {
   "cell_type": "code",
   "execution_count": null,
   "metadata": {
    "id": "8TnZsfpGFSaO"
   },
   "outputs": [],
   "source": [
    "X_resampledS, y_resampledS = SMOTE().fit_resample(X_train, y_train) #smote -> equal sampling\n",
    "print(sorted(Counter(y_resampledS).items()))"
   ]
  },
  {
   "cell_type": "markdown",
   "metadata": {
    "id": "flg2srtYFWVr"
   },
   "source": [
    "**Logistic Regression**"
   ]
  },
  {
   "cell_type": "code",
   "execution_count": null,
   "metadata": {
    "id": "GLH0QB2lFAE_"
   },
   "outputs": [],
   "source": [
    "logreg = LogisticRegression()\n",
    "# Train the model using the training sets and check score\n",
    "logreg.fit(X_resampledS, y_resampledS)\n",
    "#Predict Output\n",
    "log_predicted= logreg.predict(X_test)\n",
    "logreg_score = round(logreg.score(X_resampledS, y_resampledS) * 100, 2)\n",
    "logreg_score_test = round(logreg.score(X_test, y_test) * 100, 2)\n",
    "#Equation coefficient and Intercept\n",
    "print('Logistic Regression Training Score: \\n', logreg_score)\n",
    "print('Logistic Regression Test Score: \\n', logreg_score_test)\n",
    "print('Coefficient: \\n', logreg.coef_)\n",
    "print('Intercept: \\n', logreg.intercept_)\n",
    "print('Accuracy: \\n', accuracy_score(y_test,log_predicted))\n",
    "print('Confusion Matrix: \\n', confusion_matrix(y_test,log_predicted))\n",
    "print('Classification Report: \\n', classification_report(y_test,log_predicted))\n",
    "\n",
    "sns.heatmap(confusion_matrix(y_test,log_predicted),annot=True,fmt=\"d\")"
   ]
  },
  {
   "cell_type": "markdown",
   "metadata": {
    "id": "5sIJDga-Fdo7"
   },
   "source": [
    "**Naive Bayes**"
   ]
  },
  {
   "cell_type": "code",
   "execution_count": null,
   "metadata": {
    "id": "NugXyXKcFfCI"
   },
   "outputs": [],
   "source": [
    "gaussian = GaussianNB()\n",
    "gaussian.fit(X_resampledS, y_resampledS)\n",
    "#Predict Output\n",
    "gauss_predicted = gaussian.predict(X_test)"
   ]
  },
  {
   "cell_type": "code",
   "execution_count": null,
   "metadata": {
    "id": "QaeAn39uFi5e"
   },
   "outputs": [],
   "source": [
    "gauss_score = round(gaussian.score(X_resampledS, y_resampledS) * 100, 2)\n",
    "gauss_score_test = round(gaussian.score(X_test, y_test) * 100, 2)\n",
    "print('Gaussian Score: \\n', gauss_score)\n",
    "print('Gaussian Test Score: \\n', gauss_score_test)\n",
    "print('Accuracy: \\n', accuracy_score(y_test, gauss_predicted))\n",
    "print(confusion_matrix(y_test,gauss_predicted))\n",
    "print(classification_report(y_test,gauss_predicted))\n",
    "\n",
    "sns.heatmap(confusion_matrix(y_test,gauss_predicted),annot=True,fmt=\"d\")"
   ]
  },
  {
   "cell_type": "markdown",
   "metadata": {
    "id": "QZTJhrhNFlaO"
   },
   "source": [
    "**Random Forest**"
   ]
  },
  {
   "cell_type": "code",
   "execution_count": null,
   "metadata": {
    "id": "iqxx3cxkFnVy"
   },
   "outputs": [],
   "source": [
    "random_forest = RandomForestClassifier(n_estimators=100)\n",
    "random_forest.fit(X_resampledS, y_resampledS)\n",
    "#Predict Output\n",
    "rf_predicted = random_forest.predict(X_test)\n",
    "random_forest_score = round(random_forest.score(X_resampledS, y_resampledS) * 100, 2)\n",
    "random_forest_score_test = round(random_forest.score(X_test, y_test) * 100, 2)\n",
    "print('Random Forest Score: \\n', random_forest_score)\n",
    "print('Random Forest Test Score: \\n', random_forest_score_test)\n",
    "print('Accuracy: \\n', accuracy_score(y_test,rf_predicted))\n",
    "print(confusion_matrix(y_test,rf_predicted))\n",
    "print(classification_report(y_test,rf_predicted))"
   ]
  },
  {
   "cell_type": "markdown",
   "metadata": {
    "id": "PSa9_XF4FzUn"
   },
   "source": [
    "**Multi Layer Perceptron**"
   ]
  },
  {
   "cell_type": "code",
   "execution_count": null,
   "metadata": {
    "id": "17K657FdF27h"
   },
   "outputs": [],
   "source": [
    "# Create model object\n",
    "clf = MLPClassifier(hidden_layer_sizes=(6,5),\n",
    "                    random_state=5,\n",
    "                    verbose=True,\n",
    "                    learning_rate_init=0.01)\n",
    "\n",
    "# Fit data onto the model\n",
    "clf.fit(X_resampledS,y_resampledS)\n",
    "# Make prediction on test dataset\n",
    "ypred=clf.predict(X_test)\n",
    "\n",
    "# Import accuracy score \n",
    "from sklearn.metrics import accuracy_score\n",
    "\n",
    "# Calcuate accuracy\n",
    "accuracy_score(y_test,ypred)"
   ]
  },
  {
   "cell_type": "markdown",
   "metadata": {
    "id": "nq2SpTrhGBbh"
   },
   "source": [
    "**SVM**"
   ]
  },
  {
   "cell_type": "code",
   "execution_count": null,
   "metadata": {
    "id": "NAw9U_WrGCz8"
   },
   "outputs": [],
   "source": [
    "svclassifier = SVC(kernel='linear')\n",
    "svclassifier.fit(X_resampledS, y_resampledS)\n",
    "y_predict = svclassifier.predict(X_test)\n",
    "print(confusion_matrix(y_test,y_predict))\n",
    "print(classification_report(y_test,y_predict))"
   ]
  },
  {
   "cell_type": "markdown",
   "metadata": {
    "id": "MkRziOUXGc7K"
   },
   "source": [
    "# Feature selection + Undersampling\n",
    "We choose the cariables obtained from the feature and apply undersampling."
   ]
  },
  {
   "cell_type": "code",
   "execution_count": null,
   "metadata": {
    "id": "4yZZXdxwGhV7"
   },
   "outputs": [],
   "source": [
    "X = normalizzato[[\"FLG_MYSKYHD\", \"SPORT\", \"FLG_SKY_ON_DEMAND\", \"CINEMA\", \"SKY_FAMIGLIA\", \"STB_MYSKYHD\", \"STB_HD\", \"CALCIO\", \"FLG_MV\", \"FLG_MYSKY\", \"FLG_HD\"]]\n",
    "y = normalizzato[\"Pdisc\"]"
   ]
  },
  {
   "cell_type": "code",
   "execution_count": null,
   "metadata": {
    "id": "4zgWSbQC6P8t"
   },
   "outputs": [],
   "source": [
    "X_train, X_test, y_train, y_test = train_test_split(X, y, test_size=0.30, random_state=101)"
   ]
  },
  {
   "cell_type": "code",
   "execution_count": null,
   "metadata": {
    "id": "kej9eL4b6Rb7"
   },
   "outputs": [],
   "source": [
    "rus = RandomUnderSampler(random_state=42) #equal size\n",
    "X_rus, y_rus = rus.fit_resample(X_train, y_train)\n",
    "print('Resampled dataset shape %s' % Counter(y_rus))"
   ]
  },
  {
   "cell_type": "code",
   "execution_count": null,
   "metadata": {
    "id": "Jy7fcT646TXS"
   },
   "outputs": [],
   "source": [
    "X_rus_train, X_rus_test, y_rus_train, y_rus_test = train_test_split(X_rus, y_rus, test_size=0.30, random_state=101)\n",
    "print (X_rus_train.shape)\n",
    "print (y_rus_train.shape)\n",
    "print (X_test.shape)\n",
    "print (y_test.shape)"
   ]
  },
  {
   "cell_type": "markdown",
   "metadata": {
    "id": "DDfKk_-K6aIo"
   },
   "source": [
    "**Logistic Regression**"
   ]
  },
  {
   "cell_type": "code",
   "execution_count": null,
   "metadata": {
    "id": "bX4w90Ia6WO5"
   },
   "outputs": [],
   "source": [
    "# Create logistic regression object\n",
    "logreg = LogisticRegression()\n",
    "# Train the model using the training sets and check score\n",
    "logreg.fit(X_rus_train, y_rus_train)\n",
    "#Predict Output\n",
    "log_predicted= logreg.predict(X_test)\n",
    "logreg_score = round(logreg.score(X_rus_train, y_rus_train) * 100, 2)\n",
    "logreg_score_test = round(logreg.score(X_test, y_test) * 100, 2)\n",
    "#Equation coefficient and Intercept\n",
    "print('Logistic Regression Training Score: \\n', logreg_score)\n",
    "print('Logistic Regression Test Score: \\n', logreg_score_test)\n",
    "print('Coefficient: \\n', logreg.coef_)\n",
    "print('Intercept: \\n', logreg.intercept_)\n",
    "print('Accuracy: \\n', accuracy_score(y_test,log_predicted))\n",
    "print('Confusion Matrix: \\n', confusion_matrix(y_test,log_predicted))\n",
    "print('Classification Report: \\n', classification_report(y_test,log_predicted))\n",
    "\n",
    "sns.heatmap(confusion_matrix(y_test,log_predicted),annot=True,fmt=\"d\")"
   ]
  },
  {
   "cell_type": "markdown",
   "metadata": {
    "id": "1Q43dIC36gB5"
   },
   "source": [
    "**Naive Bayes**"
   ]
  },
  {
   "cell_type": "code",
   "execution_count": null,
   "metadata": {
    "id": "ZYuPCR6M6dcs"
   },
   "outputs": [],
   "source": [
    "gaussian = GaussianNB()\n",
    "gaussian.fit(X_rus_train, y_rus_train)\n",
    "#Predict Output\n",
    "gauss_predicted = gaussian.predict(X_test)\n",
    "gauss_score = round(gaussian.score(X_rus_train, y_rus_train) * 100, 2)\n",
    "gauss_score_test = round(gaussian.score(X_test, y_test) * 100, 2)\n",
    "print('Gaussian Score: \\n', gauss_score)\n",
    "print('Gaussian Test Score: \\n', gauss_score_test)\n",
    "print('Accuracy: \\n', accuracy_score(y_test, gauss_predicted))\n",
    "print(confusion_matrix(y_test,gauss_predicted))\n",
    "print(classification_report(y_test,gauss_predicted))\n",
    "\n",
    "sns.heatmap(confusion_matrix(y_test,gauss_predicted),annot=True,fmt=\"d\")"
   ]
  },
  {
   "cell_type": "markdown",
   "metadata": {
    "id": "TMxqqFn76lRD"
   },
   "source": [
    "**Random Forests**"
   ]
  },
  {
   "cell_type": "code",
   "execution_count": null,
   "metadata": {
    "id": "YXTpwcGJ6igI"
   },
   "outputs": [],
   "source": [
    "random_forest = RandomForestClassifier(n_estimators=100)\n",
    "random_forest.fit(X_rus_train, y_rus_train)\n",
    "#Predict Output\n",
    "rf_predicted = random_forest.predict(X_test)\n",
    "random_forest_score = round(random_forest.score(X_rus_train, y_rus_train) * 100, 2)\n",
    "random_forest_score_test = round(random_forest.score(X_test, y_test) * 100, 2)\n",
    "print('Random Forest Score: \\n', random_forest_score)\n",
    "print('Random Forest Test Score: \\n', random_forest_score_test)\n",
    "print('Accuracy: \\n', accuracy_score(y_test,rf_predicted))\n",
    "print(confusion_matrix(y_test,rf_predicted))\n",
    "print(classification_report(y_test,rf_predicted))"
   ]
  },
  {
   "cell_type": "markdown",
   "metadata": {
    "id": "J8ixcW9w6rlS"
   },
   "source": [
    "**Multi Layer Perceptron**"
   ]
  },
  {
   "cell_type": "code",
   "execution_count": null,
   "metadata": {
    "id": "3teHKjJ06n-i"
   },
   "outputs": [],
   "source": [
    "from sklearn.neural_network import MLPClassifier\n",
    "\n",
    "# Create model object\n",
    "clf = MLPClassifier(hidden_layer_sizes=(6,5),\n",
    "                    random_state=5,\n",
    "                    verbose=True,\n",
    "                    learning_rate_init=0.01)\n",
    "\n",
    "# Fit data onto the model\n",
    "clf.fit(X_rus_train,y_rus_train)"
   ]
  },
  {
   "cell_type": "markdown",
   "metadata": {
    "id": "N3pAQZ_b6zKr"
   },
   "source": [
    "**SVM**"
   ]
  },
  {
   "cell_type": "code",
   "execution_count": null,
   "metadata": {
    "id": "TU8Iskec60PJ"
   },
   "outputs": [],
   "source": [
    "svclassifier = SVC(kernel='linear')\n",
    "svclassifier.fit(X_rus_train, y_rus_train)\n",
    "y_train = svclassifier.predict(X_test)\n",
    "print(confusion_matrix(y_test,y_train))\n",
    "print(classification_report(y_test,y_train))"
   ]
  },
  {
   "cell_type": "markdown",
   "metadata": {
    "id": "yi4CfU4N65o4"
   },
   "source": [
    "**Model Evalution**"
   ]
  },
  {
   "cell_type": "code",
   "execution_count": null,
   "metadata": {
    "id": "aqvqzChZ65DC"
   },
   "outputs": [],
   "source": [
    "#We can now rank our evaluation of all the models to choose the best one for our problem. \n",
    "models = pd.DataFrame({\n",
    "    'Model': [ 'Logistic Regression', 'Gaussian Naive Bayes','Random Forest'],\n",
    "    'Score': [ logreg_score, gauss_score, random_forest_score],\n",
    "    'Test Score': [ logreg_score_test, gauss_score_test, random_forest_score_test]})\n",
    "models.sort_values(by='Test Score', ascending=False)"
   ]
  },
  {
   "cell_type": "markdown",
   "metadata": {
    "id": "VhygwtI_7BH7"
   },
   "source": [
    "# Feature selection + Oversampling\n"
   ]
  },
  {
   "cell_type": "code",
   "execution_count": null,
   "metadata": {
    "id": "8DcsUDlb7DqE"
   },
   "outputs": [],
   "source": [
    "X = normalizzato[[\"FLG_MYSKYHD\", \"SPORT\", \"FLG_SKY_ON_DEMAND\", \"CINEMA\", \"SKY_FAMIGLIA\", \"STB_MYSKYHD\", \"STB_HD\", \"CALCIO\", \"FLG_MV\", \"FLG_MYSKY\", \"FLG_HD\"]]\n",
    "y= normalizzato[\"Pdisc\"]"
   ]
  },
  {
   "cell_type": "code",
   "execution_count": null,
   "metadata": {
    "id": "2AvGlYGr7Rjl"
   },
   "outputs": [],
   "source": [
    "X_train, X_test, y_train, y_test = train_test_split(X, y, test_size=0.30, random_state=101)\n",
    "print (X_train.shape)\n",
    "print (y_train.shape)\n",
    "print (X_test.shape)\n",
    "print (y_test.shape)"
   ]
  },
  {
   "cell_type": "code",
   "execution_count": null,
   "metadata": {
    "id": "miCuRf5D7WBn"
   },
   "outputs": [],
   "source": [
    "X_resampledS, y_resampledS = SMOTE().fit_resample(X_train, y_train) #smote -> equal sampling\n",
    "print(sorted(Counter(y_resampledS).items()))"
   ]
  },
  {
   "cell_type": "markdown",
   "metadata": {
    "id": "uPsEaLja7ZP5"
   },
   "source": [
    "**Logistic Regression**"
   ]
  },
  {
   "cell_type": "code",
   "execution_count": null,
   "metadata": {
    "id": "MK8rSMuZ7c8U"
   },
   "outputs": [],
   "source": [
    "# Create logistic regression object\n",
    "logreg = LogisticRegression()\n",
    "# Train the model using the training sets and check score\n",
    "logreg.fit(X_resampledS, y_resampledS)\n",
    "#Predict Output\n",
    "log_predicted= logreg.predict(X_test)"
   ]
  },
  {
   "cell_type": "code",
   "execution_count": null,
   "metadata": {
    "id": "SKsp5JL77hi2"
   },
   "outputs": [],
   "source": [
    "logreg_score = round(logreg.score(X_resampledS, y_resampledS) * 100, 2)\n",
    "logreg_score_test = round(logreg.score(X_test, y_test) * 100, 2)\n",
    "#Equation coefficient and Intercept\n",
    "print('Logistic Regression Training Score: \\n', logreg_score)\n",
    "print('Logistic Regression Test Score: \\n', logreg_score_test)\n",
    "print('Coefficient: \\n', logreg.coef_)\n",
    "print('Intercept: \\n', logreg.intercept_)\n",
    "print('Accuracy: \\n', accuracy_score(y_test,log_predicted))\n",
    "print('Confusion Matrix: \\n', confusion_matrix(y_test,log_predicted))\n",
    "print('Classification Report: \\n', classification_report(y_test,log_predicted))\n",
    "\n",
    "sns.heatmap(confusion_matrix(y_test,log_predicted),annot=True,fmt=\"d\")"
   ]
  },
  {
   "cell_type": "markdown",
   "metadata": {
    "id": "j-wmrpUt7n0m"
   },
   "source": [
    "**Naive Bayes**"
   ]
  },
  {
   "cell_type": "code",
   "execution_count": null,
   "metadata": {
    "id": "OSVVxc3j7dZS"
   },
   "outputs": [],
   "source": [
    "gaussian = GaussianNB()\n",
    "gaussian.fit(X_resampledS, y_resampledS)\n",
    "#Predict Output\n",
    "gauss_predicted = gaussian.predict(X_test)\n",
    "gauss_score = round(gaussian.score(X_resampledS, y_resampledS) * 100, 2)\n",
    "gauss_score_test = round(gaussian.score(X_test, y_test) * 100, 2)\n",
    "print('Gaussian Score: \\n', gauss_score)\n",
    "print('Gaussian Test Score: \\n', gauss_score_test)\n",
    "print('Accuracy: \\n', accuracy_score(y_test, gauss_predicted))\n",
    "print(confusion_matrix(y_test,gauss_predicted))\n",
    "print(classification_report(y_test,gauss_predicted))\n",
    "\n",
    "sns.heatmap(confusion_matrix(y_test,gauss_predicted),annot=True,fmt=\"d\")"
   ]
  },
  {
   "cell_type": "markdown",
   "metadata": {
    "id": "_o7r-OcT7uT0"
   },
   "source": [
    "**Random Forest**\n"
   ]
  },
  {
   "cell_type": "code",
   "execution_count": null,
   "metadata": {
    "id": "GYBS-mz87wlU"
   },
   "outputs": [],
   "source": [
    "random_forest = RandomForestClassifier(n_estimators=100)\n",
    "random_forest.fit(X_resampledS, y_resampledS)\n",
    "#Predict Output\n",
    "rf_predicted = random_forest.predict(X_test)\n",
    "random_forest_score = round(random_forest.score(X_resampledS, y_resampledS) * 100, 2)\n",
    "random_forest_score_test = round(random_forest.score(X_test, y_test) * 100, 2)\n",
    "print('Random Forest Score: \\n', random_forest_score)\n",
    "print('Random Forest Test Score: \\n', random_forest_score_test)\n",
    "print('Accuracy: \\n', accuracy_score(y_test,rf_predicted))\n",
    "print(confusion_matrix(y_test,rf_predicted))\n",
    "print(classification_report(y_test,rf_predicted))"
   ]
  },
  {
   "cell_type": "markdown",
   "metadata": {
    "id": "K5ucdw8C72Lw"
   },
   "source": [
    "**Multi Layer Perceptron**"
   ]
  },
  {
   "cell_type": "code",
   "execution_count": null,
   "metadata": {
    "id": "TEPUSLJA7_PM"
   },
   "outputs": [],
   "source": [
    "# Create model object\n",
    "clf = MLPClassifier(hidden_layer_sizes=(6,5),\n",
    "                    random_state=5,\n",
    "                    verbose=True,\n",
    "                    learning_rate_init=0.01)\n",
    "\n",
    "# Fit data onto the model\n",
    "clf.fit(X_resampledS,y_resampledS)\n",
    "ypred=clf.predict(X_test)\n",
    "\n",
    "# Calcuate accuracy\n",
    "accuracy_score(y_test,ypred)"
   ]
  },
  {
   "cell_type": "markdown",
   "metadata": {
    "id": "ji-W7rPu8Gef"
   },
   "source": [
    "**SVM**\n"
   ]
  },
  {
   "cell_type": "code",
   "execution_count": null,
   "metadata": {
    "id": "dgo5KRWs8Lc-"
   },
   "outputs": [],
   "source": [
    "svclassifier = SVC(kernel='linear')\n",
    "svclassifier.fit(X_resampledS, y_resampledS)\n",
    "y_predict = svclassifier.predict(X_test)\n",
    "print(confusion_matrix(y_test,y_predict))\n",
    "print(classification_report(y_test,y_predict))"
   ]
  },
  {
   "cell_type": "markdown",
   "metadata": {
    "id": "k91adERjzREw"
   },
   "source": [
    "# Curve ROC"
   ]
  },
  {
   "cell_type": "code",
   "execution_count": null,
   "metadata": {
    "id": "xTIOR5nbzXab"
   },
   "outputs": [],
   "source": [
    "def plot_roc_curve(fper, tper):\n",
    "    plt.plot(fper, tper, color='red', label='ROC')\n",
    "    plt.plot([0, 1], [0, 1], color='green', linestyle='--')\n",
    "    plt.xlabel('False Positive Rate')\n",
    "    plt.ylabel('True Positive Rate')\n",
    "    plt.title('Receiver Operating Characteristic Curve')\n",
    "    plt.legend()\n",
    "    plt.show()\n",
    "    \n",
    "data_X, cls_lab = make_classification(n_samples=2100, n_classes=2, weights=[1,1], random_state=2)\n",
    "train_X, test_X, train_y, test_y = train_test_split(data_X, cls_lab, test_size=0.5, random_state=2)\n",
    "\n",
    "model =RandomForestClassifier()\n",
    "model.fit(train_X, train_y)\n",
    "\n",
    "prob = model.predict_proba(test_X)\n",
    "prob = probs[:, 1]\n",
    "fper, tper, thresholds = roc_curve(test_y, prob)\n",
    "plot_roc_curve(fper, tper)"
   ]
  },
  {
   "cell_type": "code",
   "execution_count": null,
   "metadata": {},
   "outputs": [],
   "source": []
  }
 ],
 "metadata": {
  "colab": {
   "collapsed_sections": [
    "k91adERjzREw"
   ],
   "provenance": []
  },
  "kernelspec": {
   "display_name": "Python 3",
   "language": "python",
   "name": "python3"
  },
  "language_info": {
   "codemirror_mode": {
    "name": "ipython",
    "version": 3
   },
   "file_extension": ".py",
   "mimetype": "text/x-python",
   "name": "python",
   "nbconvert_exporter": "python",
   "pygments_lexer": "ipython3",
   "version": "3.8.8"
  }
 },
 "nbformat": 4,
 "nbformat_minor": 1
}
